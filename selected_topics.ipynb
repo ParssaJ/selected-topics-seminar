{
 "cells": [
  {
   "metadata": {},
   "cell_type": "markdown",
   "source": "<h4>Runtimes may vary. For this notebook a standard mac mini m2 with 16gb RAM was used</h4>",
   "id": "a90d5bc76414b759"
  },
  {
   "cell_type": "code",
   "id": "initial_id",
   "metadata": {
    "collapsed": true,
    "ExecuteTime": {
     "end_time": "2024-07-07T10:54:32.130338Z",
     "start_time": "2024-07-07T10:54:30.453960Z"
    }
   },
   "source": [
    "import dianna\n",
    "import torchvision.transforms as transforms\n",
    "import torchvision\n",
    "import matplotlib.pyplot as plt\n",
    "import numpy as np\n",
    "import onnxruntime as ort"
   ],
   "outputs": [],
   "execution_count": 1
  },
  {
   "cell_type": "code",
   "id": "99fd69f722da7f4c",
   "metadata": {
    "ExecuteTime": {
     "end_time": "2024-07-07T10:54:32.146264Z",
     "start_time": "2024-07-07T10:54:32.131335Z"
    }
   },
   "source": [
    "transform = transforms.Compose([torchvision.transforms.ToTensor()])\n",
    "trainset = torchvision.datasets.MNIST(root='./data', train=True, download=True, transform=transform)"
   ],
   "outputs": [],
   "execution_count": 2
  },
  {
   "cell_type": "code",
   "id": "39020461ca21ff92",
   "metadata": {
    "ExecuteTime": {
     "end_time": "2024-07-07T10:54:32.148555Z",
     "start_time": "2024-07-07T10:54:32.147016Z"
    }
   },
   "source": [
    "model_path = \"./models/mnist_model.onnx\" # an onnx model containing a cNN for the binary-mnist, classifying as 0 or 1 only\n",
    "axis_labels = {0: 'channels'} # the color channels for the inputs have to be specified in order for dianna to work"
   ],
   "outputs": [],
   "execution_count": 3
  },
  {
   "metadata": {
    "ExecuteTime": {
     "end_time": "2024-07-07T10:54:32.156085Z",
     "start_time": "2024-07-07T10:54:32.150215Z"
    }
   },
   "cell_type": "code",
   "source": [
    "# We will need the session to get the predictions later on for the DAUC-Metric. Dianna works by specifying the model path and abstracts away the instantiation of the session\n",
    "# which is why we have to initiate one ourselves\n",
    "session = ort.InferenceSession(model_path)\n",
    "input_name = session.get_inputs()[0].name\n",
    "output_name = session.get_outputs()[0].name\n",
    "\n",
    " # Use the exponential function after the prediction to negate log-softmaxing. This allows us to interprete the results as a probability vector again\n",
    "predict = lambda input_for_prediction: np.exp(session.run([output_name], {input_name: input_for_prediction}))"
   ],
   "id": "5b66393f2689661f",
   "outputs": [],
   "execution_count": 4
  },
  {
   "metadata": {
    "ExecuteTime": {
     "end_time": "2024-07-07T10:54:32.160818Z",
     "start_time": "2024-07-07T10:54:32.156991Z"
    }
   },
   "cell_type": "code",
   "source": "training_data_with_0_target_class = trainset.data[trainset.targets == 0]",
   "id": "c180cf92c4a2b9dc",
   "outputs": [],
   "execution_count": 5
  },
  {
   "metadata": {
    "ExecuteTime": {
     "end_time": "2024-07-07T10:54:32.163515Z",
     "start_time": "2024-07-07T10:54:32.161756Z"
    }
   },
   "cell_type": "code",
   "source": "first_zero = training_data_with_0_target_class[0]",
   "id": "7067dca89cd66442",
   "outputs": [],
   "execution_count": 6
  },
  {
   "metadata": {
    "ExecuteTime": {
     "end_time": "2024-07-07T10:54:32.231096Z",
     "start_time": "2024-07-07T10:54:32.164033Z"
    }
   },
   "cell_type": "code",
   "source": [
    "# Display the first zero as reference\n",
    "plt.imshow(first_zero, cmap=\"grey\")"
   ],
   "id": "5d75082131759c9d",
   "outputs": [
    {
     "data": {
      "text/plain": [
       "<matplotlib.image.AxesImage at 0x13211f850>"
      ]
     },
     "execution_count": 7,
     "metadata": {},
     "output_type": "execute_result"
    },
    {
     "data": {
      "text/plain": [
       "<Figure size 640x480 with 1 Axes>"
      ],
      "image/png": "[encoded data removed]"
     },
     "metadata": {},
     "output_type": "display_data"
    }
   ],
   "execution_count": 7
  },
  {
   "metadata": {},
   "cell_type": "markdown",
   "source": "------------------- START OF SECTION FOR RISE_PARAMETER_INITIALIZATION -------------",
   "id": "276fa2cf48d01e8e"
  },
  {
   "metadata": {},
   "cell_type": "markdown",
   "source": [
    "<h4>In this Section we generate multiple saliency maps with RISE to heuristically determine, which number of masks is viable in general</h4>\n",
    "As RISE is computionally heavy, the parameter to_be_called is set to False. If (for whatever reason) you wish to run this method, please set the parameter to True in the following cell after the function definition"
   ],
   "id": "d2afc57c74c2d8ff"
  },
  {
   "metadata": {
    "ExecuteTime": {
     "end_time": "2024-07-07T10:54:32.235300Z",
     "start_time": "2024-07-07T10:54:32.232129Z"
    }
   },
   "cell_type": "code",
   "source": [
    "def generate_saliency_maps_for_rise_parameter_intialization(to_be_called:bool=False):\n",
    "    \"\"\"\n",
    "    Generates a grid_picture for the first_zero consisting of saliency maps constructed with RISE.\n",
    "    This method is used in the paper to visually approximate an upper bound for the number of \n",
    "    necessary masks.\n",
    "    :param to_be_called: set this parameter to true, if you want to run this method. As the output will most likely stay \n",
    "                         the same, it does not make any sense to run this method yourself. Please refer to the generated image.\n",
    "    :return: nothing, but the generated image can be found in the \"intended_for_paper\" directory\n",
    "    \"\"\"\n",
    "    if not to_be_called:\n",
    "        return\n",
    "    \n",
    "    fig, ax = plt.subplots(2, 3)\n",
    "    num_of_masks=[[10**1, 10**2, 10**3], [10**4, 10**5, 10**6]]\n",
    "    first_zero_input = first_zero.reshape(1, 28, 28).astype(np.float32)\n",
    "    for i in range(2):\n",
    "        current_masks = num_of_masks[i]\n",
    "        for j in range(3):\n",
    "            saliency_map_rise = dianna.explain_image(model_path, first_zero_input, method=\"RISE\", labels=[0], n_masks=current_masks[j], axis_labels=axis_labels, p_keep=0.5)\n",
    "            ax[i, j].set_title(f\"Masks = {current_masks[j]}\")\n",
    "            ax[i, j].imshow(saliency_map_rise.reshape(28, 28))\n",
    "            ax[i, j].imshow(first_zero.reshape(28, 28), cmap=\"grey\", alpha=.3)\n",
    "            ax[i, j].set_axis_off()\n",
    "    plt.savefig(\"images/intended_for_paper/rise_n_masks.png\")"
   ],
   "id": "2187058762a394b",
   "outputs": [],
   "execution_count": 8
  },
  {
   "metadata": {
    "ExecuteTime": {
     "end_time": "2024-07-07T10:54:32.237411Z",
     "start_time": "2024-07-07T10:54:32.235832Z"
    }
   },
   "cell_type": "code",
   "source": "generate_saliency_maps_for_rise_parameter_intialization(to_be_called=False)",
   "id": "70b4d619216deed",
   "outputs": [],
   "execution_count": 9
  },
  {
   "metadata": {},
   "cell_type": "markdown",
   "source": "------------------- END OF SECTION FOR RISE_PARAMETER_INITIALIZATION -------------",
   "id": "6bcad97bbd009758"
  },
  {
   "metadata": {},
   "cell_type": "markdown",
   "source": [
    "<h4>DAUC-Calculation Section</h4>\n",
    "When generating the pictures, we are also interested in showcasing the DAUC metric. Unfortunately no package was found, that implements the DAUC directly, which is why we do that ourselves. \n",
    "We can delete the corresponding pixels by selecting the maxium values in the saliency map. We will gradually take the most yellow pixels, then replace them, run the model, to get the new confidence. We also want to draw \n",
    "the deleted regions in the picture output for reference."
   ],
   "id": "8b8db23332561f07"
  },
  {
   "metadata": {
    "ExecuteTime": {
     "end_time": "2024-07-07T10:54:32.354953Z",
     "start_time": "2024-07-07T10:54:32.239791Z"
    }
   },
   "cell_type": "code",
   "source": [
    "from scipy.integrate import trapezoid\n",
    "\n",
    "def calc_deletion_metric_and_return_image_with_deleted_areas_and_dauc(original_input, saliency_map):\n",
    "    \"\"\"\n",
    "    Calculates the DAUC-Metric for the given input. The most important pixels are derived from the saliency map provided.\n",
    "    :param original_input: the input on which the DAUC-Metric is inferred\n",
    "    :param saliency_map: is used to determine the most important pixels, which are deleted from the original input\n",
    "    :return: the dauc-score calculated along with the deleted image for reference\n",
    "    \"\"\"\n",
    "    saliency_map_copy = np.copy(saliency_map).reshape(28, 28)\n",
    "    original_input_copy = np.copy(original_input).reshape(28, 28)\n",
    "    \n",
    "    pixels_to_delete = 150\n",
    "    \n",
    "    outputs = []\n",
    "    \n",
    "    for _ in range(pixels_to_delete):\n",
    "        min_value_to_replace_max_with = np.min(saliency_map_copy)\n",
    "        saliency_map_max_value_x_index, saliency_map_max_value_y_index = np.unravel_index(np.argmax(saliency_map_copy), shape=(28, 28))\n",
    "        saliency_map_copy[saliency_map_max_value_x_index][saliency_map_max_value_y_index] = min_value_to_replace_max_with\n",
    "        original_input_copy[saliency_map_max_value_x_index][saliency_map_max_value_y_index] = 0\n",
    "        \n",
    "        predicted_output = predict(original_input_copy.reshape(1, 1, 28, 28))[0, 0, 0] # slicing to only get the output prob for the zero class\n",
    "        \n",
    "        outputs.append(predicted_output)\n",
    "        \n",
    "    outputs = np.asarray(outputs)\n",
    "    deleted_area_under_curve = trapezoid(y=outputs, x=list(range(pixels_to_delete)))\n",
    "    \n",
    "    return original_input_copy, deleted_area_under_curve"
   ],
   "id": "4bbfec919c85e506",
   "outputs": [],
   "execution_count": 10
  },
  {
   "metadata": {},
   "cell_type": "markdown",
   "source": "<h4>Section: Good Explanations are not static. This Method will be used in the Main-Section</h4>",
   "id": "462d63aa16057244"
  },
  {
   "metadata": {
    "ExecuteTime": {
     "end_time": "2024-07-07T10:54:32.358988Z",
     "start_time": "2024-07-07T10:54:32.355731Z"
    }
   },
   "cell_type": "code",
   "source": [
    "def calc_rise_saliency_map_and_save_as_image(image_deleted_areas, index, original_zero):\n",
    "    \"\"\"\n",
    "    This method essentially runs RISE with the images containing the deleted areas and plots the confidence of the model as well.\n",
    "    A high confidence of the model despite deleting the areas, indicates poor performance.\n",
    "    :param image_deleted_areas: the image with the deleted areas, on which we run RISE with an increased number of masks.\n",
    "    :param index: is just used for the names of the images saved\n",
    "    :param original_zero: we use the original zero to overlay the images for reference and to calculate the original confidence of the model\n",
    "    :return: nothing, but the generated images can be found in the saliency_maps_for_hypothesis_testing image folder\n",
    "    \"\"\"\n",
    "    image_deleted_areas = image_deleted_areas.reshape(1, 1, 28, 28).astype(np.float32)\n",
    "    prediction_deleted = predict(image_deleted_areas)[0, 0, 0] # only get zero prediction\n",
    "    prediction_normal = predict(original_zero.reshape(1, 1, 28, 28).astype(np.float32))[0, 0, 0] # only get zero prediction\n",
    "    image_deleted_saliency_map_rise = dianna.explain_image(model_path, image_deleted_areas.reshape(1, 28, 28), method=\"RISE\", labels=[0], n_masks=5*10**3, axis_labels=axis_labels, p_keep=0.5)\n",
    "    fix, ax = plt.subplots(1, 2)\n",
    "    ax[0].set_title(f\"Conf.: {prediction_normal:2f}\")\n",
    "    ax[0].imshow(original_zero.reshape(28, 28), cmap=\"grey\")\n",
    "    ax[0].set_axis_off()\n",
    "    \n",
    "    ax[1].set_title(f\"Conf.: {prediction_deleted:.2f}\")\n",
    "    ax[1].imshow(image_deleted_saliency_map_rise.reshape(28, 28))\n",
    "    ax[1].imshow(image_deleted_areas.reshape(28, 28), cmap=\"grey\", alpha=.3)\n",
    "    ax[1].set_axis_off()\n",
    "    plt.savefig(f\"images/saliency_maps_for_hypothesis_testing/{index+1}_zero_deleted_areas.png\")\n",
    "    plt.close()"
   ],
   "id": "2d7dd9bdd35e8b9e",
   "outputs": [],
   "execution_count": 11
  },
  {
   "metadata": {},
   "cell_type": "markdown",
   "source": "<h4>The Main-Section. In this Section we generate the saliency maps</h4>",
   "id": "6afc07644dac6009"
  },
  {
   "metadata": {
    "ExecuteTime": {
     "end_time": "2024-07-07T10:54:32.363874Z",
     "start_time": "2024-07-07T10:54:32.359829Z"
    }
   },
   "cell_type": "code",
   "source": [
    "def save_heatmaps_side_by_side_with_original_as_png_file(index_as_filename:int, original_zero, \n",
    "                                                         rise_map, image_deleted_rise, dauc_rise, \n",
    "                                                         lime_map, image_deleted_lime, dauc_lime,\n",
    "                                                         shap_map, image_deleted_shap, dauc_shap):\n",
    "    \"\"\"\n",
    "    This method is used the plot the generated saliency maps side by side. We also plot the dauc values generated and the zeros \n",
    "    with the corresponding deleted regions for reference.\n",
    "    :param index_as_filename: the index is only used for the filenames with which the images are stored\n",
    "    :param original_zero: is used for reference only\n",
    "    :param rise_map: saliency map provided with rise\n",
    "    :param image_deleted_rise: the original zero but with the pixels deleted according the dauc-metric\n",
    "    :param dauc_rise: the dauc values calculated\n",
    "    :param lime_map: saliency map generated by LIME\n",
    "    :param image_deleted_lime: the original zero but with the pixels deleted according the dauc-metric\n",
    "    :param dauc_lime: the dauc values calculated\n",
    "    :param shap_map: saliency map generated by KernelSHAP\n",
    "    :param image_deleted_shap: the original zero but with the pixels deleted according the dauc-metric\n",
    "    :param dauc_shap: the dauc values calculated\n",
    "    :return: \n",
    "    \"\"\"\n",
    "    original_zero = original_zero.reshape(28, 28)\n",
    "    rise_map = rise_map.reshape(28, 28)\n",
    "    image_deleted_rise = image_deleted_rise.reshape(28, 28)\n",
    "    lime_map = lime_map.reshape(28, 28)\n",
    "    image_deleted_lime = image_deleted_lime.reshape(28, 28)\n",
    "    shap_map = shap_map.reshape(28, 28)\n",
    "    image_deleted_shap = image_deleted_shap.reshape(28, 28)\n",
    "    \n",
    "    fig, ax = plt.subplots(2, 4, figsize=(7, 4))\n",
    "    ax[0, 0].set_title(\"Original Data\")\n",
    "    ax[0, 0].imshow(original_zero, cmap=\"grey\")\n",
    "    ax[0, 0].set_axis_off()\n",
    "    \n",
    "    ax[0, 1].set_title(\"RISE\")\n",
    "    ax[0, 1].imshow(rise_map)\n",
    "    ax[0, 1].imshow(original_zero, alpha=.3)\n",
    "    ax[0, 1].set_axis_off()\n",
    "    \n",
    "    ax[1, 0].axis('off')\n",
    "    \n",
    "    ax[1, 1].imshow(image_deleted_rise, cmap=\"grey\")\n",
    "    ax[1, 1].set_axis_off()\n",
    "    ax[1, 1].set_title(f\"DAUC = {dauc_rise:.2f}\")\n",
    "    \n",
    "    ax[0, 2].set_title(\"LIME\")\n",
    "    ax[0, 2].imshow(lime_map)\n",
    "    ax[0, 2].imshow(original_zero, alpha=.3)\n",
    "    ax[0, 2].set_axis_off()\n",
    "    \n",
    "    ax[1, 2].imshow(image_deleted_lime, cmap=\"grey\")\n",
    "    ax[1, 2].set_title(f\"DAUC = {dauc_lime:.2f}\")\n",
    "    ax[1, 2].set_axis_off()\n",
    "    \n",
    "    ax[0, 3].set_title(\"KernelSHAP\")\n",
    "    ax[0, 3].imshow(shap_map)\n",
    "    ax[0, 3].imshow(original_zero, alpha=.3)\n",
    "    ax[0, 3].set_axis_off()\n",
    "    \n",
    "    ax[1, 3].imshow(image_deleted_shap, cmap=\"grey\")\n",
    "    ax[1, 3].set_title(f\"DAUC = {dauc_shap:.2f}\")\n",
    "    ax[1, 3].set_axis_off()\n",
    "    \n",
    "    plt.savefig(f\"images/saliency_maps/{index_as_filename + 1}_zero.png\")\n",
    "    plt.close()\n",
    "    #plt.show()"
   ],
   "id": "d0d4797f6b641898",
   "outputs": [],
   "execution_count": 12
  },
  {
   "metadata": {
    "ExecuteTime": {
     "end_time": "2024-07-07T10:54:32.367441Z",
     "start_time": "2024-07-07T10:54:32.364399Z"
    }
   },
   "cell_type": "code",
   "source": [
    "normalize_input_img = lambda img: (img / 255).astype(np.float32) # Is used for the preprocessing in the case of LIME. RISE and SHAP are not dependent on the preprocessing-process\n",
    "\n",
    "def run_all_explainibility_methods_on_first_k_inputs_and_generate_mean_saliency_maps(k_first_samples: int):\n",
    "    \"\"\"\n",
    "    This is the main method in which we generate the saliency-maps with RISE, LIME and KernelSHAP.\n",
    "    :param k_first_samples: The first k entries for which we would like to generate the saliency maps\n",
    "    :return: 3 lists, containing the dauc values calulcated for each method. Furthermore the plotted saliencymaps are available in the saliency_maps folder\n",
    "    \"\"\"\n",
    "    daucs_rise, daucs_lime, daucs_shap = [], [], []\n",
    "    for i in range(k_first_samples):\n",
    "            zero = training_data_with_0_target_class[i]\n",
    "            zero = zero.numpy().reshape(1, 28, 28).astype(np.float32)\n",
    "            \n",
    "            # RISE\n",
    "            saliency_map_rise = dianna.explain_image(model_path, zero, method=\"RISE\", labels=[0], n_masks=10**4, axis_labels=axis_labels, p_keep=0.5)\n",
    "            image_deleted_ares_rise, dauc_rise = calc_deletion_metric_and_return_image_with_deleted_areas_and_dauc(zero, saliency_map_rise)\n",
    "            daucs_rise.append(dauc_rise)\n",
    "            \n",
    "            # Theoretical Supremum is 150 (despite deleting pixels, the confidence does not change). A value of 100 indicates that the model was still confident on the input being a zero on average.\n",
    "            # With RISE highlighting the lateral symmetry, we will likely see deleted horizontal sides but still a high confidence\n",
    "            if dauc_rise <= 100:\n",
    "                calc_rise_saliency_map_and_save_as_image(image_deleted_ares_rise, i, zero)\n",
    "            \n",
    "            # LIME\n",
    "            saliency_map_lime = dianna.explain_image(model_path, zero, method=\"LIME\", labels=[0, 1], axis_labels=axis_labels, num_features=100, num_samples=10000, preprocess_function=normalize_input_img)[0]\n",
    "            image_deleted_areas_lime, dauc_lime = calc_deletion_metric_and_return_image_with_deleted_areas_and_dauc(zero, saliency_map_lime)\n",
    "            daucs_lime.append(dauc_lime)\n",
    "            \n",
    "            # SHAP\n",
    "            saliency_map_shap = dianna.explain_image(model_path, zero, method=\"KernelSHAP\", axis_labels=axis_labels, labels=[0], background=0, nsamples=10000, n_segments=200)[0]\n",
    "            image_deleted_ares_shap, dauc_shap = calc_deletion_metric_and_return_image_with_deleted_areas_and_dauc(zero, saliency_map_shap)\n",
    "            daucs_shap.append(dauc_shap)\n",
    "        \n",
    "            save_heatmaps_side_by_side_with_original_as_png_file(i, zero, \n",
    "                                                                 saliency_map_rise, image_deleted_ares_rise, dauc_rise,\n",
    "                                                                 saliency_map_lime, image_deleted_areas_lime, dauc_lime,\n",
    "                                                                 saliency_map_shap, image_deleted_ares_shap, dauc_shap)\n",
    "    return daucs_rise, daucs_lime, daucs_shap    "
   ],
   "id": "3dc126f7197dba07",
   "outputs": [],
   "execution_count": 13
  },
  {
   "metadata": {},
   "cell_type": "markdown",
   "source": "<h4>Approximate Runtime of this cell: 45 Minutes</h4>",
   "id": "98df30a47a0a06f1"
  },
  {
   "metadata": {
    "ExecuteTime": {
     "end_time": "2024-07-07T11:36:21.846223Z",
     "start_time": "2024-07-07T10:54:32.367936Z"
    }
   },
   "cell_type": "code",
   "source": [
    "%%capture\n",
    "# We supress the output of this cell with the capture-call, because the output will get very long as each method uses a progress bar to indicate progress\n",
    "k_first_samples = 100\n",
    "daucs_rise, daucs_lime, daucs_shap = run_all_explainibility_methods_on_first_k_inputs_and_generate_mean_saliency_maps(k_first_samples) # The one is just for showcase, for the 100 images, the parameter was a 100 of course"
   ],
   "id": "88a7c2932af55b39",
   "outputs": [
    {
     "name": "stderr",
     "output_type": "stream",
     "text": [
      "2024-07-07 12:54:53.699222: W tensorflow/core/grappler/optimizers/loop_optimizer.cc:933] Skipping loop optimization for Merge node with control input: assert_equal_1/Assert/AssertGuard/branch_executed/_9\n",
      "2024-07-07 12:54:53.819837: W tensorflow/core/grappler/optimizers/loop_optimizer.cc:933] Skipping loop optimization for Merge node with control input: assert_equal_1/Assert/AssertGuard/branch_executed/_9\n",
      "2024-07-07 12:54:56.603669: W tensorflow/core/grappler/optimizers/loop_optimizer.cc:933] Skipping loop optimization for Merge node with control input: assert_equal_1/Assert/AssertGuard/branch_executed/_9\n",
      "2024-07-07 12:55:13.348615: W tensorflow/core/grappler/optimizers/loop_optimizer.cc:933] Skipping loop optimization for Merge node with control input: assert_equal_1/Assert/AssertGuard/branch_executed/_9\n",
      "2024-07-07 12:55:13.466046: W tensorflow/core/grappler/optimizers/loop_optimizer.cc:933] Skipping loop optimization for Merge node with control input: assert_equal_1/Assert/AssertGuard/branch_executed/_9\n",
      "2024-07-07 12:55:16.271084: W tensorflow/core/grappler/optimizers/loop_optimizer.cc:933] Skipping loop optimization for Merge node with control input: assert_equal_1/Assert/AssertGuard/branch_executed/_9\n",
      "2024-07-07 12:55:39.441248: W tensorflow/core/grappler/optimizers/loop_optimizer.cc:933] Skipping loop optimization for Merge node with control input: assert_equal_1/Assert/AssertGuard/branch_executed/_9\n",
      "2024-07-07 12:55:39.560160: W tensorflow/core/grappler/optimizers/loop_optimizer.cc:933] Skipping loop optimization for Merge node with control input: assert_equal_1/Assert/AssertGuard/branch_executed/_9\n",
      "2024-07-07 12:55:42.356815: W tensorflow/core/grappler/optimizers/loop_optimizer.cc:933] Skipping loop optimization for Merge node with control input: assert_equal_1/Assert/AssertGuard/branch_executed/_9\n",
      "2024-07-07 12:56:05.669312: W tensorflow/core/grappler/optimizers/loop_optimizer.cc:933] Skipping loop optimization for Merge node with control input: assert_equal_1/Assert/AssertGuard/branch_executed/_9\n",
      "2024-07-07 12:56:05.787049: W tensorflow/core/grappler/optimizers/loop_optimizer.cc:933] Skipping loop optimization for Merge node with control input: assert_equal_1/Assert/AssertGuard/branch_executed/_9\n",
      "2024-07-07 12:56:08.570170: W tensorflow/core/grappler/optimizers/loop_optimizer.cc:933] Skipping loop optimization for Merge node with control input: assert_equal_1/Assert/AssertGuard/branch_executed/_9\n",
      "2024-07-07 12:56:25.399505: W tensorflow/core/grappler/optimizers/loop_optimizer.cc:933] Skipping loop optimization for Merge node with control input: assert_equal_1/Assert/AssertGuard/branch_executed/_9\n",
      "2024-07-07 12:56:25.516327: W tensorflow/core/grappler/optimizers/loop_optimizer.cc:933] Skipping loop optimization for Merge node with control input: assert_equal_1/Assert/AssertGuard/branch_executed/_9\n",
      "2024-07-07 12:56:28.308681: W tensorflow/core/grappler/optimizers/loop_optimizer.cc:933] Skipping loop optimization for Merge node with control input: assert_equal_1/Assert/AssertGuard/branch_executed/_9\n",
      "2024-07-07 12:56:45.083737: W tensorflow/core/grappler/optimizers/loop_optimizer.cc:933] Skipping loop optimization for Merge node with control input: assert_equal_1/Assert/AssertGuard/branch_executed/_9\n",
      "2024-07-07 12:56:45.201905: W tensorflow/core/grappler/optimizers/loop_optimizer.cc:933] Skipping loop optimization for Merge node with control input: assert_equal_1/Assert/AssertGuard/branch_executed/_9\n",
      "2024-07-07 12:56:47.997723: W tensorflow/core/grappler/optimizers/loop_optimizer.cc:933] Skipping loop optimization for Merge node with control input: assert_equal_1/Assert/AssertGuard/branch_executed/_9\n",
      "2024-07-07 12:57:04.831919: W tensorflow/core/grappler/optimizers/loop_optimizer.cc:933] Skipping loop optimization for Merge node with control input: assert_equal_1/Assert/AssertGuard/branch_executed/_9\n",
      "2024-07-07 12:57:04.952761: W tensorflow/core/grappler/optimizers/loop_optimizer.cc:933] Skipping loop optimization for Merge node with control input: assert_equal_1/Assert/AssertGuard/branch_executed/_9\n",
      "2024-07-07 12:57:07.763711: W tensorflow/core/grappler/optimizers/loop_optimizer.cc:933] Skipping loop optimization for Merge node with control input: assert_equal_1/Assert/AssertGuard/branch_executed/_9\n",
      "2024-07-07 12:57:24.820726: W tensorflow/core/grappler/optimizers/loop_optimizer.cc:933] Skipping loop optimization for Merge node with control input: assert_equal_1/Assert/AssertGuard/branch_executed/_9\n",
      "2024-07-07 12:57:24.948564: W tensorflow/core/grappler/optimizers/loop_optimizer.cc:933] Skipping loop optimization for Merge node with control input: assert_equal_1/Assert/AssertGuard/branch_executed/_9\n",
      "2024-07-07 12:57:27.819311: W tensorflow/core/grappler/optimizers/loop_optimizer.cc:933] Skipping loop optimization for Merge node with control input: assert_equal_1/Assert/AssertGuard/branch_executed/_9\n",
      "2024-07-07 12:57:51.334234: W tensorflow/core/grappler/optimizers/loop_optimizer.cc:933] Skipping loop optimization for Merge node with control input: assert_equal_1/Assert/AssertGuard/branch_executed/_9\n",
      "2024-07-07 12:57:51.451918: W tensorflow/core/grappler/optimizers/loop_optimizer.cc:933] Skipping loop optimization for Merge node with control input: assert_equal_1/Assert/AssertGuard/branch_executed/_9\n",
      "2024-07-07 12:57:54.283476: W tensorflow/core/grappler/optimizers/loop_optimizer.cc:933] Skipping loop optimization for Merge node with control input: assert_equal_1/Assert/AssertGuard/branch_executed/_9\n",
      "2024-07-07 12:58:10.718033: W tensorflow/core/grappler/optimizers/loop_optimizer.cc:933] Skipping loop optimization for Merge node with control input: assert_equal_1/Assert/AssertGuard/branch_executed/_9\n",
      "2024-07-07 12:58:10.835721: W tensorflow/core/grappler/optimizers/loop_optimizer.cc:933] Skipping loop optimization for Merge node with control input: assert_equal_1/Assert/AssertGuard/branch_executed/_9\n",
      "2024-07-07 12:58:13.613991: W tensorflow/core/grappler/optimizers/loop_optimizer.cc:933] Skipping loop optimization for Merge node with control input: assert_equal_1/Assert/AssertGuard/branch_executed/_9\n",
      "2024-07-07 12:58:36.667031: W tensorflow/core/grappler/optimizers/loop_optimizer.cc:933] Skipping loop optimization for Merge node with control input: assert_equal_1/Assert/AssertGuard/branch_executed/_9\n",
      "2024-07-07 12:58:36.783908: W tensorflow/core/grappler/optimizers/loop_optimizer.cc:933] Skipping loop optimization for Merge node with control input: assert_equal_1/Assert/AssertGuard/branch_executed/_9\n",
      "2024-07-07 12:58:39.578317: W tensorflow/core/grappler/optimizers/loop_optimizer.cc:933] Skipping loop optimization for Merge node with control input: assert_equal_1/Assert/AssertGuard/branch_executed/_9\n",
      "2024-07-07 12:58:55.926391: W tensorflow/core/grappler/optimizers/loop_optimizer.cc:933] Skipping loop optimization for Merge node with control input: assert_equal_1/Assert/AssertGuard/branch_executed/_9\n",
      "2024-07-07 12:58:56.044086: W tensorflow/core/grappler/optimizers/loop_optimizer.cc:933] Skipping loop optimization for Merge node with control input: assert_equal_1/Assert/AssertGuard/branch_executed/_9\n",
      "2024-07-07 12:58:59.224894: W tensorflow/core/grappler/optimizers/loop_optimizer.cc:933] Skipping loop optimization for Merge node with control input: assert_equal_1/Assert/AssertGuard/branch_executed/_9\n",
      "2024-07-07 12:59:15.760506: W tensorflow/core/grappler/optimizers/loop_optimizer.cc:933] Skipping loop optimization for Merge node with control input: assert_equal_1/Assert/AssertGuard/branch_executed/_9\n",
      "2024-07-07 12:59:15.877320: W tensorflow/core/grappler/optimizers/loop_optimizer.cc:933] Skipping loop optimization for Merge node with control input: assert_equal_1/Assert/AssertGuard/branch_executed/_9\n",
      "2024-07-07 12:59:18.666914: W tensorflow/core/grappler/optimizers/loop_optimizer.cc:933] Skipping loop optimization for Merge node with control input: assert_equal_1/Assert/AssertGuard/branch_executed/_9\n",
      "2024-07-07 12:59:35.275680: W tensorflow/core/grappler/optimizers/loop_optimizer.cc:933] Skipping loop optimization for Merge node with control input: assert_equal_1/Assert/AssertGuard/branch_executed/_9\n",
      "2024-07-07 12:59:35.393646: W tensorflow/core/grappler/optimizers/loop_optimizer.cc:933] Skipping loop optimization for Merge node with control input: assert_equal_1/Assert/AssertGuard/branch_executed/_9\n",
      "2024-07-07 12:59:38.232758: W tensorflow/core/grappler/optimizers/loop_optimizer.cc:933] Skipping loop optimization for Merge node with control input: assert_equal_1/Assert/AssertGuard/branch_executed/_9\n",
      "2024-07-07 12:59:55.080039: W tensorflow/core/grappler/optimizers/loop_optimizer.cc:933] Skipping loop optimization for Merge node with control input: assert_equal_1/Assert/AssertGuard/branch_executed/_9\n",
      "2024-07-07 12:59:55.199080: W tensorflow/core/grappler/optimizers/loop_optimizer.cc:933] Skipping loop optimization for Merge node with control input: assert_equal_1/Assert/AssertGuard/branch_executed/_9\n",
      "2024-07-07 12:59:58.001169: W tensorflow/core/grappler/optimizers/loop_optimizer.cc:933] Skipping loop optimization for Merge node with control input: assert_equal_1/Assert/AssertGuard/branch_executed/_9\n",
      "2024-07-07 13:00:24.699751: W tensorflow/core/grappler/optimizers/loop_optimizer.cc:933] Skipping loop optimization for Merge node with control input: assert_equal_1/Assert/AssertGuard/branch_executed/_9\n",
      "2024-07-07 13:00:24.817529: W tensorflow/core/grappler/optimizers/loop_optimizer.cc:933] Skipping loop optimization for Merge node with control input: assert_equal_1/Assert/AssertGuard/branch_executed/_9\n",
      "2024-07-07 13:00:27.618432: W tensorflow/core/grappler/optimizers/loop_optimizer.cc:933] Skipping loop optimization for Merge node with control input: assert_equal_1/Assert/AssertGuard/branch_executed/_9\n",
      "2024-07-07 13:00:45.281656: W tensorflow/core/grappler/optimizers/loop_optimizer.cc:933] Skipping loop optimization for Merge node with control input: assert_equal_1/Assert/AssertGuard/branch_executed/_9\n",
      "2024-07-07 13:00:45.402489: W tensorflow/core/grappler/optimizers/loop_optimizer.cc:933] Skipping loop optimization for Merge node with control input: assert_equal_1/Assert/AssertGuard/branch_executed/_9\n",
      "2024-07-07 13:00:48.209772: W tensorflow/core/grappler/optimizers/loop_optimizer.cc:933] Skipping loop optimization for Merge node with control input: assert_equal_1/Assert/AssertGuard/branch_executed/_9\n",
      "2024-07-07 13:01:05.942954: W tensorflow/core/grappler/optimizers/loop_optimizer.cc:933] Skipping loop optimization for Merge node with control input: assert_equal_1/Assert/AssertGuard/branch_executed/_9\n",
      "2024-07-07 13:01:06.060164: W tensorflow/core/grappler/optimizers/loop_optimizer.cc:933] Skipping loop optimization for Merge node with control input: assert_equal_1/Assert/AssertGuard/branch_executed/_9\n",
      "2024-07-07 13:01:08.936791: W tensorflow/core/grappler/optimizers/loop_optimizer.cc:933] Skipping loop optimization for Merge node with control input: assert_equal_1/Assert/AssertGuard/branch_executed/_9\n",
      "2024-07-07 13:01:25.648430: W tensorflow/core/grappler/optimizers/loop_optimizer.cc:933] Skipping loop optimization for Merge node with control input: assert_equal_1/Assert/AssertGuard/branch_executed/_9\n",
      "2024-07-07 13:01:25.764896: W tensorflow/core/grappler/optimizers/loop_optimizer.cc:933] Skipping loop optimization for Merge node with control input: assert_equal_1/Assert/AssertGuard/branch_executed/_9\n",
      "2024-07-07 13:01:28.746241: W tensorflow/core/grappler/optimizers/loop_optimizer.cc:933] Skipping loop optimization for Merge node with control input: assert_equal_1/Assert/AssertGuard/branch_executed/_9\n",
      "2024-07-07 13:01:52.422747: W tensorflow/core/grappler/optimizers/loop_optimizer.cc:933] Skipping loop optimization for Merge node with control input: assert_equal_1/Assert/AssertGuard/branch_executed/_9\n",
      "2024-07-07 13:01:52.541501: W tensorflow/core/grappler/optimizers/loop_optimizer.cc:933] Skipping loop optimization for Merge node with control input: assert_equal_1/Assert/AssertGuard/branch_executed/_9\n",
      "2024-07-07 13:01:55.397730: W tensorflow/core/grappler/optimizers/loop_optimizer.cc:933] Skipping loop optimization for Merge node with control input: assert_equal_1/Assert/AssertGuard/branch_executed/_9\n",
      "2024-07-07 13:02:12.671340: W tensorflow/core/grappler/optimizers/loop_optimizer.cc:933] Skipping loop optimization for Merge node with control input: assert_equal_1/Assert/AssertGuard/branch_executed/_9\n",
      "2024-07-07 13:02:12.787779: W tensorflow/core/grappler/optimizers/loop_optimizer.cc:933] Skipping loop optimization for Merge node with control input: assert_equal_1/Assert/AssertGuard/branch_executed/_9\n",
      "2024-07-07 13:02:15.762249: W tensorflow/core/grappler/optimizers/loop_optimizer.cc:933] Skipping loop optimization for Merge node with control input: assert_equal_1/Assert/AssertGuard/branch_executed/_9\n",
      "2024-07-07 13:02:32.868604: W tensorflow/core/grappler/optimizers/loop_optimizer.cc:933] Skipping loop optimization for Merge node with control input: assert_equal_1/Assert/AssertGuard/branch_executed/_9\n",
      "2024-07-07 13:02:32.987131: W tensorflow/core/grappler/optimizers/loop_optimizer.cc:933] Skipping loop optimization for Merge node with control input: assert_equal_1/Assert/AssertGuard/branch_executed/_9\n",
      "2024-07-07 13:02:35.810351: W tensorflow/core/grappler/optimizers/loop_optimizer.cc:933] Skipping loop optimization for Merge node with control input: assert_equal_1/Assert/AssertGuard/branch_executed/_9\n",
      "2024-07-07 13:02:52.738992: W tensorflow/core/grappler/optimizers/loop_optimizer.cc:933] Skipping loop optimization for Merge node with control input: assert_equal_1/Assert/AssertGuard/branch_executed/_9\n",
      "2024-07-07 13:02:52.857611: W tensorflow/core/grappler/optimizers/loop_optimizer.cc:933] Skipping loop optimization for Merge node with control input: assert_equal_1/Assert/AssertGuard/branch_executed/_9\n",
      "2024-07-07 13:02:55.647723: W tensorflow/core/grappler/optimizers/loop_optimizer.cc:933] Skipping loop optimization for Merge node with control input: assert_equal_1/Assert/AssertGuard/branch_executed/_9\n",
      "2024-07-07 13:03:12.565889: W tensorflow/core/grappler/optimizers/loop_optimizer.cc:933] Skipping loop optimization for Merge node with control input: assert_equal_1/Assert/AssertGuard/branch_executed/_9\n",
      "2024-07-07 13:03:12.683035: W tensorflow/core/grappler/optimizers/loop_optimizer.cc:933] Skipping loop optimization for Merge node with control input: assert_equal_1/Assert/AssertGuard/branch_executed/_9\n",
      "2024-07-07 13:03:15.542123: W tensorflow/core/grappler/optimizers/loop_optimizer.cc:933] Skipping loop optimization for Merge node with control input: assert_equal_1/Assert/AssertGuard/branch_executed/_9\n",
      "2024-07-07 13:03:39.169797: W tensorflow/core/grappler/optimizers/loop_optimizer.cc:933] Skipping loop optimization for Merge node with control input: assert_equal_1/Assert/AssertGuard/branch_executed/_9\n",
      "2024-07-07 13:03:39.287132: W tensorflow/core/grappler/optimizers/loop_optimizer.cc:933] Skipping loop optimization for Merge node with control input: assert_equal_1/Assert/AssertGuard/branch_executed/_9\n",
      "2024-07-07 13:03:42.187520: W tensorflow/core/grappler/optimizers/loop_optimizer.cc:933] Skipping loop optimization for Merge node with control input: assert_equal_1/Assert/AssertGuard/branch_executed/_9\n",
      "2024-07-07 13:03:59.056574: W tensorflow/core/grappler/optimizers/loop_optimizer.cc:933] Skipping loop optimization for Merge node with control input: assert_equal_1/Assert/AssertGuard/branch_executed/_9\n",
      "2024-07-07 13:03:59.172722: W tensorflow/core/grappler/optimizers/loop_optimizer.cc:933] Skipping loop optimization for Merge node with control input: assert_equal_1/Assert/AssertGuard/branch_executed/_9\n",
      "2024-07-07 13:04:01.978032: W tensorflow/core/grappler/optimizers/loop_optimizer.cc:933] Skipping loop optimization for Merge node with control input: assert_equal_1/Assert/AssertGuard/branch_executed/_9\n",
      "2024-07-07 13:04:18.844888: W tensorflow/core/grappler/optimizers/loop_optimizer.cc:933] Skipping loop optimization for Merge node with control input: assert_equal_1/Assert/AssertGuard/branch_executed/_9\n",
      "2024-07-07 13:04:18.961169: W tensorflow/core/grappler/optimizers/loop_optimizer.cc:933] Skipping loop optimization for Merge node with control input: assert_equal_1/Assert/AssertGuard/branch_executed/_9\n",
      "2024-07-07 13:04:21.769989: W tensorflow/core/grappler/optimizers/loop_optimizer.cc:933] Skipping loop optimization for Merge node with control input: assert_equal_1/Assert/AssertGuard/branch_executed/_9\n",
      "2024-07-07 13:04:38.616510: W tensorflow/core/grappler/optimizers/loop_optimizer.cc:933] Skipping loop optimization for Merge node with control input: assert_equal_1/Assert/AssertGuard/branch_executed/_9\n",
      "2024-07-07 13:04:38.733953: W tensorflow/core/grappler/optimizers/loop_optimizer.cc:933] Skipping loop optimization for Merge node with control input: assert_equal_1/Assert/AssertGuard/branch_executed/_9\n",
      "2024-07-07 13:04:41.625785: W tensorflow/core/grappler/optimizers/loop_optimizer.cc:933] Skipping loop optimization for Merge node with control input: assert_equal_1/Assert/AssertGuard/branch_executed/_9\n",
      "2024-07-07 13:05:05.615235: W tensorflow/core/grappler/optimizers/loop_optimizer.cc:933] Skipping loop optimization for Merge node with control input: assert_equal_1/Assert/AssertGuard/branch_executed/_9\n",
      "2024-07-07 13:05:05.732064: W tensorflow/core/grappler/optimizers/loop_optimizer.cc:933] Skipping loop optimization for Merge node with control input: assert_equal_1/Assert/AssertGuard/branch_executed/_9\n",
      "2024-07-07 13:05:08.527905: W tensorflow/core/grappler/optimizers/loop_optimizer.cc:933] Skipping loop optimization for Merge node with control input: assert_equal_1/Assert/AssertGuard/branch_executed/_9\n",
      "2024-07-07 13:05:26.296798: W tensorflow/core/grappler/optimizers/loop_optimizer.cc:933] Skipping loop optimization for Merge node with control input: assert_equal_1/Assert/AssertGuard/branch_executed/_9\n",
      "2024-07-07 13:05:26.416489: W tensorflow/core/grappler/optimizers/loop_optimizer.cc:933] Skipping loop optimization for Merge node with control input: assert_equal_1/Assert/AssertGuard/branch_executed/_9\n",
      "2024-07-07 13:05:29.211081: W tensorflow/core/grappler/optimizers/loop_optimizer.cc:933] Skipping loop optimization for Merge node with control input: assert_equal_1/Assert/AssertGuard/branch_executed/_9\n",
      "2024-07-07 13:05:46.408642: W tensorflow/core/grappler/optimizers/loop_optimizer.cc:933] Skipping loop optimization for Merge node with control input: assert_equal_1/Assert/AssertGuard/branch_executed/_9\n",
      "2024-07-07 13:05:46.529050: W tensorflow/core/grappler/optimizers/loop_optimizer.cc:933] Skipping loop optimization for Merge node with control input: assert_equal_1/Assert/AssertGuard/branch_executed/_9\n",
      "2024-07-07 13:05:49.348839: W tensorflow/core/grappler/optimizers/loop_optimizer.cc:933] Skipping loop optimization for Merge node with control input: assert_equal_1/Assert/AssertGuard/branch_executed/_9\n",
      "2024-07-07 13:06:06.916146: W tensorflow/core/grappler/optimizers/loop_optimizer.cc:933] Skipping loop optimization for Merge node with control input: assert_equal_1/Assert/AssertGuard/branch_executed/_9\n",
      "2024-07-07 13:06:07.038427: W tensorflow/core/grappler/optimizers/loop_optimizer.cc:933] Skipping loop optimization for Merge node with control input: assert_equal_1/Assert/AssertGuard/branch_executed/_9\n",
      "2024-07-07 13:06:09.866266: W tensorflow/core/grappler/optimizers/loop_optimizer.cc:933] Skipping loop optimization for Merge node with control input: assert_equal_1/Assert/AssertGuard/branch_executed/_9\n",
      "2024-07-07 13:06:27.511360: W tensorflow/core/grappler/optimizers/loop_optimizer.cc:933] Skipping loop optimization for Merge node with control input: assert_equal_1/Assert/AssertGuard/branch_executed/_9\n",
      "2024-07-07 13:06:27.628307: W tensorflow/core/grappler/optimizers/loop_optimizer.cc:933] Skipping loop optimization for Merge node with control input: assert_equal_1/Assert/AssertGuard/branch_executed/_9\n",
      "2024-07-07 13:06:30.483413: W tensorflow/core/grappler/optimizers/loop_optimizer.cc:933] Skipping loop optimization for Merge node with control input: assert_equal_1/Assert/AssertGuard/branch_executed/_9\n",
      "2024-07-07 13:06:48.143923: W tensorflow/core/grappler/optimizers/loop_optimizer.cc:933] Skipping loop optimization for Merge node with control input: assert_equal_1/Assert/AssertGuard/branch_executed/_9\n",
      "2024-07-07 13:06:48.272968: W tensorflow/core/grappler/optimizers/loop_optimizer.cc:933] Skipping loop optimization for Merge node with control input: assert_equal_1/Assert/AssertGuard/branch_executed/_9\n",
      "2024-07-07 13:06:51.082859: W tensorflow/core/grappler/optimizers/loop_optimizer.cc:933] Skipping loop optimization for Merge node with control input: assert_equal_1/Assert/AssertGuard/branch_executed/_9\n",
      "2024-07-07 13:07:08.586869: W tensorflow/core/grappler/optimizers/loop_optimizer.cc:933] Skipping loop optimization for Merge node with control input: assert_equal_1/Assert/AssertGuard/branch_executed/_9\n",
      "2024-07-07 13:07:08.706109: W tensorflow/core/grappler/optimizers/loop_optimizer.cc:933] Skipping loop optimization for Merge node with control input: assert_equal_1/Assert/AssertGuard/branch_executed/_9\n",
      "2024-07-07 13:07:11.498877: W tensorflow/core/grappler/optimizers/loop_optimizer.cc:933] Skipping loop optimization for Merge node with control input: assert_equal_1/Assert/AssertGuard/branch_executed/_9\n",
      "2024-07-07 13:07:29.001096: W tensorflow/core/grappler/optimizers/loop_optimizer.cc:933] Skipping loop optimization for Merge node with control input: assert_equal_1/Assert/AssertGuard/branch_executed/_9\n",
      "2024-07-07 13:07:29.119399: W tensorflow/core/grappler/optimizers/loop_optimizer.cc:933] Skipping loop optimization for Merge node with control input: assert_equal_1/Assert/AssertGuard/branch_executed/_9\n",
      "2024-07-07 13:07:31.921257: W tensorflow/core/grappler/optimizers/loop_optimizer.cc:933] Skipping loop optimization for Merge node with control input: assert_equal_1/Assert/AssertGuard/branch_executed/_9\n",
      "2024-07-07 13:07:49.485476: W tensorflow/core/grappler/optimizers/loop_optimizer.cc:933] Skipping loop optimization for Merge node with control input: assert_equal_1/Assert/AssertGuard/branch_executed/_9\n",
      "2024-07-07 13:07:49.603626: W tensorflow/core/grappler/optimizers/loop_optimizer.cc:933] Skipping loop optimization for Merge node with control input: assert_equal_1/Assert/AssertGuard/branch_executed/_9\n",
      "2024-07-07 13:07:52.392261: W tensorflow/core/grappler/optimizers/loop_optimizer.cc:933] Skipping loop optimization for Merge node with control input: assert_equal_1/Assert/AssertGuard/branch_executed/_9\n",
      "2024-07-07 13:08:09.929164: W tensorflow/core/grappler/optimizers/loop_optimizer.cc:933] Skipping loop optimization for Merge node with control input: assert_equal_1/Assert/AssertGuard/branch_executed/_9\n",
      "2024-07-07 13:08:10.049720: W tensorflow/core/grappler/optimizers/loop_optimizer.cc:933] Skipping loop optimization for Merge node with control input: assert_equal_1/Assert/AssertGuard/branch_executed/_9\n",
      "2024-07-07 13:08:12.862476: W tensorflow/core/grappler/optimizers/loop_optimizer.cc:933] Skipping loop optimization for Merge node with control input: assert_equal_1/Assert/AssertGuard/branch_executed/_9\n",
      "2024-07-07 13:08:30.458419: W tensorflow/core/grappler/optimizers/loop_optimizer.cc:933] Skipping loop optimization for Merge node with control input: assert_equal_1/Assert/AssertGuard/branch_executed/_9\n",
      "2024-07-07 13:08:30.577285: W tensorflow/core/grappler/optimizers/loop_optimizer.cc:933] Skipping loop optimization for Merge node with control input: assert_equal_1/Assert/AssertGuard/branch_executed/_9\n",
      "2024-07-07 13:08:33.374323: W tensorflow/core/grappler/optimizers/loop_optimizer.cc:933] Skipping loop optimization for Merge node with control input: assert_equal_1/Assert/AssertGuard/branch_executed/_9\n",
      "2024-07-07 13:08:50.974777: W tensorflow/core/grappler/optimizers/loop_optimizer.cc:933] Skipping loop optimization for Merge node with control input: assert_equal_1/Assert/AssertGuard/branch_executed/_9\n",
      "2024-07-07 13:08:51.093149: W tensorflow/core/grappler/optimizers/loop_optimizer.cc:933] Skipping loop optimization for Merge node with control input: assert_equal_1/Assert/AssertGuard/branch_executed/_9\n",
      "2024-07-07 13:08:53.916017: W tensorflow/core/grappler/optimizers/loop_optimizer.cc:933] Skipping loop optimization for Merge node with control input: assert_equal_1/Assert/AssertGuard/branch_executed/_9\n",
      "2024-07-07 13:09:11.403479: W tensorflow/core/grappler/optimizers/loop_optimizer.cc:933] Skipping loop optimization for Merge node with control input: assert_equal_1/Assert/AssertGuard/branch_executed/_9\n",
      "2024-07-07 13:09:11.523254: W tensorflow/core/grappler/optimizers/loop_optimizer.cc:933] Skipping loop optimization for Merge node with control input: assert_equal_1/Assert/AssertGuard/branch_executed/_9\n",
      "2024-07-07 13:09:14.324834: W tensorflow/core/grappler/optimizers/loop_optimizer.cc:933] Skipping loop optimization for Merge node with control input: assert_equal_1/Assert/AssertGuard/branch_executed/_9\n",
      "2024-07-07 13:09:31.933925: W tensorflow/core/grappler/optimizers/loop_optimizer.cc:933] Skipping loop optimization for Merge node with control input: assert_equal_1/Assert/AssertGuard/branch_executed/_9\n",
      "2024-07-07 13:09:32.053155: W tensorflow/core/grappler/optimizers/loop_optimizer.cc:933] Skipping loop optimization for Merge node with control input: assert_equal_1/Assert/AssertGuard/branch_executed/_9\n",
      "2024-07-07 13:09:34.865301: W tensorflow/core/grappler/optimizers/loop_optimizer.cc:933] Skipping loop optimization for Merge node with control input: assert_equal_1/Assert/AssertGuard/branch_executed/_9\n",
      "2024-07-07 13:09:59.997597: W tensorflow/core/grappler/optimizers/loop_optimizer.cc:933] Skipping loop optimization for Merge node with control input: assert_equal_1/Assert/AssertGuard/branch_executed/_9\n",
      "2024-07-07 13:10:00.116832: W tensorflow/core/grappler/optimizers/loop_optimizer.cc:933] Skipping loop optimization for Merge node with control input: assert_equal_1/Assert/AssertGuard/branch_executed/_9\n",
      "2024-07-07 13:10:02.929770: W tensorflow/core/grappler/optimizers/loop_optimizer.cc:933] Skipping loop optimization for Merge node with control input: assert_equal_1/Assert/AssertGuard/branch_executed/_9\n",
      "2024-07-07 13:10:28.192902: W tensorflow/core/grappler/optimizers/loop_optimizer.cc:933] Skipping loop optimization for Merge node with control input: assert_equal_1/Assert/AssertGuard/branch_executed/_9\n",
      "2024-07-07 13:10:28.311863: W tensorflow/core/grappler/optimizers/loop_optimizer.cc:933] Skipping loop optimization for Merge node with control input: assert_equal_1/Assert/AssertGuard/branch_executed/_9\n",
      "2024-07-07 13:10:31.115900: W tensorflow/core/grappler/optimizers/loop_optimizer.cc:933] Skipping loop optimization for Merge node with control input: assert_equal_1/Assert/AssertGuard/branch_executed/_9\n",
      "2024-07-07 13:10:48.934034: W tensorflow/core/grappler/optimizers/loop_optimizer.cc:933] Skipping loop optimization for Merge node with control input: assert_equal_1/Assert/AssertGuard/branch_executed/_9\n",
      "2024-07-07 13:10:49.052594: W tensorflow/core/grappler/optimizers/loop_optimizer.cc:933] Skipping loop optimization for Merge node with control input: assert_equal_1/Assert/AssertGuard/branch_executed/_9\n",
      "2024-07-07 13:10:51.862546: W tensorflow/core/grappler/optimizers/loop_optimizer.cc:933] Skipping loop optimization for Merge node with control input: assert_equal_1/Assert/AssertGuard/branch_executed/_9\n",
      "2024-07-07 13:11:09.343007: W tensorflow/core/grappler/optimizers/loop_optimizer.cc:933] Skipping loop optimization for Merge node with control input: assert_equal_1/Assert/AssertGuard/branch_executed/_9\n",
      "2024-07-07 13:11:09.468101: W tensorflow/core/grappler/optimizers/loop_optimizer.cc:933] Skipping loop optimization for Merge node with control input: assert_equal_1/Assert/AssertGuard/branch_executed/_9\n",
      "2024-07-07 13:11:12.270237: W tensorflow/core/grappler/optimizers/loop_optimizer.cc:933] Skipping loop optimization for Merge node with control input: assert_equal_1/Assert/AssertGuard/branch_executed/_9\n",
      "2024-07-07 13:11:29.809968: W tensorflow/core/grappler/optimizers/loop_optimizer.cc:933] Skipping loop optimization for Merge node with control input: assert_equal_1/Assert/AssertGuard/branch_executed/_9\n",
      "2024-07-07 13:11:29.929223: W tensorflow/core/grappler/optimizers/loop_optimizer.cc:933] Skipping loop optimization for Merge node with control input: assert_equal_1/Assert/AssertGuard/branch_executed/_9\n",
      "2024-07-07 13:11:32.725513: W tensorflow/core/grappler/optimizers/loop_optimizer.cc:933] Skipping loop optimization for Merge node with control input: assert_equal_1/Assert/AssertGuard/branch_executed/_9\n",
      "2024-07-07 13:11:50.464462: W tensorflow/core/grappler/optimizers/loop_optimizer.cc:933] Skipping loop optimization for Merge node with control input: assert_equal_1/Assert/AssertGuard/branch_executed/_9\n",
      "2024-07-07 13:11:50.582892: W tensorflow/core/grappler/optimizers/loop_optimizer.cc:933] Skipping loop optimization for Merge node with control input: assert_equal_1/Assert/AssertGuard/branch_executed/_9\n",
      "2024-07-07 13:11:53.404816: W tensorflow/core/grappler/optimizers/loop_optimizer.cc:933] Skipping loop optimization for Merge node with control input: assert_equal_1/Assert/AssertGuard/branch_executed/_9\n",
      "2024-07-07 13:12:11.035687: W tensorflow/core/grappler/optimizers/loop_optimizer.cc:933] Skipping loop optimization for Merge node with control input: assert_equal_1/Assert/AssertGuard/branch_executed/_9\n",
      "2024-07-07 13:12:11.154491: W tensorflow/core/grappler/optimizers/loop_optimizer.cc:933] Skipping loop optimization for Merge node with control input: assert_equal_1/Assert/AssertGuard/branch_executed/_9\n",
      "2024-07-07 13:12:13.966703: W tensorflow/core/grappler/optimizers/loop_optimizer.cc:933] Skipping loop optimization for Merge node with control input: assert_equal_1/Assert/AssertGuard/branch_executed/_9\n",
      "2024-07-07 13:12:30.937862: W tensorflow/core/grappler/optimizers/loop_optimizer.cc:933] Skipping loop optimization for Merge node with control input: assert_equal_1/Assert/AssertGuard/branch_executed/_9\n",
      "2024-07-07 13:12:31.057639: W tensorflow/core/grappler/optimizers/loop_optimizer.cc:933] Skipping loop optimization for Merge node with control input: assert_equal_1/Assert/AssertGuard/branch_executed/_9\n",
      "2024-07-07 13:12:33.872828: W tensorflow/core/grappler/optimizers/loop_optimizer.cc:933] Skipping loop optimization for Merge node with control input: assert_equal_1/Assert/AssertGuard/branch_executed/_9\n",
      "2024-07-07 13:12:51.159197: W tensorflow/core/grappler/optimizers/loop_optimizer.cc:933] Skipping loop optimization for Merge node with control input: assert_equal_1/Assert/AssertGuard/branch_executed/_9\n",
      "2024-07-07 13:12:51.277205: W tensorflow/core/grappler/optimizers/loop_optimizer.cc:933] Skipping loop optimization for Merge node with control input: assert_equal_1/Assert/AssertGuard/branch_executed/_9\n",
      "2024-07-07 13:12:54.086647: W tensorflow/core/grappler/optimizers/loop_optimizer.cc:933] Skipping loop optimization for Merge node with control input: assert_equal_1/Assert/AssertGuard/branch_executed/_9\n",
      "2024-07-07 13:13:11.644650: W tensorflow/core/grappler/optimizers/loop_optimizer.cc:933] Skipping loop optimization for Merge node with control input: assert_equal_1/Assert/AssertGuard/branch_executed/_9\n",
      "2024-07-07 13:13:11.764493: W tensorflow/core/grappler/optimizers/loop_optimizer.cc:933] Skipping loop optimization for Merge node with control input: assert_equal_1/Assert/AssertGuard/branch_executed/_9\n",
      "2024-07-07 13:13:14.603463: W tensorflow/core/grappler/optimizers/loop_optimizer.cc:933] Skipping loop optimization for Merge node with control input: assert_equal_1/Assert/AssertGuard/branch_executed/_9\n",
      "2024-07-07 13:13:31.699149: W tensorflow/core/grappler/optimizers/loop_optimizer.cc:933] Skipping loop optimization for Merge node with control input: assert_equal_1/Assert/AssertGuard/branch_executed/_9\n",
      "2024-07-07 13:13:31.818295: W tensorflow/core/grappler/optimizers/loop_optimizer.cc:933] Skipping loop optimization for Merge node with control input: assert_equal_1/Assert/AssertGuard/branch_executed/_9\n",
      "2024-07-07 13:13:34.648100: W tensorflow/core/grappler/optimizers/loop_optimizer.cc:933] Skipping loop optimization for Merge node with control input: assert_equal_1/Assert/AssertGuard/branch_executed/_9\n",
      "2024-07-07 13:13:59.102314: W tensorflow/core/grappler/optimizers/loop_optimizer.cc:933] Skipping loop optimization for Merge node with control input: assert_equal_1/Assert/AssertGuard/branch_executed/_9\n",
      "2024-07-07 13:13:59.222273: W tensorflow/core/grappler/optimizers/loop_optimizer.cc:933] Skipping loop optimization for Merge node with control input: assert_equal_1/Assert/AssertGuard/branch_executed/_9\n",
      "2024-07-07 13:14:02.032741: W tensorflow/core/grappler/optimizers/loop_optimizer.cc:933] Skipping loop optimization for Merge node with control input: assert_equal_1/Assert/AssertGuard/branch_executed/_9\n",
      "2024-07-07 13:14:19.208375: W tensorflow/core/grappler/optimizers/loop_optimizer.cc:933] Skipping loop optimization for Merge node with control input: assert_equal_1/Assert/AssertGuard/branch_executed/_9\n",
      "2024-07-07 13:14:19.327144: W tensorflow/core/grappler/optimizers/loop_optimizer.cc:933] Skipping loop optimization for Merge node with control input: assert_equal_1/Assert/AssertGuard/branch_executed/_9\n",
      "2024-07-07 13:14:22.179781: W tensorflow/core/grappler/optimizers/loop_optimizer.cc:933] Skipping loop optimization for Merge node with control input: assert_equal_1/Assert/AssertGuard/branch_executed/_9\n",
      "2024-07-07 13:14:39.221297: W tensorflow/core/grappler/optimizers/loop_optimizer.cc:933] Skipping loop optimization for Merge node with control input: assert_equal_1/Assert/AssertGuard/branch_executed/_9\n",
      "2024-07-07 13:14:39.340244: W tensorflow/core/grappler/optimizers/loop_optimizer.cc:933] Skipping loop optimization for Merge node with control input: assert_equal_1/Assert/AssertGuard/branch_executed/_9\n",
      "2024-07-07 13:14:42.176146: W tensorflow/core/grappler/optimizers/loop_optimizer.cc:933] Skipping loop optimization for Merge node with control input: assert_equal_1/Assert/AssertGuard/branch_executed/_9\n",
      "2024-07-07 13:15:05.923610: W tensorflow/core/grappler/optimizers/loop_optimizer.cc:933] Skipping loop optimization for Merge node with control input: assert_equal_1/Assert/AssertGuard/branch_executed/_9\n",
      "2024-07-07 13:15:06.044083: W tensorflow/core/grappler/optimizers/loop_optimizer.cc:933] Skipping loop optimization for Merge node with control input: assert_equal_1/Assert/AssertGuard/branch_executed/_9\n",
      "2024-07-07 13:15:08.842161: W tensorflow/core/grappler/optimizers/loop_optimizer.cc:933] Skipping loop optimization for Merge node with control input: assert_equal_1/Assert/AssertGuard/branch_executed/_9\n",
      "2024-07-07 13:15:26.028447: W tensorflow/core/grappler/optimizers/loop_optimizer.cc:933] Skipping loop optimization for Merge node with control input: assert_equal_1/Assert/AssertGuard/branch_executed/_9\n",
      "2024-07-07 13:15:26.148452: W tensorflow/core/grappler/optimizers/loop_optimizer.cc:933] Skipping loop optimization for Merge node with control input: assert_equal_1/Assert/AssertGuard/branch_executed/_9\n",
      "2024-07-07 13:15:28.971245: W tensorflow/core/grappler/optimizers/loop_optimizer.cc:933] Skipping loop optimization for Merge node with control input: assert_equal_1/Assert/AssertGuard/branch_executed/_9\n",
      "2024-07-07 13:15:53.386196: W tensorflow/core/grappler/optimizers/loop_optimizer.cc:933] Skipping loop optimization for Merge node with control input: assert_equal_1/Assert/AssertGuard/branch_executed/_9\n",
      "2024-07-07 13:15:53.507662: W tensorflow/core/grappler/optimizers/loop_optimizer.cc:933] Skipping loop optimization for Merge node with control input: assert_equal_1/Assert/AssertGuard/branch_executed/_9\n",
      "2024-07-07 13:15:56.352927: W tensorflow/core/grappler/optimizers/loop_optimizer.cc:933] Skipping loop optimization for Merge node with control input: assert_equal_1/Assert/AssertGuard/branch_executed/_9\n",
      "2024-07-07 13:16:13.702478: W tensorflow/core/grappler/optimizers/loop_optimizer.cc:933] Skipping loop optimization for Merge node with control input: assert_equal_1/Assert/AssertGuard/branch_executed/_9\n",
      "2024-07-07 13:16:13.821357: W tensorflow/core/grappler/optimizers/loop_optimizer.cc:933] Skipping loop optimization for Merge node with control input: assert_equal_1/Assert/AssertGuard/branch_executed/_9\n",
      "2024-07-07 13:16:16.678357: W tensorflow/core/grappler/optimizers/loop_optimizer.cc:933] Skipping loop optimization for Merge node with control input: assert_equal_1/Assert/AssertGuard/branch_executed/_9\n",
      "2024-07-07 13:16:42.144374: W tensorflow/core/grappler/optimizers/loop_optimizer.cc:933] Skipping loop optimization for Merge node with control input: assert_equal_1/Assert/AssertGuard/branch_executed/_9\n",
      "2024-07-07 13:16:42.265794: W tensorflow/core/grappler/optimizers/loop_optimizer.cc:933] Skipping loop optimization for Merge node with control input: assert_equal_1/Assert/AssertGuard/branch_executed/_9\n",
      "2024-07-07 13:16:45.067947: W tensorflow/core/grappler/optimizers/loop_optimizer.cc:933] Skipping loop optimization for Merge node with control input: assert_equal_1/Assert/AssertGuard/branch_executed/_9\n",
      "2024-07-07 13:21:37.508773: W tensorflow/core/grappler/optimizers/loop_optimizer.cc:933] Skipping loop optimization for Merge node with control input: assert_equal_1/Assert/AssertGuard/branch_executed/_9\n",
      "2024-07-07 13:21:37.658329: W tensorflow/core/grappler/optimizers/loop_optimizer.cc:933] Skipping loop optimization for Merge node with control input: assert_equal_1/Assert/AssertGuard/branch_executed/_9\n",
      "2024-07-07 13:21:40.514462: W tensorflow/core/grappler/optimizers/loop_optimizer.cc:933] Skipping loop optimization for Merge node with control input: assert_equal_1/Assert/AssertGuard/branch_executed/_9\n",
      "2024-07-07 13:21:58.265921: W tensorflow/core/grappler/optimizers/loop_optimizer.cc:933] Skipping loop optimization for Merge node with control input: assert_equal_1/Assert/AssertGuard/branch_executed/_9\n",
      "2024-07-07 13:21:58.384836: W tensorflow/core/grappler/optimizers/loop_optimizer.cc:933] Skipping loop optimization for Merge node with control input: assert_equal_1/Assert/AssertGuard/branch_executed/_9\n",
      "2024-07-07 13:22:01.150434: W tensorflow/core/grappler/optimizers/loop_optimizer.cc:933] Skipping loop optimization for Merge node with control input: assert_equal_1/Assert/AssertGuard/branch_executed/_9\n",
      "2024-07-07 13:22:19.156806: W tensorflow/core/grappler/optimizers/loop_optimizer.cc:933] Skipping loop optimization for Merge node with control input: assert_equal_1/Assert/AssertGuard/branch_executed/_9\n",
      "2024-07-07 13:22:19.278570: W tensorflow/core/grappler/optimizers/loop_optimizer.cc:933] Skipping loop optimization for Merge node with control input: assert_equal_1/Assert/AssertGuard/branch_executed/_9\n",
      "2024-07-07 13:22:22.128924: W tensorflow/core/grappler/optimizers/loop_optimizer.cc:933] Skipping loop optimization for Merge node with control input: assert_equal_1/Assert/AssertGuard/branch_executed/_9\n",
      "2024-07-07 13:22:40.144426: W tensorflow/core/grappler/optimizers/loop_optimizer.cc:933] Skipping loop optimization for Merge node with control input: assert_equal_1/Assert/AssertGuard/branch_executed/_9\n",
      "2024-07-07 13:22:40.260924: W tensorflow/core/grappler/optimizers/loop_optimizer.cc:933] Skipping loop optimization for Merge node with control input: assert_equal_1/Assert/AssertGuard/branch_executed/_9\n",
      "2024-07-07 13:22:43.060638: W tensorflow/core/grappler/optimizers/loop_optimizer.cc:933] Skipping loop optimization for Merge node with control input: assert_equal_1/Assert/AssertGuard/branch_executed/_9\n",
      "2024-07-07 13:23:00.453617: W tensorflow/core/grappler/optimizers/loop_optimizer.cc:933] Skipping loop optimization for Merge node with control input: assert_equal_1/Assert/AssertGuard/branch_executed/_9\n",
      "2024-07-07 13:23:00.570568: W tensorflow/core/grappler/optimizers/loop_optimizer.cc:933] Skipping loop optimization for Merge node with control input: assert_equal_1/Assert/AssertGuard/branch_executed/_9\n",
      "2024-07-07 13:23:03.388217: W tensorflow/core/grappler/optimizers/loop_optimizer.cc:933] Skipping loop optimization for Merge node with control input: assert_equal_1/Assert/AssertGuard/branch_executed/_9\n",
      "2024-07-07 13:23:20.762825: W tensorflow/core/grappler/optimizers/loop_optimizer.cc:933] Skipping loop optimization for Merge node with control input: assert_equal_1/Assert/AssertGuard/branch_executed/_9\n",
      "2024-07-07 13:23:20.880048: W tensorflow/core/grappler/optimizers/loop_optimizer.cc:933] Skipping loop optimization for Merge node with control input: assert_equal_1/Assert/AssertGuard/branch_executed/_9\n",
      "2024-07-07 13:23:23.672599: W tensorflow/core/grappler/optimizers/loop_optimizer.cc:933] Skipping loop optimization for Merge node with control input: assert_equal_1/Assert/AssertGuard/branch_executed/_9\n",
      "2024-07-07 13:23:47.966872: W tensorflow/core/grappler/optimizers/loop_optimizer.cc:933] Skipping loop optimization for Merge node with control input: assert_equal_1/Assert/AssertGuard/branch_executed/_9\n",
      "2024-07-07 13:23:48.083403: W tensorflow/core/grappler/optimizers/loop_optimizer.cc:933] Skipping loop optimization for Merge node with control input: assert_equal_1/Assert/AssertGuard/branch_executed/_9\n",
      "2024-07-07 13:23:50.873572: W tensorflow/core/grappler/optimizers/loop_optimizer.cc:933] Skipping loop optimization for Merge node with control input: assert_equal_1/Assert/AssertGuard/branch_executed/_9\n",
      "2024-07-07 13:24:15.210536: W tensorflow/core/grappler/optimizers/loop_optimizer.cc:933] Skipping loop optimization for Merge node with control input: assert_equal_1/Assert/AssertGuard/branch_executed/_9\n",
      "2024-07-07 13:24:15.332185: W tensorflow/core/grappler/optimizers/loop_optimizer.cc:933] Skipping loop optimization for Merge node with control input: assert_equal_1/Assert/AssertGuard/branch_executed/_9\n",
      "2024-07-07 13:24:18.131008: W tensorflow/core/grappler/optimizers/loop_optimizer.cc:933] Skipping loop optimization for Merge node with control input: assert_equal_1/Assert/AssertGuard/branch_executed/_9\n",
      "2024-07-07 13:24:35.550726: W tensorflow/core/grappler/optimizers/loop_optimizer.cc:933] Skipping loop optimization for Merge node with control input: assert_equal_1/Assert/AssertGuard/branch_executed/_9\n",
      "2024-07-07 13:24:35.668012: W tensorflow/core/grappler/optimizers/loop_optimizer.cc:933] Skipping loop optimization for Merge node with control input: assert_equal_1/Assert/AssertGuard/branch_executed/_9\n",
      "2024-07-07 13:24:38.503939: W tensorflow/core/grappler/optimizers/loop_optimizer.cc:933] Skipping loop optimization for Merge node with control input: assert_equal_1/Assert/AssertGuard/branch_executed/_9\n",
      "2024-07-07 13:24:55.964994: W tensorflow/core/grappler/optimizers/loop_optimizer.cc:933] Skipping loop optimization for Merge node with control input: assert_equal_1/Assert/AssertGuard/branch_executed/_9\n",
      "2024-07-07 13:24:56.083118: W tensorflow/core/grappler/optimizers/loop_optimizer.cc:933] Skipping loop optimization for Merge node with control input: assert_equal_1/Assert/AssertGuard/branch_executed/_9\n",
      "2024-07-07 13:24:58.894284: W tensorflow/core/grappler/optimizers/loop_optimizer.cc:933] Skipping loop optimization for Merge node with control input: assert_equal_1/Assert/AssertGuard/branch_executed/_9\n",
      "2024-07-07 13:25:23.554565: W tensorflow/core/grappler/optimizers/loop_optimizer.cc:933] Skipping loop optimization for Merge node with control input: assert_equal_1/Assert/AssertGuard/branch_executed/_9\n",
      "2024-07-07 13:25:23.671859: W tensorflow/core/grappler/optimizers/loop_optimizer.cc:933] Skipping loop optimization for Merge node with control input: assert_equal_1/Assert/AssertGuard/branch_executed/_9\n",
      "2024-07-07 13:25:26.497415: W tensorflow/core/grappler/optimizers/loop_optimizer.cc:933] Skipping loop optimization for Merge node with control input: assert_equal_1/Assert/AssertGuard/branch_executed/_9\n",
      "2024-07-07 13:25:43.800913: W tensorflow/core/grappler/optimizers/loop_optimizer.cc:933] Skipping loop optimization for Merge node with control input: assert_equal_1/Assert/AssertGuard/branch_executed/_9\n",
      "2024-07-07 13:25:43.918088: W tensorflow/core/grappler/optimizers/loop_optimizer.cc:933] Skipping loop optimization for Merge node with control input: assert_equal_1/Assert/AssertGuard/branch_executed/_9\n",
      "2024-07-07 13:25:46.709875: W tensorflow/core/grappler/optimizers/loop_optimizer.cc:933] Skipping loop optimization for Merge node with control input: assert_equal_1/Assert/AssertGuard/branch_executed/_9\n",
      "2024-07-07 13:26:03.636933: W tensorflow/core/grappler/optimizers/loop_optimizer.cc:933] Skipping loop optimization for Merge node with control input: assert_equal_1/Assert/AssertGuard/branch_executed/_9\n",
      "2024-07-07 13:26:03.753862: W tensorflow/core/grappler/optimizers/loop_optimizer.cc:933] Skipping loop optimization for Merge node with control input: assert_equal_1/Assert/AssertGuard/branch_executed/_9\n",
      "2024-07-07 13:26:06.620034: W tensorflow/core/grappler/optimizers/loop_optimizer.cc:933] Skipping loop optimization for Merge node with control input: assert_equal_1/Assert/AssertGuard/branch_executed/_9\n",
      "2024-07-07 13:26:30.339348: W tensorflow/core/grappler/optimizers/loop_optimizer.cc:933] Skipping loop optimization for Merge node with control input: assert_equal_1/Assert/AssertGuard/branch_executed/_9\n",
      "2024-07-07 13:26:30.458826: W tensorflow/core/grappler/optimizers/loop_optimizer.cc:933] Skipping loop optimization for Merge node with control input: assert_equal_1/Assert/AssertGuard/branch_executed/_9\n",
      "2024-07-07 13:26:33.310999: W tensorflow/core/grappler/optimizers/loop_optimizer.cc:933] Skipping loop optimization for Merge node with control input: assert_equal_1/Assert/AssertGuard/branch_executed/_9\n",
      "2024-07-07 13:26:50.555125: W tensorflow/core/grappler/optimizers/loop_optimizer.cc:933] Skipping loop optimization for Merge node with control input: assert_equal_1/Assert/AssertGuard/branch_executed/_9\n",
      "2024-07-07 13:26:50.673278: W tensorflow/core/grappler/optimizers/loop_optimizer.cc:933] Skipping loop optimization for Merge node with control input: assert_equal_1/Assert/AssertGuard/branch_executed/_9\n",
      "2024-07-07 13:26:53.479895: W tensorflow/core/grappler/optimizers/loop_optimizer.cc:933] Skipping loop optimization for Merge node with control input: assert_equal_1/Assert/AssertGuard/branch_executed/_9\n",
      "2024-07-07 13:27:10.841106: W tensorflow/core/grappler/optimizers/loop_optimizer.cc:933] Skipping loop optimization for Merge node with control input: assert_equal_1/Assert/AssertGuard/branch_executed/_9\n",
      "2024-07-07 13:27:10.968007: W tensorflow/core/grappler/optimizers/loop_optimizer.cc:933] Skipping loop optimization for Merge node with control input: assert_equal_1/Assert/AssertGuard/branch_executed/_9\n",
      "2024-07-07 13:27:13.758483: W tensorflow/core/grappler/optimizers/loop_optimizer.cc:933] Skipping loop optimization for Merge node with control input: assert_equal_1/Assert/AssertGuard/branch_executed/_9\n",
      "2024-07-07 13:27:31.236223: W tensorflow/core/grappler/optimizers/loop_optimizer.cc:933] Skipping loop optimization for Merge node with control input: assert_equal_1/Assert/AssertGuard/branch_executed/_9\n",
      "2024-07-07 13:27:31.355162: W tensorflow/core/grappler/optimizers/loop_optimizer.cc:933] Skipping loop optimization for Merge node with control input: assert_equal_1/Assert/AssertGuard/branch_executed/_9\n",
      "2024-07-07 13:27:34.185109: W tensorflow/core/grappler/optimizers/loop_optimizer.cc:933] Skipping loop optimization for Merge node with control input: assert_equal_1/Assert/AssertGuard/branch_executed/_9\n",
      "2024-07-07 13:27:51.919498: W tensorflow/core/grappler/optimizers/loop_optimizer.cc:933] Skipping loop optimization for Merge node with control input: assert_equal_1/Assert/AssertGuard/branch_executed/_9\n",
      "2024-07-07 13:27:52.038466: W tensorflow/core/grappler/optimizers/loop_optimizer.cc:933] Skipping loop optimization for Merge node with control input: assert_equal_1/Assert/AssertGuard/branch_executed/_9\n",
      "2024-07-07 13:27:54.873424: W tensorflow/core/grappler/optimizers/loop_optimizer.cc:933] Skipping loop optimization for Merge node with control input: assert_equal_1/Assert/AssertGuard/branch_executed/_9\n",
      "2024-07-07 13:28:12.644681: W tensorflow/core/grappler/optimizers/loop_optimizer.cc:933] Skipping loop optimization for Merge node with control input: assert_equal_1/Assert/AssertGuard/branch_executed/_9\n",
      "2024-07-07 13:28:12.763182: W tensorflow/core/grappler/optimizers/loop_optimizer.cc:933] Skipping loop optimization for Merge node with control input: assert_equal_1/Assert/AssertGuard/branch_executed/_9\n",
      "2024-07-07 13:28:15.571496: W tensorflow/core/grappler/optimizers/loop_optimizer.cc:933] Skipping loop optimization for Merge node with control input: assert_equal_1/Assert/AssertGuard/branch_executed/_9\n",
      "2024-07-07 13:28:41.620324: W tensorflow/core/grappler/optimizers/loop_optimizer.cc:933] Skipping loop optimization for Merge node with control input: assert_equal_1/Assert/AssertGuard/branch_executed/_9\n",
      "2024-07-07 13:28:41.737650: W tensorflow/core/grappler/optimizers/loop_optimizer.cc:933] Skipping loop optimization for Merge node with control input: assert_equal_1/Assert/AssertGuard/branch_executed/_9\n",
      "2024-07-07 13:28:44.572950: W tensorflow/core/grappler/optimizers/loop_optimizer.cc:933] Skipping loop optimization for Merge node with control input: assert_equal_1/Assert/AssertGuard/branch_executed/_9\n",
      "2024-07-07 13:29:09.477851: W tensorflow/core/grappler/optimizers/loop_optimizer.cc:933] Skipping loop optimization for Merge node with control input: assert_equal_1/Assert/AssertGuard/branch_executed/_9\n",
      "2024-07-07 13:29:09.596146: W tensorflow/core/grappler/optimizers/loop_optimizer.cc:933] Skipping loop optimization for Merge node with control input: assert_equal_1/Assert/AssertGuard/branch_executed/_9\n",
      "2024-07-07 13:29:12.453268: W tensorflow/core/grappler/optimizers/loop_optimizer.cc:933] Skipping loop optimization for Merge node with control input: assert_equal_1/Assert/AssertGuard/branch_executed/_9\n",
      "2024-07-07 13:29:30.215138: W tensorflow/core/grappler/optimizers/loop_optimizer.cc:933] Skipping loop optimization for Merge node with control input: assert_equal_1/Assert/AssertGuard/branch_executed/_9\n",
      "2024-07-07 13:29:30.641617: W tensorflow/core/grappler/optimizers/loop_optimizer.cc:933] Skipping loop optimization for Merge node with control input: assert_equal_1/Assert/AssertGuard/branch_executed/_9\n",
      "2024-07-07 13:29:33.448419: W tensorflow/core/grappler/optimizers/loop_optimizer.cc:933] Skipping loop optimization for Merge node with control input: assert_equal_1/Assert/AssertGuard/branch_executed/_9\n",
      "2024-07-07 13:29:51.380339: W tensorflow/core/grappler/optimizers/loop_optimizer.cc:933] Skipping loop optimization for Merge node with control input: assert_equal_1/Assert/AssertGuard/branch_executed/_9\n",
      "2024-07-07 13:29:51.498658: W tensorflow/core/grappler/optimizers/loop_optimizer.cc:933] Skipping loop optimization for Merge node with control input: assert_equal_1/Assert/AssertGuard/branch_executed/_9\n",
      "2024-07-07 13:29:54.285439: W tensorflow/core/grappler/optimizers/loop_optimizer.cc:933] Skipping loop optimization for Merge node with control input: assert_equal_1/Assert/AssertGuard/branch_executed/_9\n",
      "2024-07-07 13:30:20.054183: W tensorflow/core/grappler/optimizers/loop_optimizer.cc:933] Skipping loop optimization for Merge node with control input: assert_equal_1/Assert/AssertGuard/branch_executed/_9\n",
      "2024-07-07 13:30:20.175323: W tensorflow/core/grappler/optimizers/loop_optimizer.cc:933] Skipping loop optimization for Merge node with control input: assert_equal_1/Assert/AssertGuard/branch_executed/_9\n",
      "2024-07-07 13:30:23.013440: W tensorflow/core/grappler/optimizers/loop_optimizer.cc:933] Skipping loop optimization for Merge node with control input: assert_equal_1/Assert/AssertGuard/branch_executed/_9\n",
      "2024-07-07 13:30:41.620732: W tensorflow/core/grappler/optimizers/loop_optimizer.cc:933] Skipping loop optimization for Merge node with control input: assert_equal_1/Assert/AssertGuard/branch_executed/_9\n",
      "2024-07-07 13:30:41.743104: W tensorflow/core/grappler/optimizers/loop_optimizer.cc:933] Skipping loop optimization for Merge node with control input: assert_equal_1/Assert/AssertGuard/branch_executed/_9\n",
      "2024-07-07 13:30:44.592210: W tensorflow/core/grappler/optimizers/loop_optimizer.cc:933] Skipping loop optimization for Merge node with control input: assert_equal_1/Assert/AssertGuard/branch_executed/_9\n",
      "2024-07-07 13:31:10.249080: W tensorflow/core/grappler/optimizers/loop_optimizer.cc:933] Skipping loop optimization for Merge node with control input: assert_equal_1/Assert/AssertGuard/branch_executed/_9\n",
      "2024-07-07 13:31:10.368177: W tensorflow/core/grappler/optimizers/loop_optimizer.cc:933] Skipping loop optimization for Merge node with control input: assert_equal_1/Assert/AssertGuard/branch_executed/_9\n",
      "2024-07-07 13:31:13.165108: W tensorflow/core/grappler/optimizers/loop_optimizer.cc:933] Skipping loop optimization for Merge node with control input: assert_equal_1/Assert/AssertGuard/branch_executed/_9\n",
      "2024-07-07 13:31:38.484281: W tensorflow/core/grappler/optimizers/loop_optimizer.cc:933] Skipping loop optimization for Merge node with control input: assert_equal_1/Assert/AssertGuard/branch_executed/_9\n",
      "2024-07-07 13:31:38.602501: W tensorflow/core/grappler/optimizers/loop_optimizer.cc:933] Skipping loop optimization for Merge node with control input: assert_equal_1/Assert/AssertGuard/branch_executed/_9\n",
      "2024-07-07 13:31:41.397350: W tensorflow/core/grappler/optimizers/loop_optimizer.cc:933] Skipping loop optimization for Merge node with control input: assert_equal_1/Assert/AssertGuard/branch_executed/_9\n",
      "2024-07-07 13:32:06.147976: W tensorflow/core/grappler/optimizers/loop_optimizer.cc:933] Skipping loop optimization for Merge node with control input: assert_equal_1/Assert/AssertGuard/branch_executed/_9\n",
      "2024-07-07 13:32:06.265974: W tensorflow/core/grappler/optimizers/loop_optimizer.cc:933] Skipping loop optimization for Merge node with control input: assert_equal_1/Assert/AssertGuard/branch_executed/_9\n",
      "2024-07-07 13:32:09.144085: W tensorflow/core/grappler/optimizers/loop_optimizer.cc:933] Skipping loop optimization for Merge node with control input: assert_equal_1/Assert/AssertGuard/branch_executed/_9\n",
      "2024-07-07 13:32:34.114189: W tensorflow/core/grappler/optimizers/loop_optimizer.cc:933] Skipping loop optimization for Merge node with control input: assert_equal_1/Assert/AssertGuard/branch_executed/_9\n",
      "2024-07-07 13:32:34.232809: W tensorflow/core/grappler/optimizers/loop_optimizer.cc:933] Skipping loop optimization for Merge node with control input: assert_equal_1/Assert/AssertGuard/branch_executed/_9\n",
      "2024-07-07 13:32:37.048810: W tensorflow/core/grappler/optimizers/loop_optimizer.cc:933] Skipping loop optimization for Merge node with control input: assert_equal_1/Assert/AssertGuard/branch_executed/_9\n",
      "2024-07-07 13:32:54.621338: W tensorflow/core/grappler/optimizers/loop_optimizer.cc:933] Skipping loop optimization for Merge node with control input: assert_equal_1/Assert/AssertGuard/branch_executed/_9\n",
      "2024-07-07 13:32:54.738986: W tensorflow/core/grappler/optimizers/loop_optimizer.cc:933] Skipping loop optimization for Merge node with control input: assert_equal_1/Assert/AssertGuard/branch_executed/_9\n",
      "2024-07-07 13:32:57.527098: W tensorflow/core/grappler/optimizers/loop_optimizer.cc:933] Skipping loop optimization for Merge node with control input: assert_equal_1/Assert/AssertGuard/branch_executed/_9\n",
      "2024-07-07 13:33:15.310880: W tensorflow/core/grappler/optimizers/loop_optimizer.cc:933] Skipping loop optimization for Merge node with control input: assert_equal_1/Assert/AssertGuard/branch_executed/_9\n",
      "2024-07-07 13:33:15.429439: W tensorflow/core/grappler/optimizers/loop_optimizer.cc:933] Skipping loop optimization for Merge node with control input: assert_equal_1/Assert/AssertGuard/branch_executed/_9\n",
      "2024-07-07 13:33:18.278923: W tensorflow/core/grappler/optimizers/loop_optimizer.cc:933] Skipping loop optimization for Merge node with control input: assert_equal_1/Assert/AssertGuard/branch_executed/_9\n",
      "2024-07-07 13:33:42.874250: W tensorflow/core/grappler/optimizers/loop_optimizer.cc:933] Skipping loop optimization for Merge node with control input: assert_equal_1/Assert/AssertGuard/branch_executed/_9\n",
      "2024-07-07 13:33:42.991922: W tensorflow/core/grappler/optimizers/loop_optimizer.cc:933] Skipping loop optimization for Merge node with control input: assert_equal_1/Assert/AssertGuard/branch_executed/_9\n",
      "2024-07-07 13:33:45.800648: W tensorflow/core/grappler/optimizers/loop_optimizer.cc:933] Skipping loop optimization for Merge node with control input: assert_equal_1/Assert/AssertGuard/branch_executed/_9\n",
      "2024-07-07 13:34:02.911136: W tensorflow/core/grappler/optimizers/loop_optimizer.cc:933] Skipping loop optimization for Merge node with control input: assert_equal_1/Assert/AssertGuard/branch_executed/_9\n",
      "2024-07-07 13:34:03.029342: W tensorflow/core/grappler/optimizers/loop_optimizer.cc:933] Skipping loop optimization for Merge node with control input: assert_equal_1/Assert/AssertGuard/branch_executed/_9\n",
      "2024-07-07 13:34:05.883454: W tensorflow/core/grappler/optimizers/loop_optimizer.cc:933] Skipping loop optimization for Merge node with control input: assert_equal_1/Assert/AssertGuard/branch_executed/_9\n",
      "2024-07-07 13:34:29.749400: W tensorflow/core/grappler/optimizers/loop_optimizer.cc:933] Skipping loop optimization for Merge node with control input: assert_equal_1/Assert/AssertGuard/branch_executed/_9\n",
      "2024-07-07 13:34:29.881877: W tensorflow/core/grappler/optimizers/loop_optimizer.cc:933] Skipping loop optimization for Merge node with control input: assert_equal_1/Assert/AssertGuard/branch_executed/_9\n",
      "2024-07-07 13:34:32.741799: W tensorflow/core/grappler/optimizers/loop_optimizer.cc:933] Skipping loop optimization for Merge node with control input: assert_equal_1/Assert/AssertGuard/branch_executed/_9\n",
      "2024-07-07 13:34:49.886308: W tensorflow/core/grappler/optimizers/loop_optimizer.cc:933] Skipping loop optimization for Merge node with control input: assert_equal_1/Assert/AssertGuard/branch_executed/_9\n",
      "2024-07-07 13:34:50.004023: W tensorflow/core/grappler/optimizers/loop_optimizer.cc:933] Skipping loop optimization for Merge node with control input: assert_equal_1/Assert/AssertGuard/branch_executed/_9\n",
      "2024-07-07 13:34:52.832295: W tensorflow/core/grappler/optimizers/loop_optimizer.cc:933] Skipping loop optimization for Merge node with control input: assert_equal_1/Assert/AssertGuard/branch_executed/_9\n",
      "2024-07-07 13:35:16.889625: W tensorflow/core/grappler/optimizers/loop_optimizer.cc:933] Skipping loop optimization for Merge node with control input: assert_equal_1/Assert/AssertGuard/branch_executed/_9\n",
      "2024-07-07 13:35:17.007387: W tensorflow/core/grappler/optimizers/loop_optimizer.cc:933] Skipping loop optimization for Merge node with control input: assert_equal_1/Assert/AssertGuard/branch_executed/_9\n",
      "2024-07-07 13:35:19.792158: W tensorflow/core/grappler/optimizers/loop_optimizer.cc:933] Skipping loop optimization for Merge node with control input: assert_equal_1/Assert/AssertGuard/branch_executed/_9\n",
      "2024-07-07 13:35:37.125534: W tensorflow/core/grappler/optimizers/loop_optimizer.cc:933] Skipping loop optimization for Merge node with control input: assert_equal_1/Assert/AssertGuard/branch_executed/_9\n",
      "2024-07-07 13:35:37.243423: W tensorflow/core/grappler/optimizers/loop_optimizer.cc:933] Skipping loop optimization for Merge node with control input: assert_equal_1/Assert/AssertGuard/branch_executed/_9\n",
      "2024-07-07 13:35:40.039745: W tensorflow/core/grappler/optimizers/loop_optimizer.cc:933] Skipping loop optimization for Merge node with control input: assert_equal_1/Assert/AssertGuard/branch_executed/_9\n",
      "2024-07-07 13:35:57.407250: W tensorflow/core/grappler/optimizers/loop_optimizer.cc:933] Skipping loop optimization for Merge node with control input: assert_equal_1/Assert/AssertGuard/branch_executed/_9\n",
      "2024-07-07 13:35:57.526400: W tensorflow/core/grappler/optimizers/loop_optimizer.cc:933] Skipping loop optimization for Merge node with control input: assert_equal_1/Assert/AssertGuard/branch_executed/_9\n",
      "2024-07-07 13:36:00.366255: W tensorflow/core/grappler/optimizers/loop_optimizer.cc:933] Skipping loop optimization for Merge node with control input: assert_equal_1/Assert/AssertGuard/branch_executed/_9\n",
      "2024-07-07 13:36:17.832303: W tensorflow/core/grappler/optimizers/loop_optimizer.cc:933] Skipping loop optimization for Merge node with control input: assert_equal_1/Assert/AssertGuard/branch_executed/_9\n",
      "2024-07-07 13:36:17.952034: W tensorflow/core/grappler/optimizers/loop_optimizer.cc:933] Skipping loop optimization for Merge node with control input: assert_equal_1/Assert/AssertGuard/branch_executed/_9\n",
      "2024-07-07 13:36:20.759281: W tensorflow/core/grappler/optimizers/loop_optimizer.cc:933] Skipping loop optimization for Merge node with control input: assert_equal_1/Assert/AssertGuard/branch_executed/_9\n"
     ]
    }
   ],
   "execution_count": 14
  },
  {
   "metadata": {
    "ExecuteTime": {
     "end_time": "2024-07-07T11:36:21.856292Z",
     "start_time": "2024-07-07T11:36:21.847442Z"
    }
   },
   "cell_type": "code",
   "source": [
    "mean_dauc_rise = np.sum(daucs_rise) / k_first_samples\n",
    "mean_dauc_lime = np.sum(daucs_lime) / k_first_samples\n",
    "mean_daus_shap = np.sum(daucs_shap) / k_first_samples"
   ],
   "id": "60ef4d0da03150b3",
   "outputs": [],
   "execution_count": 15
  },
  {
   "metadata": {
    "ExecuteTime": {
     "end_time": "2024-07-07T11:36:21.891541Z",
     "start_time": "2024-07-07T11:36:21.865374Z"
    }
   },
   "cell_type": "code",
   "source": [
    "print(f\"Mean DAUC of RISE = {mean_dauc_rise}\")\n",
    "print(f\"Mean DAUC of LIME = {mean_dauc_lime}\")\n",
    "print(f\"Mean DAUC of SHAP = {mean_daus_shap}\")\n",
    "\n",
    "\n",
    "\"\"\"\n",
    "# Output of mean values in last run\n",
    "Mean DAUC of RISE = 113.22977137638897\n",
    "Mean DAUC of LIME = 147.55649903565646\n",
    "Mean DAUC of SHAP = 148.94185312092304\n",
    "\"\"\""
   ],
   "id": "e2fa99f5ff54d43b",
   "outputs": [
    {
     "name": "stdout",
     "output_type": "stream",
     "text": [
      "Mean DAUC of RISE = 113.0477071053006\n",
      "Mean DAUC of LIME = 146.66033105507492\n",
      "Mean DAUC of SHAP = 148.95736768960953\n"
     ]
    },
    {
     "data": {
      "text/plain": [
       "'\\n# Output of mean values in last run\\nMean DAUC of RISE = 113.22977137638897\\nMean DAUC of LIME = 147.55649903565646\\nMean DAUC of SHAP = 148.94185312092304\\n'"
      ]
     },
     "execution_count": 16,
     "metadata": {},
     "output_type": "execute_result"
    }
   ],
   "execution_count": 16
  },
  {
   "metadata": {},
   "cell_type": "markdown",
   "source": [
    "According to the mean dauc, the RISE method performs better more often. We will focus on the saliency maps generated by rise, to derive features of a good explanation, for the zero classification.\n",
    "Generally, the highlighted regions of RISE contain both side of the zero, with visually the same importance. However, there seem to be some zeros, where the sides dont seem to be equally important. \n",
    "We will create a list of indices, to rerun RISE with those zeros, but with a higher number of masks than 10^4. If both sides then are equally important, the random mask generation is at fault. But if it stays \n",
    "the same, i.e the sides are still note equally important, it is more likely, that we have to different groups of zeros at hand."
   ],
   "id": "6c2bde02e87aa384"
  },
  {
   "metadata": {},
   "cell_type": "markdown",
   "source": [
    "<h4>Hypothesis-Section: Asymmetrical Classes of Zero are likely to exist. Approximate Runtime of this cell ~ 1 hour, which is why only run this method only, if the user explicitly wished to do so.\n",
    "Results probabaly will not vary much anyway, due to the high number of masks.</h4>"
   ],
   "id": "c045c86dca803597"
  },
  {
   "metadata": {
    "ExecuteTime": {
     "end_time": "2024-07-07T11:36:21.899214Z",
     "start_time": "2024-07-07T11:36:21.892757Z"
    }
   },
   "cell_type": "code",
   "source": [
    "def rerun_rise_with_50_000_masks_to_increase_likelihood_of_asymmetrical_masks(to_be_called:bool=False):\n",
    "    \"\"\"\n",
    "    As it could be the case, that the zeros with asymmetrical lateral importance, are due to not having both sides equally covered, we rerun RISE on those inputs, \n",
    "    but with a higher number of masks (50.000), to increase the odds, of having at least 2 classes in our zeros, those with equal lateral importance and those \n",
    "    with unequal lateral importance\n",
    "    :param to_be_called: set this parameter to true, if you want to run this function, in the following cell\n",
    "    :return: nothing, but the generated images can be found in the \"rise_asymmetrical_tests\" directoy\n",
    "    \"\"\"\n",
    "    if not to_be_called:\n",
    "        return \n",
    "    \n",
    "    # These numbers were derived from the saliency_maps image folder, where the sides do not seem to be equally important\n",
    "    indices = [\n",
    "        7, 8, 10, 11, 14, 26, 29, 31, 39, 40, 44, 47, 48, 49, 51, 53, 54, 59, 66, 68, 69, 71, 72, 73, 74, 75, 77, 78, 81, 82, 83, 85, 86, 88, 90, 93, 94, 95, 96, 97, 99\n",
    "    ]\n",
    "    \n",
    "    for index in indices:\n",
    "        zero = training_data_with_0_target_class[index - 1]\n",
    "        zero = zero.numpy().reshape(1, 28, 28).astype(np.float32)\n",
    "        saliency_map_rise = dianna.explain_image(model_path, zero, method=\"RISE\", labels=[0], n_masks=5*10**4, axis_labels=axis_labels, p_keep=0.5)\n",
    "        plt.subplot(1, 1, 1)\n",
    "        plt.title(\"RISE\")\n",
    "        plt.imshow(saliency_map_rise.reshape(28, 28))\n",
    "        plt.imshow(zero.reshape(28, 28), alpha=.3, cmap=\"grey\")\n",
    "        plt.axis('off')\n",
    "        plt.savefig(f\"images/rise_asymmetrical_tests/{index}_rise_asymmetrical_zero_test.png\")\n",
    "        plt.close()"
   ],
   "id": "dba265a5f5037b76",
   "outputs": [],
   "execution_count": 17
  },
  {
   "metadata": {
    "ExecuteTime": {
     "end_time": "2024-07-07T13:08:01.389291Z",
     "start_time": "2024-07-07T11:36:21.900454Z"
    }
   },
   "cell_type": "code",
   "source": "rerun_rise_with_50_000_masks_to_increase_likelihood_of_asymmetrical_masks(to_be_called=True)",
   "id": "e05c06f9f897dad3",
   "outputs": [
    {
     "name": "stderr",
     "output_type": "stream",
     "text": [
      "Explaining: 100%|██████████| 50000/50000 [01:13<00:00, 680.86it/s]\n",
      "Explaining: 100%|██████████| 50000/50000 [01:13<00:00, 682.47it/s]\n",
      "Explaining: 100%|██████████| 50000/50000 [01:13<00:00, 677.46it/s]\n",
      "Explaining: 100%|██████████| 50000/50000 [01:14<00:00, 675.67it/s]\n",
      "Explaining: 100%|██████████| 50000/50000 [01:12<00:00, 685.84it/s]\n",
      "Explaining: 100%|██████████| 50000/50000 [01:12<00:00, 691.31it/s]\n",
      "Explaining: 100%|██████████| 50000/50000 [01:12<00:00, 688.76it/s]\n",
      "Explaining: 100%|██████████| 50000/50000 [01:12<00:00, 690.53it/s]\n",
      "Explaining: 100%|██████████| 50000/50000 [01:12<00:00, 693.39it/s]\n",
      "Explaining: 100%|██████████| 50000/50000 [01:12<00:00, 686.13it/s]\n",
      "Explaining: 100%|██████████| 50000/50000 [01:13<00:00, 684.42it/s]\n",
      "Explaining: 100%|██████████| 50000/50000 [01:13<00:00, 676.47it/s]\n",
      "Explaining: 100%|██████████| 50000/50000 [01:12<00:00, 692.86it/s]\n",
      "Explaining: 100%|██████████| 50000/50000 [01:12<00:00, 692.54it/s]\n",
      "Explaining: 100%|██████████| 50000/50000 [01:12<00:00, 689.43it/s]\n",
      "Explaining: 100%|██████████| 50000/50000 [01:12<00:00, 691.66it/s]\n",
      "Explaining: 100%|██████████| 50000/50000 [01:12<00:00, 691.43it/s]\n",
      "Explaining: 100%|██████████| 50000/50000 [01:12<00:00, 693.40it/s]\n",
      "Explaining: 100%|██████████| 50000/50000 [01:12<00:00, 693.04it/s]\n",
      "Explaining: 100%|██████████| 50000/50000 [01:11<00:00, 694.69it/s]\n",
      "Explaining: 100%|██████████| 50000/50000 [01:12<00:00, 686.90it/s]\n",
      "Explaining: 100%|██████████| 50000/50000 [01:13<00:00, 683.21it/s]\n",
      "Explaining: 100%|██████████| 50000/50000 [35:18<00:00, 23.60it/s]   \n",
      "Explaining: 100%|██████████| 50000/50000 [06:52<00:00, 121.23it/s] \n",
      "Explaining: 100%|██████████| 50000/50000 [01:14<00:00, 674.73it/s]\n",
      "Explaining: 100%|██████████| 50000/50000 [01:15<00:00, 658.96it/s]\n",
      "Explaining: 100%|██████████| 50000/50000 [01:16<00:00, 656.69it/s]\n",
      "Explaining: 100%|██████████| 50000/50000 [01:16<00:00, 650.35it/s]\n",
      "Explaining: 100%|██████████| 50000/50000 [01:13<00:00, 678.68it/s]\n",
      "Explaining: 100%|██████████| 50000/50000 [01:11<00:00, 701.72it/s]\n",
      "Explaining: 100%|██████████| 50000/50000 [01:11<00:00, 702.37it/s]\n",
      "Explaining: 100%|██████████| 50000/50000 [01:09<00:00, 715.15it/s]\n",
      "Explaining: 100%|██████████| 50000/50000 [01:12<00:00, 692.46it/s]\n",
      "Explaining: 100%|██████████| 50000/50000 [01:12<00:00, 691.65it/s]\n",
      "Explaining: 100%|██████████| 50000/50000 [01:12<00:00, 688.27it/s]\n",
      "Explaining: 100%|██████████| 50000/50000 [01:13<00:00, 683.51it/s]\n",
      "Explaining: 100%|██████████| 50000/50000 [01:15<00:00, 666.42it/s]\n",
      "Explaining: 100%|██████████| 50000/50000 [01:17<00:00, 646.39it/s]\n",
      "Explaining: 100%|██████████| 50000/50000 [01:17<00:00, 647.19it/s]\n",
      "Explaining: 100%|██████████| 50000/50000 [01:16<00:00, 649.72it/s]\n",
      "Explaining: 100%|██████████| 50000/50000 [01:15<00:00, 665.13it/s]\n"
     ]
    }
   ],
   "execution_count": 18
  }
 ],
 "metadata": {
  "kernelspec": {
   "display_name": "Python 3",
   "language": "python",
   "name": "python3"
  },
  "language_info": {
   "codemirror_mode": {
    "name": "ipython",
    "version": 3
   },
   "file_extension": ".py",
   "mimetype": "text/x-python",
   "name": "python",
   "nbconvert_exporter": "python",
   "pygments_lexer": "ipython3",
   "version": "3.11.9"
  }
 },
 "nbformat": 4,
 "nbformat_minor": 5
}
