{
 "cells": [
  {
   "metadata": {},
   "cell_type": "markdown",
   "source": "<h4>Runtimes may vary. For this notebook a standard mac mini m2 with 16gb RAM was used</h4>",
   "id": "a90d5bc76414b759"
  },
  {
   "cell_type": "code",
   "id": "initial_id",
   "metadata": {
    "collapsed": true,
    "ExecuteTime": {
     "end_time": "2024-07-10T10:16:07.878719Z",
     "start_time": "2024-07-10T10:16:02.950728Z"
    }
   },
   "source": [
    "import dianna\n",
    "import torchvision.transforms as transforms\n",
    "import torchvision\n",
    "import matplotlib.pyplot as plt\n",
    "import numpy as np\n",
    "import onnxruntime as ort"
   ],
   "outputs": [],
   "execution_count": 1
  },
  {
   "cell_type": "code",
   "id": "99fd69f722da7f4c",
   "metadata": {
    "ExecuteTime": {
     "end_time": "2024-07-10T10:16:07.915668Z",
     "start_time": "2024-07-10T10:16:07.879506Z"
    }
   },
   "source": [
    "transform = transforms.Compose([torchvision.transforms.ToTensor()])\n",
    "trainset = torchvision.datasets.MNIST(root='./data', train=True, download=True, transform=transform)"
   ],
   "outputs": [],
   "execution_count": 2
  },
  {
   "cell_type": "code",
   "id": "39020461ca21ff92",
   "metadata": {
    "ExecuteTime": {
     "end_time": "2024-07-10T10:16:07.918205Z",
     "start_time": "2024-07-10T10:16:07.916594Z"
    }
   },
   "source": [
    "model_path = \"./models/mnist_model.onnx\" # an onnx model containing a cNN for the binary-mnist, classifying as 0 or 1 only\n",
    "axis_labels = {0: 'channels'} # the color channels for the inputs have to be specified in order for dianna to work"
   ],
   "outputs": [],
   "execution_count": 3
  },
  {
   "metadata": {
    "ExecuteTime": {
     "end_time": "2024-07-10T10:16:07.924326Z",
     "start_time": "2024-07-10T10:16:07.919734Z"
    }
   },
   "cell_type": "code",
   "source": [
    "# We will need the session to get the predictions later on for the DAUC-Metric. Dianna works by specifying the model path and abstracts away the instantiation of the session\n",
    "# which is why we have to initiate one ourselves\n",
    "session = ort.InferenceSession(model_path)\n",
    "input_name = session.get_inputs()[0].name\n",
    "output_name = session.get_outputs()[0].name\n",
    "\n",
    " # Use the exponential function after the prediction to negate log-softmaxing. This allows us to interprete the results as a probability vector again\n",
    "predict = lambda input_for_prediction: np.exp(session.run([output_name], {input_name: input_for_prediction}))"
   ],
   "id": "5b66393f2689661f",
   "outputs": [],
   "execution_count": 4
  },
  {
   "metadata": {
    "ExecuteTime": {
     "end_time": "2024-07-10T10:16:07.927853Z",
     "start_time": "2024-07-10T10:16:07.924907Z"
    }
   },
   "cell_type": "code",
   "source": "training_data_with_0_target_class = trainset.data[trainset.targets == 0]",
   "id": "c180cf92c4a2b9dc",
   "outputs": [],
   "execution_count": 5
  },
  {
   "metadata": {
    "ExecuteTime": {
     "end_time": "2024-07-10T10:16:07.929987Z",
     "start_time": "2024-07-10T10:16:07.928414Z"
    }
   },
   "cell_type": "code",
   "source": "first_zero = training_data_with_0_target_class[0]",
   "id": "7067dca89cd66442",
   "outputs": [],
   "execution_count": 6
  },
  {
   "metadata": {
    "ExecuteTime": {
     "end_time": "2024-07-10T10:16:08.018653Z",
     "start_time": "2024-07-10T10:16:07.930513Z"
    }
   },
   "cell_type": "code",
   "source": [
    "# Display the first zero as reference\n",
    "plt.imshow(first_zero, cmap=\"grey\")"
   ],
   "id": "5d75082131759c9d",
   "outputs": [
    {
     "data": {
      "text/plain": [
       "<matplotlib.image.AxesImage at 0x148dac4d0>"
      ]
     },
     "execution_count": 7,
     "metadata": {},
     "output_type": "execute_result"
    },
    {
     "data": {
      "text/plain": [
       "<Figure size 640x480 with 1 Axes>"
      ],
      "image/png": "[encoded data removed]"
     },
     "metadata": {},
     "output_type": "display_data"
    }
   ],
   "execution_count": 7
  },
  {
   "metadata": {},
   "cell_type": "markdown",
   "source": "------------------- START OF SECTION FOR RISE_PARAMETER_INITIALIZATION -------------",
   "id": "276fa2cf48d01e8e"
  },
  {
   "metadata": {},
   "cell_type": "markdown",
   "source": [
    "<h4>In this Section we generate multiple saliency maps with RISE to heuristically determine, which number of masks is viable in general</h4>\n",
    "As RISE is computionally heavy, the parameter to_be_called is set to False. If (for whatever reason) you wish to run this method, please set the parameter to True in the following cell after the function definition. Runtime of this cell ~ 25 Mins"
   ],
   "id": "d2afc57c74c2d8ff"
  },
  {
   "metadata": {
    "ExecuteTime": {
     "end_time": "2024-07-10T10:16:08.022954Z",
     "start_time": "2024-07-10T10:16:08.019664Z"
    }
   },
   "cell_type": "code",
   "source": [
    "def generate_saliency_maps_for_rise_parameter_intialization(to_be_called:bool=False):\n",
    "    \"\"\"\n",
    "    Generates a grid_picture for the first_zero consisting of saliency maps constructed with RISE.\n",
    "    This method is used in the paper to visually approximate a lower bound for the number of \n",
    "    necessary masks.\n",
    "    :param to_be_called: set this parameter to true, if you want to run this method. As the output will most likely stay \n",
    "                         the same, it does not make any sense to run this method yourself. Please refer to the generated image.\n",
    "    :return: nothing, but the generated image can be found in the \"intended_for_paper\" directory\n",
    "    \"\"\"\n",
    "    if not to_be_called:\n",
    "        return\n",
    "    \n",
    "    fig, ax = plt.subplots(2, 3)\n",
    "    num_of_masks=[[10**1, 10**2, 10**3], [10**4, 10**5, 10**6]]\n",
    "    corresponding_str_titles = [[\"10e1\", \"10e2\", \"10e3\"], [\"10e4\", \"10e5\", \"10e6\"]]\n",
    "    first_zero_input = first_zero.numpy().reshape(1, 28, 28).astype(np.float32)\n",
    "    for i in range(2):\n",
    "        current_masks = num_of_masks[i]\n",
    "        current_titles = corresponding_str_titles[i]\n",
    "        for j in range(3):\n",
    "            saliency_map_rise = dianna.explain_image(model_path, first_zero_input, method=\"RISE\", labels=[0], n_masks=current_masks[j], axis_labels=axis_labels, p_keep=0.5)\n",
    "            ax[i, j].set_title(f\"Masks = {current_titles[j]}\")\n",
    "            ax[i, j].imshow(saliency_map_rise.reshape(28, 28))\n",
    "            ax[i, j].imshow(first_zero.reshape(28, 28), cmap=\"grey\", alpha=.3)\n",
    "            ax[i, j].set_axis_off()\n",
    "    plt.savefig(\"images/intended_for_paper/rise_n_masks.png\")"
   ],
   "id": "2187058762a394b",
   "outputs": [],
   "execution_count": 8
  },
  {
   "metadata": {
    "ExecuteTime": {
     "end_time": "2024-07-10T10:16:08.025189Z",
     "start_time": "2024-07-10T10:16:08.023716Z"
    }
   },
   "cell_type": "code",
   "source": "generate_saliency_maps_for_rise_parameter_intialization(to_be_called=False)",
   "id": "70b4d619216deed",
   "outputs": [],
   "execution_count": 9
  },
  {
   "metadata": {},
   "cell_type": "markdown",
   "source": "------------------- END OF SECTION FOR RISE_PARAMETER_INITIALIZATION -------------",
   "id": "6bcad97bbd009758"
  },
  {
   "metadata": {},
   "cell_type": "markdown",
   "source": [
    "<h4>DAUC-Calculation Section</h4>\n",
    "When generating the pictures, we are also interested in showcasing the DAUC metric. Unfortunately no package was found, that implements the DAUC directly, which is why we do that ourselves. \n",
    "We can delete the corresponding pixels by selecting the maxium values in the saliency map. We will gradually take the most yellow pixels, then replace them, run the model, to get the new confidence. We also want to draw \n",
    "the deleted regions in the picture output for reference."
   ],
   "id": "8b8db23332561f07"
  },
  {
   "metadata": {
    "ExecuteTime": {
     "end_time": "2024-07-10T10:16:08.808009Z",
     "start_time": "2024-07-10T10:16:08.027539Z"
    }
   },
   "cell_type": "code",
   "source": [
    "from scipy.integrate import trapezoid\n",
    "\n",
    "def calc_deletion_metric_and_return_image_with_deleted_areas_and_dauc(original_input, saliency_map):\n",
    "    \"\"\"\n",
    "    Calculates the DAUC-Metric for the given input. The most important pixels are derived from the saliency map provided.\n",
    "    :param original_input: the input on which the DAUC-Metric is inferred\n",
    "    :param saliency_map: is used to determine the most important pixels, which are deleted from the original input\n",
    "    :return: the dauc-score calculated along with the deleted image for reference\n",
    "    \"\"\"\n",
    "    saliency_map_copy = np.copy(saliency_map).reshape(28, 28)\n",
    "    original_input_copy = np.copy(original_input).reshape(28, 28)\n",
    "    \n",
    "    pixels_to_delete = 150\n",
    "    \n",
    "    outputs = []\n",
    "    \n",
    "    for _ in range(pixels_to_delete):\n",
    "        min_value_to_replace_max_with = np.min(saliency_map_copy)\n",
    "        saliency_map_max_value_x_index, saliency_map_max_value_y_index = np.unravel_index(np.argmax(saliency_map_copy), shape=(28, 28))\n",
    "        saliency_map_copy[saliency_map_max_value_x_index][saliency_map_max_value_y_index] = min_value_to_replace_max_with\n",
    "        original_input_copy[saliency_map_max_value_x_index][saliency_map_max_value_y_index] = 0\n",
    "        \n",
    "        predicted_output = predict(original_input_copy.reshape(1, 1, 28, 28))[0, 0, 0] # Only get the output prob for the zero class\n",
    "        \n",
    "        outputs.append(predicted_output)\n",
    "        \n",
    "    outputs = np.asarray(outputs)\n",
    "    deleted_area_under_curve = trapezoid(y=outputs, x=list(range(pixels_to_delete)))\n",
    "    \n",
    "    return original_input_copy, deleted_area_under_curve"
   ],
   "id": "4bbfec919c85e506",
   "outputs": [],
   "execution_count": 10
  },
  {
   "metadata": {},
   "cell_type": "markdown",
   "source": "<h4>Section: Good Explanations are not static. This Method will be used in the Main-Section</h4>",
   "id": "462d63aa16057244"
  },
  {
   "metadata": {
    "ExecuteTime": {
     "end_time": "2024-07-10T10:16:08.813479Z",
     "start_time": "2024-07-10T10:16:08.809094Z"
    }
   },
   "cell_type": "code",
   "source": [
    "def calc_rise_saliency_map_and_save_as_image(image_deleted_areas, index, original_zero):\n",
    "    \"\"\"\n",
    "    This method essentially runs RISE with the images containing the deleted areas and plots the confidence of the model as well.\n",
    "    A high confidence of the model despite deleting the areas, indicates poor performance.\n",
    "    :param image_deleted_areas: the image with the deleted areas, on which we run RISE with an increased number of masks.\n",
    "    :param index: is just used for the names of the images saved\n",
    "    :param original_zero: we use the original zero to overlay the images for reference and to calculate the original confidence of the model\n",
    "    :return: nothing, but the generated images can be found in the saliency_maps_for_hypothesis_testing image folder\n",
    "    \"\"\"\n",
    "    image_deleted_areas = image_deleted_areas.reshape(1, 1, 28, 28).astype(np.float32)\n",
    "    prediction_deleted = predict(image_deleted_areas)[0, 0, 0] # only get zero prediction\n",
    "    prediction_normal = predict(original_zero.reshape(1, 1, 28, 28).astype(np.float32))[0, 0, 0] # only get zero prediction\n",
    "    image_deleted_saliency_map_rise = dianna.explain_image(model_path, image_deleted_areas.reshape(1, 28, 28), method=\"RISE\", labels=[0], n_masks=5*10**3, axis_labels=axis_labels, p_keep=0.5)\n",
    "    fix, ax = plt.subplots(1, 2)\n",
    "    ax[0].set_title(f\"Conf.: {prediction_normal:2f}\")\n",
    "    ax[0].imshow(original_zero.reshape(28, 28), cmap=\"grey\")\n",
    "    ax[0].set_axis_off()\n",
    "    \n",
    "    ax[1].set_title(f\"Conf.: {prediction_deleted:.2f}\")\n",
    "    ax[1].imshow(image_deleted_saliency_map_rise.reshape(28, 28))\n",
    "    ax[1].imshow(image_deleted_areas.reshape(28, 28), cmap=\"grey\", alpha=.3)\n",
    "    ax[1].set_axis_off()\n",
    "    plt.savefig(f\"images/saliency_maps_for_hypothesis_testing/{index+1}_zero_deleted_areas.png\")\n",
    "    plt.close()"
   ],
   "id": "2d7dd9bdd35e8b9e",
   "outputs": [],
   "execution_count": 11
  },
  {
   "metadata": {},
   "cell_type": "markdown",
   "source": "<h4>The Main-Section. In this Section we generate the saliency maps</h4>",
   "id": "6afc07644dac6009"
  },
  {
   "metadata": {
    "ExecuteTime": {
     "end_time": "2024-07-10T10:16:08.819254Z",
     "start_time": "2024-07-10T10:16:08.814212Z"
    }
   },
   "cell_type": "code",
   "source": [
    "def save_heatmaps_side_by_side_with_original_as_png_file(index_as_filename:int, original_zero, \n",
    "                                                         rise_map, image_deleted_rise, dauc_rise, \n",
    "                                                         lime_map, image_deleted_lime, dauc_lime,\n",
    "                                                         shap_map, image_deleted_shap, dauc_shap):\n",
    "    \"\"\"\n",
    "    This method is used the plot the generated saliency maps side by side. We also plot the dauc values generated and the zeros \n",
    "    with the corresponding deleted regions for reference.\n",
    "    :param index_as_filename: the index is only used for the filenames with which the images are stored\n",
    "    :param original_zero: is used for reference only\n",
    "    :param rise_map: saliency map provided with rise\n",
    "    :param image_deleted_rise: the original zero but with the pixels deleted according the dauc-metric\n",
    "    :param dauc_rise: the dauc values calculated\n",
    "    :param lime_map: saliency map generated by LIME\n",
    "    :param image_deleted_lime: the original zero but with the pixels deleted according the dauc-metric\n",
    "    :param dauc_lime: the dauc values calculated\n",
    "    :param shap_map: saliency map generated by KernelSHAP\n",
    "    :param image_deleted_shap: the original zero but with the pixels deleted according the dauc-metric\n",
    "    :param dauc_shap: the dauc values calculated\n",
    "    :return: \n",
    "    \"\"\"\n",
    "    original_zero = original_zero.reshape(28, 28)\n",
    "    rise_map = rise_map.reshape(28, 28)\n",
    "    image_deleted_rise = image_deleted_rise.reshape(28, 28)\n",
    "    lime_map = lime_map.reshape(28, 28)\n",
    "    image_deleted_lime = image_deleted_lime.reshape(28, 28)\n",
    "    shap_map = shap_map.reshape(28, 28)\n",
    "    image_deleted_shap = image_deleted_shap.reshape(28, 28)\n",
    "    \n",
    "    fig, ax = plt.subplots(2, 4, figsize=(7, 4))\n",
    "    ax[0, 0].set_title(\"Original Data\")\n",
    "    ax[0, 0].imshow(original_zero, cmap=\"grey\")\n",
    "    ax[0, 0].set_axis_off()\n",
    "    \n",
    "    ax[0, 1].set_title(\"RISE\")\n",
    "    ax[0, 1].imshow(rise_map)\n",
    "    ax[0, 1].imshow(original_zero, alpha=.3)\n",
    "    ax[0, 1].set_axis_off()\n",
    "    \n",
    "    ax[1, 0].axis('off')\n",
    "    \n",
    "    ax[1, 1].imshow(image_deleted_rise, cmap=\"grey\")\n",
    "    ax[1, 1].set_axis_off()\n",
    "    ax[1, 1].set_title(f\"DAUC = {dauc_rise:.2f}\")\n",
    "    \n",
    "    ax[0, 2].set_title(\"LIME\")\n",
    "    ax[0, 2].imshow(lime_map)\n",
    "    ax[0, 2].imshow(original_zero, alpha=.3)\n",
    "    ax[0, 2].set_axis_off()\n",
    "    \n",
    "    ax[1, 2].imshow(image_deleted_lime, cmap=\"grey\")\n",
    "    ax[1, 2].set_title(f\"DAUC = {dauc_lime:.2f}\")\n",
    "    ax[1, 2].set_axis_off()\n",
    "    \n",
    "    ax[0, 3].set_title(\"KernelSHAP\")\n",
    "    ax[0, 3].imshow(shap_map)\n",
    "    ax[0, 3].imshow(original_zero, alpha=.3)\n",
    "    ax[0, 3].set_axis_off()\n",
    "    \n",
    "    ax[1, 3].imshow(image_deleted_shap, cmap=\"grey\")\n",
    "    ax[1, 3].set_title(f\"DAUC = {dauc_shap:.2f}\")\n",
    "    ax[1, 3].set_axis_off()\n",
    "    \n",
    "    plt.savefig(f\"images/saliency_maps/{index_as_filename + 1}_zero.png\")\n",
    "    plt.close()\n",
    "    #plt.show()"
   ],
   "id": "d0d4797f6b641898",
   "outputs": [],
   "execution_count": 12
  },
  {
   "metadata": {
    "ExecuteTime": {
     "end_time": "2024-07-10T10:16:08.824378Z",
     "start_time": "2024-07-10T10:16:08.820021Z"
    }
   },
   "cell_type": "code",
   "source": [
    "normalize_input_img = lambda img: (img / 255).astype(np.float32) # Is used for the preprocessing in the case of LIME. RISE and SHAP are not dependent on the preprocessing-process\n",
    "\n",
    "def run_all_explainibility_methods_on_first_k_inputs_and_generate_mean_saliency_maps(k_first_samples: int):\n",
    "    \"\"\"\n",
    "    This is the main method in which we generate the saliency-maps with RISE, LIME and KernelSHAP.\n",
    "    :param k_first_samples: The first k entries for which we would like to generate the saliency maps\n",
    "    :return: 3 lists, containing the dauc values calulcated for each method. Furthermore, the plotted saliencymaps are available in the saliency_maps folder\n",
    "    \"\"\"\n",
    "    daucs_rise, daucs_lime, daucs_shap = [], [], []\n",
    "    for i in range(k_first_samples):\n",
    "            zero = training_data_with_0_target_class[i]\n",
    "            zero = zero.numpy().reshape(1, 28, 28).astype(np.float32)\n",
    "            \n",
    "            # RISE\n",
    "            saliency_map_rise = dianna.explain_image(model_path, zero, method=\"RISE\", labels=[0], n_masks=10**4, axis_labels=axis_labels, p_keep=0.5)\n",
    "            image_deleted_ares_rise, dauc_rise = calc_deletion_metric_and_return_image_with_deleted_areas_and_dauc(zero, saliency_map_rise)\n",
    "            daucs_rise.append(dauc_rise)\n",
    "            \n",
    "            # Theoretical Maximum is 150 (despite deleting pixels, the confidence does not change). A value of 100 indicates that the model was still confident on the input being a zero on average.\n",
    "            # With RISE highlighting the lateral symmetry, we will likely see deleted horizontal sides but still a high confidence\n",
    "            if dauc_rise <= 100:\n",
    "                calc_rise_saliency_map_and_save_as_image(image_deleted_ares_rise, i, zero)\n",
    "            \n",
    "            # LIME\n",
    "            saliency_map_lime = dianna.explain_image(model_path, zero, method=\"LIME\", labels=[0, 1], axis_labels=axis_labels, num_features=100, num_samples=10000, preprocess_function=normalize_input_img)[0]\n",
    "            image_deleted_areas_lime, dauc_lime = calc_deletion_metric_and_return_image_with_deleted_areas_and_dauc(zero, saliency_map_lime)\n",
    "            daucs_lime.append(dauc_lime)\n",
    "            \n",
    "            # SHAP\n",
    "            saliency_map_shap = dianna.explain_image(model_path, zero, method=\"KernelSHAP\", axis_labels=axis_labels, labels=[0], background=0, nsamples=10000, n_segments=200)[0]\n",
    "            image_deleted_ares_shap, dauc_shap = calc_deletion_metric_and_return_image_with_deleted_areas_and_dauc(zero, saliency_map_shap)\n",
    "            daucs_shap.append(dauc_shap)\n",
    "        \n",
    "            save_heatmaps_side_by_side_with_original_as_png_file(i, zero, \n",
    "                                                                 saliency_map_rise, image_deleted_ares_rise, dauc_rise,\n",
    "                                                                 saliency_map_lime, image_deleted_areas_lime, dauc_lime,\n",
    "                                                                 saliency_map_shap, image_deleted_ares_shap, dauc_shap)\n",
    "    return daucs_rise, daucs_lime, daucs_shap    "
   ],
   "id": "3dc126f7197dba07",
   "outputs": [],
   "execution_count": 13
  },
  {
   "metadata": {},
   "cell_type": "markdown",
   "source": "<h4>Approximate Runtime of this cell: 45 Minutes</h4>",
   "id": "98df30a47a0a06f1"
  },
  {
   "metadata": {
    "ExecuteTime": {
     "end_time": "2024-07-10T10:54:07.303813Z",
     "start_time": "2024-07-10T10:16:08.824985Z"
    }
   },
   "cell_type": "code",
   "source": [
    "%%capture\n",
    "# We supress the output of this cell with the capture-call, because the output will get very long as each method uses a bar to indicate progress\n",
    "k_first_samples = 100\n",
    "daucs_rise, daucs_lime, daucs_shap = run_all_explainibility_methods_on_first_k_inputs_and_generate_mean_saliency_maps(k_first_samples)\n",
    "daucs_rise, daucs_lime, daucs_shap = np.array(daucs_rise) / 150, np.array(daucs_lime) / 150, np.array(daucs_shap) / 150"
   ],
   "id": "88a7c2932af55b39",
   "outputs": [
    {
     "name": "stderr",
     "output_type": "stream",
     "text": [
      "2024-07-10 12:16:30.799926: W tensorflow/core/grappler/optimizers/loop_optimizer.cc:933] Skipping loop optimization for Merge node with control input: assert_equal_1/Assert/AssertGuard/branch_executed/_9\n",
      "2024-07-10 12:16:30.919144: W tensorflow/core/grappler/optimizers/loop_optimizer.cc:933] Skipping loop optimization for Merge node with control input: assert_equal_1/Assert/AssertGuard/branch_executed/_9\n",
      "2024-07-10 12:16:33.744554: W tensorflow/core/grappler/optimizers/loop_optimizer.cc:933] Skipping loop optimization for Merge node with control input: assert_equal_1/Assert/AssertGuard/branch_executed/_9\n",
      "2024-07-10 12:16:50.473189: W tensorflow/core/grappler/optimizers/loop_optimizer.cc:933] Skipping loop optimization for Merge node with control input: assert_equal_1/Assert/AssertGuard/branch_executed/_9\n",
      "2024-07-10 12:16:50.592320: W tensorflow/core/grappler/optimizers/loop_optimizer.cc:933] Skipping loop optimization for Merge node with control input: assert_equal_1/Assert/AssertGuard/branch_executed/_9\n",
      "2024-07-10 12:16:53.424893: W tensorflow/core/grappler/optimizers/loop_optimizer.cc:933] Skipping loop optimization for Merge node with control input: assert_equal_1/Assert/AssertGuard/branch_executed/_9\n",
      "2024-07-10 12:17:16.757881: W tensorflow/core/grappler/optimizers/loop_optimizer.cc:933] Skipping loop optimization for Merge node with control input: assert_equal_1/Assert/AssertGuard/branch_executed/_9\n",
      "2024-07-10 12:17:16.878408: W tensorflow/core/grappler/optimizers/loop_optimizer.cc:933] Skipping loop optimization for Merge node with control input: assert_equal_1/Assert/AssertGuard/branch_executed/_9\n",
      "2024-07-10 12:17:19.720517: W tensorflow/core/grappler/optimizers/loop_optimizer.cc:933] Skipping loop optimization for Merge node with control input: assert_equal_1/Assert/AssertGuard/branch_executed/_9\n",
      "2024-07-10 12:17:36.522823: W tensorflow/core/grappler/optimizers/loop_optimizer.cc:933] Skipping loop optimization for Merge node with control input: assert_equal_1/Assert/AssertGuard/branch_executed/_9\n",
      "2024-07-10 12:17:36.643847: W tensorflow/core/grappler/optimizers/loop_optimizer.cc:933] Skipping loop optimization for Merge node with control input: assert_equal_1/Assert/AssertGuard/branch_executed/_9\n",
      "2024-07-10 12:17:39.491789: W tensorflow/core/grappler/optimizers/loop_optimizer.cc:933] Skipping loop optimization for Merge node with control input: assert_equal_1/Assert/AssertGuard/branch_executed/_9\n",
      "2024-07-10 12:17:56.396140: W tensorflow/core/grappler/optimizers/loop_optimizer.cc:933] Skipping loop optimization for Merge node with control input: assert_equal_1/Assert/AssertGuard/branch_executed/_9\n",
      "2024-07-10 12:17:56.517658: W tensorflow/core/grappler/optimizers/loop_optimizer.cc:933] Skipping loop optimization for Merge node with control input: assert_equal_1/Assert/AssertGuard/branch_executed/_9\n",
      "2024-07-10 12:17:59.349181: W tensorflow/core/grappler/optimizers/loop_optimizer.cc:933] Skipping loop optimization for Merge node with control input: assert_equal_1/Assert/AssertGuard/branch_executed/_9\n",
      "2024-07-10 12:18:16.100346: W tensorflow/core/grappler/optimizers/loop_optimizer.cc:933] Skipping loop optimization for Merge node with control input: assert_equal_1/Assert/AssertGuard/branch_executed/_9\n",
      "2024-07-10 12:18:16.237705: W tensorflow/core/grappler/optimizers/loop_optimizer.cc:933] Skipping loop optimization for Merge node with control input: assert_equal_1/Assert/AssertGuard/branch_executed/_9\n",
      "2024-07-10 12:18:19.093499: W tensorflow/core/grappler/optimizers/loop_optimizer.cc:933] Skipping loop optimization for Merge node with control input: assert_equal_1/Assert/AssertGuard/branch_executed/_9\n",
      "2024-07-10 12:18:36.210216: W tensorflow/core/grappler/optimizers/loop_optimizer.cc:933] Skipping loop optimization for Merge node with control input: assert_equal_1/Assert/AssertGuard/branch_executed/_9\n",
      "2024-07-10 12:18:36.331420: W tensorflow/core/grappler/optimizers/loop_optimizer.cc:933] Skipping loop optimization for Merge node with control input: assert_equal_1/Assert/AssertGuard/branch_executed/_9\n",
      "2024-07-10 12:18:39.188284: W tensorflow/core/grappler/optimizers/loop_optimizer.cc:933] Skipping loop optimization for Merge node with control input: assert_equal_1/Assert/AssertGuard/branch_executed/_9\n",
      "2024-07-10 12:18:56.395403: W tensorflow/core/grappler/optimizers/loop_optimizer.cc:933] Skipping loop optimization for Merge node with control input: assert_equal_1/Assert/AssertGuard/branch_executed/_9\n",
      "2024-07-10 12:18:56.517283: W tensorflow/core/grappler/optimizers/loop_optimizer.cc:933] Skipping loop optimization for Merge node with control input: assert_equal_1/Assert/AssertGuard/branch_executed/_9\n",
      "2024-07-10 12:18:59.383782: W tensorflow/core/grappler/optimizers/loop_optimizer.cc:933] Skipping loop optimization for Merge node with control input: assert_equal_1/Assert/AssertGuard/branch_executed/_9\n",
      "2024-07-10 12:19:23.652457: W tensorflow/core/grappler/optimizers/loop_optimizer.cc:933] Skipping loop optimization for Merge node with control input: assert_equal_1/Assert/AssertGuard/branch_executed/_9\n",
      "2024-07-10 12:19:23.772302: W tensorflow/core/grappler/optimizers/loop_optimizer.cc:933] Skipping loop optimization for Merge node with control input: assert_equal_1/Assert/AssertGuard/branch_executed/_9\n",
      "2024-07-10 12:19:26.618476: W tensorflow/core/grappler/optimizers/loop_optimizer.cc:933] Skipping loop optimization for Merge node with control input: assert_equal_1/Assert/AssertGuard/branch_executed/_9\n",
      "2024-07-10 12:19:43.709015: W tensorflow/core/grappler/optimizers/loop_optimizer.cc:933] Skipping loop optimization for Merge node with control input: assert_equal_1/Assert/AssertGuard/branch_executed/_9\n",
      "2024-07-10 12:19:43.834492: W tensorflow/core/grappler/optimizers/loop_optimizer.cc:933] Skipping loop optimization for Merge node with control input: assert_equal_1/Assert/AssertGuard/branch_executed/_9\n",
      "2024-07-10 12:19:46.718036: W tensorflow/core/grappler/optimizers/loop_optimizer.cc:933] Skipping loop optimization for Merge node with control input: assert_equal_1/Assert/AssertGuard/branch_executed/_9\n",
      "2024-07-10 12:20:11.180703: W tensorflow/core/grappler/optimizers/loop_optimizer.cc:933] Skipping loop optimization for Merge node with control input: assert_equal_1/Assert/AssertGuard/branch_executed/_9\n",
      "2024-07-10 12:20:11.301610: W tensorflow/core/grappler/optimizers/loop_optimizer.cc:933] Skipping loop optimization for Merge node with control input: assert_equal_1/Assert/AssertGuard/branch_executed/_9\n",
      "2024-07-10 12:20:14.154631: W tensorflow/core/grappler/optimizers/loop_optimizer.cc:933] Skipping loop optimization for Merge node with control input: assert_equal_1/Assert/AssertGuard/branch_executed/_9\n",
      "2024-07-10 12:20:31.356162: W tensorflow/core/grappler/optimizers/loop_optimizer.cc:933] Skipping loop optimization for Merge node with control input: assert_equal_1/Assert/AssertGuard/branch_executed/_9\n",
      "2024-07-10 12:20:31.475927: W tensorflow/core/grappler/optimizers/loop_optimizer.cc:933] Skipping loop optimization for Merge node with control input: assert_equal_1/Assert/AssertGuard/branch_executed/_9\n",
      "2024-07-10 12:20:34.353130: W tensorflow/core/grappler/optimizers/loop_optimizer.cc:933] Skipping loop optimization for Merge node with control input: assert_equal_1/Assert/AssertGuard/branch_executed/_9\n",
      "2024-07-10 12:20:52.387745: W tensorflow/core/grappler/optimizers/loop_optimizer.cc:933] Skipping loop optimization for Merge node with control input: assert_equal_1/Assert/AssertGuard/branch_executed/_9\n",
      "2024-07-10 12:20:52.506526: W tensorflow/core/grappler/optimizers/loop_optimizer.cc:933] Skipping loop optimization for Merge node with control input: assert_equal_1/Assert/AssertGuard/branch_executed/_9\n",
      "2024-07-10 12:20:55.359098: W tensorflow/core/grappler/optimizers/loop_optimizer.cc:933] Skipping loop optimization for Merge node with control input: assert_equal_1/Assert/AssertGuard/branch_executed/_9\n",
      "2024-07-10 12:21:12.189488: W tensorflow/core/grappler/optimizers/loop_optimizer.cc:933] Skipping loop optimization for Merge node with control input: assert_equal_1/Assert/AssertGuard/branch_executed/_9\n",
      "2024-07-10 12:21:12.307949: W tensorflow/core/grappler/optimizers/loop_optimizer.cc:933] Skipping loop optimization for Merge node with control input: assert_equal_1/Assert/AssertGuard/branch_executed/_9\n",
      "2024-07-10 12:21:15.155517: W tensorflow/core/grappler/optimizers/loop_optimizer.cc:933] Skipping loop optimization for Merge node with control input: assert_equal_1/Assert/AssertGuard/branch_executed/_9\n",
      "2024-07-10 12:21:31.865125: W tensorflow/core/grappler/optimizers/loop_optimizer.cc:933] Skipping loop optimization for Merge node with control input: assert_equal_1/Assert/AssertGuard/branch_executed/_9\n",
      "2024-07-10 12:21:31.983695: W tensorflow/core/grappler/optimizers/loop_optimizer.cc:933] Skipping loop optimization for Merge node with control input: assert_equal_1/Assert/AssertGuard/branch_executed/_9\n",
      "2024-07-10 12:21:34.819863: W tensorflow/core/grappler/optimizers/loop_optimizer.cc:933] Skipping loop optimization for Merge node with control input: assert_equal_1/Assert/AssertGuard/branch_executed/_9\n",
      "2024-07-10 12:21:51.677030: W tensorflow/core/grappler/optimizers/loop_optimizer.cc:933] Skipping loop optimization for Merge node with control input: assert_equal_1/Assert/AssertGuard/branch_executed/_9\n",
      "2024-07-10 12:21:51.796718: W tensorflow/core/grappler/optimizers/loop_optimizer.cc:933] Skipping loop optimization for Merge node with control input: assert_equal_1/Assert/AssertGuard/branch_executed/_9\n",
      "2024-07-10 12:21:54.632957: W tensorflow/core/grappler/optimizers/loop_optimizer.cc:933] Skipping loop optimization for Merge node with control input: assert_equal_1/Assert/AssertGuard/branch_executed/_9\n",
      "2024-07-10 12:22:11.538550: W tensorflow/core/grappler/optimizers/loop_optimizer.cc:933] Skipping loop optimization for Merge node with control input: assert_equal_1/Assert/AssertGuard/branch_executed/_9\n",
      "2024-07-10 12:22:11.658796: W tensorflow/core/grappler/optimizers/loop_optimizer.cc:933] Skipping loop optimization for Merge node with control input: assert_equal_1/Assert/AssertGuard/branch_executed/_9\n",
      "2024-07-10 12:22:14.507179: W tensorflow/core/grappler/optimizers/loop_optimizer.cc:933] Skipping loop optimization for Merge node with control input: assert_equal_1/Assert/AssertGuard/branch_executed/_9\n",
      "2024-07-10 12:22:34.156707: W tensorflow/core/grappler/optimizers/loop_optimizer.cc:933] Skipping loop optimization for Merge node with control input: assert_equal_1/Assert/AssertGuard/branch_executed/_9\n",
      "2024-07-10 12:22:34.279939: W tensorflow/core/grappler/optimizers/loop_optimizer.cc:933] Skipping loop optimization for Merge node with control input: assert_equal_1/Assert/AssertGuard/branch_executed/_9\n",
      "2024-07-10 12:22:37.147705: W tensorflow/core/grappler/optimizers/loop_optimizer.cc:933] Skipping loop optimization for Merge node with control input: assert_equal_1/Assert/AssertGuard/branch_executed/_9\n",
      "2024-07-10 12:22:55.431108: W tensorflow/core/grappler/optimizers/loop_optimizer.cc:933] Skipping loop optimization for Merge node with control input: assert_equal_1/Assert/AssertGuard/branch_executed/_9\n",
      "2024-07-10 12:22:55.549925: W tensorflow/core/grappler/optimizers/loop_optimizer.cc:933] Skipping loop optimization for Merge node with control input: assert_equal_1/Assert/AssertGuard/branch_executed/_9\n",
      "2024-07-10 12:22:58.382709: W tensorflow/core/grappler/optimizers/loop_optimizer.cc:933] Skipping loop optimization for Merge node with control input: assert_equal_1/Assert/AssertGuard/branch_executed/_9\n",
      "2024-07-10 12:23:23.927256: W tensorflow/core/grappler/optimizers/loop_optimizer.cc:933] Skipping loop optimization for Merge node with control input: assert_equal_1/Assert/AssertGuard/branch_executed/_9\n",
      "2024-07-10 12:23:24.046290: W tensorflow/core/grappler/optimizers/loop_optimizer.cc:933] Skipping loop optimization for Merge node with control input: assert_equal_1/Assert/AssertGuard/branch_executed/_9\n",
      "2024-07-10 12:23:26.895062: W tensorflow/core/grappler/optimizers/loop_optimizer.cc:933] Skipping loop optimization for Merge node with control input: assert_equal_1/Assert/AssertGuard/branch_executed/_9\n",
      "2024-07-10 12:23:43.634107: W tensorflow/core/grappler/optimizers/loop_optimizer.cc:933] Skipping loop optimization for Merge node with control input: assert_equal_1/Assert/AssertGuard/branch_executed/_9\n",
      "2024-07-10 12:23:43.753625: W tensorflow/core/grappler/optimizers/loop_optimizer.cc:933] Skipping loop optimization for Merge node with control input: assert_equal_1/Assert/AssertGuard/branch_executed/_9\n",
      "2024-07-10 12:23:46.607072: W tensorflow/core/grappler/optimizers/loop_optimizer.cc:933] Skipping loop optimization for Merge node with control input: assert_equal_1/Assert/AssertGuard/branch_executed/_9\n",
      "2024-07-10 12:24:03.423900: W tensorflow/core/grappler/optimizers/loop_optimizer.cc:933] Skipping loop optimization for Merge node with control input: assert_equal_1/Assert/AssertGuard/branch_executed/_9\n",
      "2024-07-10 12:24:03.543817: W tensorflow/core/grappler/optimizers/loop_optimizer.cc:933] Skipping loop optimization for Merge node with control input: assert_equal_1/Assert/AssertGuard/branch_executed/_9\n",
      "2024-07-10 12:24:06.476916: W tensorflow/core/grappler/optimizers/loop_optimizer.cc:933] Skipping loop optimization for Merge node with control input: assert_equal_1/Assert/AssertGuard/branch_executed/_9\n",
      "2024-07-10 12:24:23.900321: W tensorflow/core/grappler/optimizers/loop_optimizer.cc:933] Skipping loop optimization for Merge node with control input: assert_equal_1/Assert/AssertGuard/branch_executed/_9\n",
      "2024-07-10 12:24:24.019022: W tensorflow/core/grappler/optimizers/loop_optimizer.cc:933] Skipping loop optimization for Merge node with control input: assert_equal_1/Assert/AssertGuard/branch_executed/_9\n",
      "2024-07-10 12:24:26.867791: W tensorflow/core/grappler/optimizers/loop_optimizer.cc:933] Skipping loop optimization for Merge node with control input: assert_equal_1/Assert/AssertGuard/branch_executed/_9\n",
      "2024-07-10 12:24:44.387306: W tensorflow/core/grappler/optimizers/loop_optimizer.cc:933] Skipping loop optimization for Merge node with control input: assert_equal_1/Assert/AssertGuard/branch_executed/_9\n",
      "2024-07-10 12:24:44.533500: W tensorflow/core/grappler/optimizers/loop_optimizer.cc:933] Skipping loop optimization for Merge node with control input: assert_equal_1/Assert/AssertGuard/branch_executed/_9\n",
      "2024-07-10 12:24:47.439192: W tensorflow/core/grappler/optimizers/loop_optimizer.cc:933] Skipping loop optimization for Merge node with control input: assert_equal_1/Assert/AssertGuard/branch_executed/_9\n",
      "2024-07-10 12:25:11.636362: W tensorflow/core/grappler/optimizers/loop_optimizer.cc:933] Skipping loop optimization for Merge node with control input: assert_equal_1/Assert/AssertGuard/branch_executed/_9\n",
      "2024-07-10 12:25:11.758530: W tensorflow/core/grappler/optimizers/loop_optimizer.cc:933] Skipping loop optimization for Merge node with control input: assert_equal_1/Assert/AssertGuard/branch_executed/_9\n",
      "2024-07-10 12:25:14.610002: W tensorflow/core/grappler/optimizers/loop_optimizer.cc:933] Skipping loop optimization for Merge node with control input: assert_equal_1/Assert/AssertGuard/branch_executed/_9\n",
      "2024-07-10 12:25:32.023106: W tensorflow/core/grappler/optimizers/loop_optimizer.cc:933] Skipping loop optimization for Merge node with control input: assert_equal_1/Assert/AssertGuard/branch_executed/_9\n",
      "2024-07-10 12:25:32.142790: W tensorflow/core/grappler/optimizers/loop_optimizer.cc:933] Skipping loop optimization for Merge node with control input: assert_equal_1/Assert/AssertGuard/branch_executed/_9\n",
      "2024-07-10 12:25:34.974832: W tensorflow/core/grappler/optimizers/loop_optimizer.cc:933] Skipping loop optimization for Merge node with control input: assert_equal_1/Assert/AssertGuard/branch_executed/_9\n",
      "2024-07-10 12:25:52.052984: W tensorflow/core/grappler/optimizers/loop_optimizer.cc:933] Skipping loop optimization for Merge node with control input: assert_equal_1/Assert/AssertGuard/branch_executed/_9\n",
      "2024-07-10 12:25:52.172749: W tensorflow/core/grappler/optimizers/loop_optimizer.cc:933] Skipping loop optimization for Merge node with control input: assert_equal_1/Assert/AssertGuard/branch_executed/_9\n",
      "2024-07-10 12:25:55.016125: W tensorflow/core/grappler/optimizers/loop_optimizer.cc:933] Skipping loop optimization for Merge node with control input: assert_equal_1/Assert/AssertGuard/branch_executed/_9\n",
      "2024-07-10 12:26:12.362851: W tensorflow/core/grappler/optimizers/loop_optimizer.cc:933] Skipping loop optimization for Merge node with control input: assert_equal_1/Assert/AssertGuard/branch_executed/_9\n",
      "2024-07-10 12:26:12.482115: W tensorflow/core/grappler/optimizers/loop_optimizer.cc:933] Skipping loop optimization for Merge node with control input: assert_equal_1/Assert/AssertGuard/branch_executed/_9\n",
      "2024-07-10 12:26:15.319943: W tensorflow/core/grappler/optimizers/loop_optimizer.cc:933] Skipping loop optimization for Merge node with control input: assert_equal_1/Assert/AssertGuard/branch_executed/_9\n",
      "2024-07-10 12:26:39.148548: W tensorflow/core/grappler/optimizers/loop_optimizer.cc:933] Skipping loop optimization for Merge node with control input: assert_equal_1/Assert/AssertGuard/branch_executed/_9\n",
      "2024-07-10 12:26:39.267480: W tensorflow/core/grappler/optimizers/loop_optimizer.cc:933] Skipping loop optimization for Merge node with control input: assert_equal_1/Assert/AssertGuard/branch_executed/_9\n",
      "2024-07-10 12:26:42.094887: W tensorflow/core/grappler/optimizers/loop_optimizer.cc:933] Skipping loop optimization for Merge node with control input: assert_equal_1/Assert/AssertGuard/branch_executed/_9\n",
      "2024-07-10 12:26:59.217588: W tensorflow/core/grappler/optimizers/loop_optimizer.cc:933] Skipping loop optimization for Merge node with control input: assert_equal_1/Assert/AssertGuard/branch_executed/_9\n",
      "2024-07-10 12:26:59.335781: W tensorflow/core/grappler/optimizers/loop_optimizer.cc:933] Skipping loop optimization for Merge node with control input: assert_equal_1/Assert/AssertGuard/branch_executed/_9\n",
      "2024-07-10 12:27:02.171009: W tensorflow/core/grappler/optimizers/loop_optimizer.cc:933] Skipping loop optimization for Merge node with control input: assert_equal_1/Assert/AssertGuard/branch_executed/_9\n",
      "2024-07-10 12:27:19.629532: W tensorflow/core/grappler/optimizers/loop_optimizer.cc:933] Skipping loop optimization for Merge node with control input: assert_equal_1/Assert/AssertGuard/branch_executed/_9\n",
      "2024-07-10 12:27:19.747924: W tensorflow/core/grappler/optimizers/loop_optimizer.cc:933] Skipping loop optimization for Merge node with control input: assert_equal_1/Assert/AssertGuard/branch_executed/_9\n",
      "2024-07-10 12:27:22.583755: W tensorflow/core/grappler/optimizers/loop_optimizer.cc:933] Skipping loop optimization for Merge node with control input: assert_equal_1/Assert/AssertGuard/branch_executed/_9\n",
      "2024-07-10 12:27:40.051186: W tensorflow/core/grappler/optimizers/loop_optimizer.cc:933] Skipping loop optimization for Merge node with control input: assert_equal_1/Assert/AssertGuard/branch_executed/_9\n",
      "2024-07-10 12:27:40.171676: W tensorflow/core/grappler/optimizers/loop_optimizer.cc:933] Skipping loop optimization for Merge node with control input: assert_equal_1/Assert/AssertGuard/branch_executed/_9\n",
      "2024-07-10 12:27:43.014143: W tensorflow/core/grappler/optimizers/loop_optimizer.cc:933] Skipping loop optimization for Merge node with control input: assert_equal_1/Assert/AssertGuard/branch_executed/_9\n",
      "2024-07-10 12:28:00.616349: W tensorflow/core/grappler/optimizers/loop_optimizer.cc:933] Skipping loop optimization for Merge node with control input: assert_equal_1/Assert/AssertGuard/branch_executed/_9\n",
      "2024-07-10 12:28:00.736803: W tensorflow/core/grappler/optimizers/loop_optimizer.cc:933] Skipping loop optimization for Merge node with control input: assert_equal_1/Assert/AssertGuard/branch_executed/_9\n",
      "2024-07-10 12:28:03.577101: W tensorflow/core/grappler/optimizers/loop_optimizer.cc:933] Skipping loop optimization for Merge node with control input: assert_equal_1/Assert/AssertGuard/branch_executed/_9\n",
      "2024-07-10 12:28:20.967922: W tensorflow/core/grappler/optimizers/loop_optimizer.cc:933] Skipping loop optimization for Merge node with control input: assert_equal_1/Assert/AssertGuard/branch_executed/_9\n",
      "2024-07-10 12:28:21.086415: W tensorflow/core/grappler/optimizers/loop_optimizer.cc:933] Skipping loop optimization for Merge node with control input: assert_equal_1/Assert/AssertGuard/branch_executed/_9\n",
      "2024-07-10 12:28:23.936491: W tensorflow/core/grappler/optimizers/loop_optimizer.cc:933] Skipping loop optimization for Merge node with control input: assert_equal_1/Assert/AssertGuard/branch_executed/_9\n",
      "2024-07-10 12:28:41.410173: W tensorflow/core/grappler/optimizers/loop_optimizer.cc:933] Skipping loop optimization for Merge node with control input: assert_equal_1/Assert/AssertGuard/branch_executed/_9\n",
      "2024-07-10 12:28:41.528631: W tensorflow/core/grappler/optimizers/loop_optimizer.cc:933] Skipping loop optimization for Merge node with control input: assert_equal_1/Assert/AssertGuard/branch_executed/_9\n",
      "2024-07-10 12:28:44.372130: W tensorflow/core/grappler/optimizers/loop_optimizer.cc:933] Skipping loop optimization for Merge node with control input: assert_equal_1/Assert/AssertGuard/branch_executed/_9\n",
      "2024-07-10 12:29:02.010368: W tensorflow/core/grappler/optimizers/loop_optimizer.cc:933] Skipping loop optimization for Merge node with control input: assert_equal_1/Assert/AssertGuard/branch_executed/_9\n",
      "2024-07-10 12:29:02.128129: W tensorflow/core/grappler/optimizers/loop_optimizer.cc:933] Skipping loop optimization for Merge node with control input: assert_equal_1/Assert/AssertGuard/branch_executed/_9\n",
      "2024-07-10 12:29:04.968705: W tensorflow/core/grappler/optimizers/loop_optimizer.cc:933] Skipping loop optimization for Merge node with control input: assert_equal_1/Assert/AssertGuard/branch_executed/_9\n",
      "2024-07-10 12:29:23.268657: W tensorflow/core/grappler/optimizers/loop_optimizer.cc:933] Skipping loop optimization for Merge node with control input: assert_equal_1/Assert/AssertGuard/branch_executed/_9\n",
      "2024-07-10 12:29:23.388188: W tensorflow/core/grappler/optimizers/loop_optimizer.cc:933] Skipping loop optimization for Merge node with control input: assert_equal_1/Assert/AssertGuard/branch_executed/_9\n",
      "2024-07-10 12:29:26.276400: W tensorflow/core/grappler/optimizers/loop_optimizer.cc:933] Skipping loop optimization for Merge node with control input: assert_equal_1/Assert/AssertGuard/branch_executed/_9\n",
      "2024-07-10 12:29:43.710893: W tensorflow/core/grappler/optimizers/loop_optimizer.cc:933] Skipping loop optimization for Merge node with control input: assert_equal_1/Assert/AssertGuard/branch_executed/_9\n",
      "2024-07-10 12:29:43.830373: W tensorflow/core/grappler/optimizers/loop_optimizer.cc:933] Skipping loop optimization for Merge node with control input: assert_equal_1/Assert/AssertGuard/branch_executed/_9\n",
      "2024-07-10 12:29:46.728957: W tensorflow/core/grappler/optimizers/loop_optimizer.cc:933] Skipping loop optimization for Merge node with control input: assert_equal_1/Assert/AssertGuard/branch_executed/_9\n",
      "2024-07-10 12:30:04.023809: W tensorflow/core/grappler/optimizers/loop_optimizer.cc:933] Skipping loop optimization for Merge node with control input: assert_equal_1/Assert/AssertGuard/branch_executed/_9\n",
      "2024-07-10 12:30:04.142570: W tensorflow/core/grappler/optimizers/loop_optimizer.cc:933] Skipping loop optimization for Merge node with control input: assert_equal_1/Assert/AssertGuard/branch_executed/_9\n",
      "2024-07-10 12:30:06.973712: W tensorflow/core/grappler/optimizers/loop_optimizer.cc:933] Skipping loop optimization for Merge node with control input: assert_equal_1/Assert/AssertGuard/branch_executed/_9\n",
      "2024-07-10 12:30:25.396778: W tensorflow/core/grappler/optimizers/loop_optimizer.cc:933] Skipping loop optimization for Merge node with control input: assert_equal_1/Assert/AssertGuard/branch_executed/_9\n",
      "2024-07-10 12:30:25.515600: W tensorflow/core/grappler/optimizers/loop_optimizer.cc:933] Skipping loop optimization for Merge node with control input: assert_equal_1/Assert/AssertGuard/branch_executed/_9\n",
      "2024-07-10 12:30:28.348172: W tensorflow/core/grappler/optimizers/loop_optimizer.cc:933] Skipping loop optimization for Merge node with control input: assert_equal_1/Assert/AssertGuard/branch_executed/_9\n",
      "2024-07-10 12:30:46.221876: W tensorflow/core/grappler/optimizers/loop_optimizer.cc:933] Skipping loop optimization for Merge node with control input: assert_equal_1/Assert/AssertGuard/branch_executed/_9\n",
      "2024-07-10 12:30:46.342372: W tensorflow/core/grappler/optimizers/loop_optimizer.cc:933] Skipping loop optimization for Merge node with control input: assert_equal_1/Assert/AssertGuard/branch_executed/_9\n",
      "2024-07-10 12:30:49.320572: W tensorflow/core/grappler/optimizers/loop_optimizer.cc:933] Skipping loop optimization for Merge node with control input: assert_equal_1/Assert/AssertGuard/branch_executed/_9\n",
      "2024-07-10 12:31:07.770038: W tensorflow/core/grappler/optimizers/loop_optimizer.cc:933] Skipping loop optimization for Merge node with control input: assert_equal_1/Assert/AssertGuard/branch_executed/_9\n",
      "2024-07-10 12:31:07.890317: W tensorflow/core/grappler/optimizers/loop_optimizer.cc:933] Skipping loop optimization for Merge node with control input: assert_equal_1/Assert/AssertGuard/branch_executed/_9\n",
      "2024-07-10 12:31:10.742361: W tensorflow/core/grappler/optimizers/loop_optimizer.cc:933] Skipping loop optimization for Merge node with control input: assert_equal_1/Assert/AssertGuard/branch_executed/_9\n",
      "2024-07-10 12:31:35.891911: W tensorflow/core/grappler/optimizers/loop_optimizer.cc:933] Skipping loop optimization for Merge node with control input: assert_equal_1/Assert/AssertGuard/branch_executed/_9\n",
      "2024-07-10 12:31:36.010365: W tensorflow/core/grappler/optimizers/loop_optimizer.cc:933] Skipping loop optimization for Merge node with control input: assert_equal_1/Assert/AssertGuard/branch_executed/_9\n",
      "2024-07-10 12:31:38.861543: W tensorflow/core/grappler/optimizers/loop_optimizer.cc:933] Skipping loop optimization for Merge node with control input: assert_equal_1/Assert/AssertGuard/branch_executed/_9\n",
      "2024-07-10 12:32:03.762519: W tensorflow/core/grappler/optimizers/loop_optimizer.cc:933] Skipping loop optimization for Merge node with control input: assert_equal_1/Assert/AssertGuard/branch_executed/_9\n",
      "2024-07-10 12:32:03.882516: W tensorflow/core/grappler/optimizers/loop_optimizer.cc:933] Skipping loop optimization for Merge node with control input: assert_equal_1/Assert/AssertGuard/branch_executed/_9\n",
      "2024-07-10 12:32:06.710362: W tensorflow/core/grappler/optimizers/loop_optimizer.cc:933] Skipping loop optimization for Merge node with control input: assert_equal_1/Assert/AssertGuard/branch_executed/_9\n",
      "2024-07-10 12:32:24.142944: W tensorflow/core/grappler/optimizers/loop_optimizer.cc:933] Skipping loop optimization for Merge node with control input: assert_equal_1/Assert/AssertGuard/branch_executed/_9\n",
      "2024-07-10 12:32:24.263055: W tensorflow/core/grappler/optimizers/loop_optimizer.cc:933] Skipping loop optimization for Merge node with control input: assert_equal_1/Assert/AssertGuard/branch_executed/_9\n",
      "2024-07-10 12:32:27.101478: W tensorflow/core/grappler/optimizers/loop_optimizer.cc:933] Skipping loop optimization for Merge node with control input: assert_equal_1/Assert/AssertGuard/branch_executed/_9\n",
      "2024-07-10 12:32:44.404973: W tensorflow/core/grappler/optimizers/loop_optimizer.cc:933] Skipping loop optimization for Merge node with control input: assert_equal_1/Assert/AssertGuard/branch_executed/_9\n",
      "2024-07-10 12:32:44.525011: W tensorflow/core/grappler/optimizers/loop_optimizer.cc:933] Skipping loop optimization for Merge node with control input: assert_equal_1/Assert/AssertGuard/branch_executed/_9\n",
      "2024-07-10 12:32:47.371112: W tensorflow/core/grappler/optimizers/loop_optimizer.cc:933] Skipping loop optimization for Merge node with control input: assert_equal_1/Assert/AssertGuard/branch_executed/_9\n",
      "2024-07-10 12:33:04.938927: W tensorflow/core/grappler/optimizers/loop_optimizer.cc:933] Skipping loop optimization for Merge node with control input: assert_equal_1/Assert/AssertGuard/branch_executed/_9\n",
      "2024-07-10 12:33:05.058111: W tensorflow/core/grappler/optimizers/loop_optimizer.cc:933] Skipping loop optimization for Merge node with control input: assert_equal_1/Assert/AssertGuard/branch_executed/_9\n",
      "2024-07-10 12:33:07.898653: W tensorflow/core/grappler/optimizers/loop_optimizer.cc:933] Skipping loop optimization for Merge node with control input: assert_equal_1/Assert/AssertGuard/branch_executed/_9\n",
      "2024-07-10 12:33:25.434428: W tensorflow/core/grappler/optimizers/loop_optimizer.cc:933] Skipping loop optimization for Merge node with control input: assert_equal_1/Assert/AssertGuard/branch_executed/_9\n",
      "2024-07-10 12:33:25.556274: W tensorflow/core/grappler/optimizers/loop_optimizer.cc:933] Skipping loop optimization for Merge node with control input: assert_equal_1/Assert/AssertGuard/branch_executed/_9\n",
      "2024-07-10 12:33:28.388581: W tensorflow/core/grappler/optimizers/loop_optimizer.cc:933] Skipping loop optimization for Merge node with control input: assert_equal_1/Assert/AssertGuard/branch_executed/_9\n",
      "2024-07-10 12:33:45.864571: W tensorflow/core/grappler/optimizers/loop_optimizer.cc:933] Skipping loop optimization for Merge node with control input: assert_equal_1/Assert/AssertGuard/branch_executed/_9\n",
      "2024-07-10 12:33:45.984844: W tensorflow/core/grappler/optimizers/loop_optimizer.cc:933] Skipping loop optimization for Merge node with control input: assert_equal_1/Assert/AssertGuard/branch_executed/_9\n",
      "2024-07-10 12:33:48.820795: W tensorflow/core/grappler/optimizers/loop_optimizer.cc:933] Skipping loop optimization for Merge node with control input: assert_equal_1/Assert/AssertGuard/branch_executed/_9\n",
      "2024-07-10 12:34:06.558579: W tensorflow/core/grappler/optimizers/loop_optimizer.cc:933] Skipping loop optimization for Merge node with control input: assert_equal_1/Assert/AssertGuard/branch_executed/_9\n",
      "2024-07-10 12:34:06.678506: W tensorflow/core/grappler/optimizers/loop_optimizer.cc:933] Skipping loop optimization for Merge node with control input: assert_equal_1/Assert/AssertGuard/branch_executed/_9\n",
      "2024-07-10 12:34:09.501133: W tensorflow/core/grappler/optimizers/loop_optimizer.cc:933] Skipping loop optimization for Merge node with control input: assert_equal_1/Assert/AssertGuard/branch_executed/_9\n",
      "2024-07-10 12:34:27.114806: W tensorflow/core/grappler/optimizers/loop_optimizer.cc:933] Skipping loop optimization for Merge node with control input: assert_equal_1/Assert/AssertGuard/branch_executed/_9\n",
      "2024-07-10 12:34:27.235045: W tensorflow/core/grappler/optimizers/loop_optimizer.cc:933] Skipping loop optimization for Merge node with control input: assert_equal_1/Assert/AssertGuard/branch_executed/_9\n",
      "2024-07-10 12:34:30.240507: W tensorflow/core/grappler/optimizers/loop_optimizer.cc:933] Skipping loop optimization for Merge node with control input: assert_equal_1/Assert/AssertGuard/branch_executed/_9\n",
      "2024-07-10 12:34:48.977612: W tensorflow/core/grappler/optimizers/loop_optimizer.cc:933] Skipping loop optimization for Merge node with control input: assert_equal_1/Assert/AssertGuard/branch_executed/_9\n",
      "2024-07-10 12:34:49.096460: W tensorflow/core/grappler/optimizers/loop_optimizer.cc:933] Skipping loop optimization for Merge node with control input: assert_equal_1/Assert/AssertGuard/branch_executed/_9\n",
      "2024-07-10 12:34:51.975965: W tensorflow/core/grappler/optimizers/loop_optimizer.cc:933] Skipping loop optimization for Merge node with control input: assert_equal_1/Assert/AssertGuard/branch_executed/_9\n",
      "2024-07-10 12:35:10.333974: W tensorflow/core/grappler/optimizers/loop_optimizer.cc:933] Skipping loop optimization for Merge node with control input: assert_equal_1/Assert/AssertGuard/branch_executed/_9\n",
      "2024-07-10 12:35:10.462665: W tensorflow/core/grappler/optimizers/loop_optimizer.cc:933] Skipping loop optimization for Merge node with control input: assert_equal_1/Assert/AssertGuard/branch_executed/_9\n",
      "2024-07-10 12:35:13.315242: W tensorflow/core/grappler/optimizers/loop_optimizer.cc:933] Skipping loop optimization for Merge node with control input: assert_equal_1/Assert/AssertGuard/branch_executed/_9\n",
      "2024-07-10 12:35:39.884762: W tensorflow/core/grappler/optimizers/loop_optimizer.cc:933] Skipping loop optimization for Merge node with control input: assert_equal_1/Assert/AssertGuard/branch_executed/_9\n",
      "2024-07-10 12:35:40.003715: W tensorflow/core/grappler/optimizers/loop_optimizer.cc:933] Skipping loop optimization for Merge node with control input: assert_equal_1/Assert/AssertGuard/branch_executed/_9\n",
      "2024-07-10 12:35:42.845619: W tensorflow/core/grappler/optimizers/loop_optimizer.cc:933] Skipping loop optimization for Merge node with control input: assert_equal_1/Assert/AssertGuard/branch_executed/_9\n",
      "2024-07-10 12:36:00.159408: W tensorflow/core/grappler/optimizers/loop_optimizer.cc:933] Skipping loop optimization for Merge node with control input: assert_equal_1/Assert/AssertGuard/branch_executed/_9\n",
      "2024-07-10 12:36:00.278324: W tensorflow/core/grappler/optimizers/loop_optimizer.cc:933] Skipping loop optimization for Merge node with control input: assert_equal_1/Assert/AssertGuard/branch_executed/_9\n",
      "2024-07-10 12:36:03.114265: W tensorflow/core/grappler/optimizers/loop_optimizer.cc:933] Skipping loop optimization for Merge node with control input: assert_equal_1/Assert/AssertGuard/branch_executed/_9\n",
      "2024-07-10 12:36:20.563129: W tensorflow/core/grappler/optimizers/loop_optimizer.cc:933] Skipping loop optimization for Merge node with control input: assert_equal_1/Assert/AssertGuard/branch_executed/_9\n",
      "2024-07-10 12:36:20.681773: W tensorflow/core/grappler/optimizers/loop_optimizer.cc:933] Skipping loop optimization for Merge node with control input: assert_equal_1/Assert/AssertGuard/branch_executed/_9\n",
      "2024-07-10 12:36:23.501554: W tensorflow/core/grappler/optimizers/loop_optimizer.cc:933] Skipping loop optimization for Merge node with control input: assert_equal_1/Assert/AssertGuard/branch_executed/_9\n",
      "2024-07-10 12:36:49.943345: W tensorflow/core/grappler/optimizers/loop_optimizer.cc:933] Skipping loop optimization for Merge node with control input: assert_equal_1/Assert/AssertGuard/branch_executed/_9\n",
      "2024-07-10 12:36:50.062955: W tensorflow/core/grappler/optimizers/loop_optimizer.cc:933] Skipping loop optimization for Merge node with control input: assert_equal_1/Assert/AssertGuard/branch_executed/_9\n",
      "2024-07-10 12:36:52.893105: W tensorflow/core/grappler/optimizers/loop_optimizer.cc:933] Skipping loop optimization for Merge node with control input: assert_equal_1/Assert/AssertGuard/branch_executed/_9\n",
      "2024-07-10 12:37:10.877732: W tensorflow/core/grappler/optimizers/loop_optimizer.cc:933] Skipping loop optimization for Merge node with control input: assert_equal_1/Assert/AssertGuard/branch_executed/_9\n",
      "2024-07-10 12:37:10.996177: W tensorflow/core/grappler/optimizers/loop_optimizer.cc:933] Skipping loop optimization for Merge node with control input: assert_equal_1/Assert/AssertGuard/branch_executed/_9\n",
      "2024-07-10 12:37:13.830984: W tensorflow/core/grappler/optimizers/loop_optimizer.cc:933] Skipping loop optimization for Merge node with control input: assert_equal_1/Assert/AssertGuard/branch_executed/_9\n",
      "2024-07-10 12:37:40.534697: W tensorflow/core/grappler/optimizers/loop_optimizer.cc:933] Skipping loop optimization for Merge node with control input: assert_equal_1/Assert/AssertGuard/branch_executed/_9\n",
      "2024-07-10 12:37:40.657080: W tensorflow/core/grappler/optimizers/loop_optimizer.cc:933] Skipping loop optimization for Merge node with control input: assert_equal_1/Assert/AssertGuard/branch_executed/_9\n",
      "2024-07-10 12:37:43.526793: W tensorflow/core/grappler/optimizers/loop_optimizer.cc:933] Skipping loop optimization for Merge node with control input: assert_equal_1/Assert/AssertGuard/branch_executed/_9\n",
      "2024-07-10 12:38:01.176687: W tensorflow/core/grappler/optimizers/loop_optimizer.cc:933] Skipping loop optimization for Merge node with control input: assert_equal_1/Assert/AssertGuard/branch_executed/_9\n",
      "2024-07-10 12:38:01.304915: W tensorflow/core/grappler/optimizers/loop_optimizer.cc:933] Skipping loop optimization for Merge node with control input: assert_equal_1/Assert/AssertGuard/branch_executed/_9\n",
      "2024-07-10 12:38:04.191667: W tensorflow/core/grappler/optimizers/loop_optimizer.cc:933] Skipping loop optimization for Merge node with control input: assert_equal_1/Assert/AssertGuard/branch_executed/_9\n",
      "2024-07-10 12:38:29.363286: W tensorflow/core/grappler/optimizers/loop_optimizer.cc:933] Skipping loop optimization for Merge node with control input: assert_equal_1/Assert/AssertGuard/branch_executed/_9\n",
      "2024-07-10 12:38:29.483516: W tensorflow/core/grappler/optimizers/loop_optimizer.cc:933] Skipping loop optimization for Merge node with control input: assert_equal_1/Assert/AssertGuard/branch_executed/_9\n",
      "2024-07-10 12:38:32.417081: W tensorflow/core/grappler/optimizers/loop_optimizer.cc:933] Skipping loop optimization for Merge node with control input: assert_equal_1/Assert/AssertGuard/branch_executed/_9\n",
      "2024-07-10 12:38:50.082845: W tensorflow/core/grappler/optimizers/loop_optimizer.cc:933] Skipping loop optimization for Merge node with control input: assert_equal_1/Assert/AssertGuard/branch_executed/_9\n",
      "2024-07-10 12:38:50.201509: W tensorflow/core/grappler/optimizers/loop_optimizer.cc:933] Skipping loop optimization for Merge node with control input: assert_equal_1/Assert/AssertGuard/branch_executed/_9\n",
      "2024-07-10 12:38:53.045630: W tensorflow/core/grappler/optimizers/loop_optimizer.cc:933] Skipping loop optimization for Merge node with control input: assert_equal_1/Assert/AssertGuard/branch_executed/_9\n",
      "2024-07-10 12:39:11.777288: W tensorflow/core/grappler/optimizers/loop_optimizer.cc:933] Skipping loop optimization for Merge node with control input: assert_equal_1/Assert/AssertGuard/branch_executed/_9\n",
      "2024-07-10 12:39:11.897649: W tensorflow/core/grappler/optimizers/loop_optimizer.cc:933] Skipping loop optimization for Merge node with control input: assert_equal_1/Assert/AssertGuard/branch_executed/_9\n",
      "2024-07-10 12:39:14.762535: W tensorflow/core/grappler/optimizers/loop_optimizer.cc:933] Skipping loop optimization for Merge node with control input: assert_equal_1/Assert/AssertGuard/branch_executed/_9\n",
      "2024-07-10 12:39:32.661176: W tensorflow/core/grappler/optimizers/loop_optimizer.cc:933] Skipping loop optimization for Merge node with control input: assert_equal_1/Assert/AssertGuard/branch_executed/_9\n",
      "2024-07-10 12:39:32.781613: W tensorflow/core/grappler/optimizers/loop_optimizer.cc:933] Skipping loop optimization for Merge node with control input: assert_equal_1/Assert/AssertGuard/branch_executed/_9\n",
      "2024-07-10 12:39:35.644280: W tensorflow/core/grappler/optimizers/loop_optimizer.cc:933] Skipping loop optimization for Merge node with control input: assert_equal_1/Assert/AssertGuard/branch_executed/_9\n",
      "2024-07-10 12:39:53.330114: W tensorflow/core/grappler/optimizers/loop_optimizer.cc:933] Skipping loop optimization for Merge node with control input: assert_equal_1/Assert/AssertGuard/branch_executed/_9\n",
      "2024-07-10 12:39:53.450889: W tensorflow/core/grappler/optimizers/loop_optimizer.cc:933] Skipping loop optimization for Merge node with control input: assert_equal_1/Assert/AssertGuard/branch_executed/_9\n",
      "2024-07-10 12:39:56.289570: W tensorflow/core/grappler/optimizers/loop_optimizer.cc:933] Skipping loop optimization for Merge node with control input: assert_equal_1/Assert/AssertGuard/branch_executed/_9\n",
      "2024-07-10 12:40:14.411925: W tensorflow/core/grappler/optimizers/loop_optimizer.cc:933] Skipping loop optimization for Merge node with control input: assert_equal_1/Assert/AssertGuard/branch_executed/_9\n",
      "2024-07-10 12:40:14.530446: W tensorflow/core/grappler/optimizers/loop_optimizer.cc:933] Skipping loop optimization for Merge node with control input: assert_equal_1/Assert/AssertGuard/branch_executed/_9\n",
      "2024-07-10 12:40:17.365223: W tensorflow/core/grappler/optimizers/loop_optimizer.cc:933] Skipping loop optimization for Merge node with control input: assert_equal_1/Assert/AssertGuard/branch_executed/_9\n",
      "2024-07-10 12:40:35.206752: W tensorflow/core/grappler/optimizers/loop_optimizer.cc:933] Skipping loop optimization for Merge node with control input: assert_equal_1/Assert/AssertGuard/branch_executed/_9\n",
      "2024-07-10 12:40:35.326248: W tensorflow/core/grappler/optimizers/loop_optimizer.cc:933] Skipping loop optimization for Merge node with control input: assert_equal_1/Assert/AssertGuard/branch_executed/_9\n",
      "2024-07-10 12:40:38.171467: W tensorflow/core/grappler/optimizers/loop_optimizer.cc:933] Skipping loop optimization for Merge node with control input: assert_equal_1/Assert/AssertGuard/branch_executed/_9\n",
      "2024-07-10 12:41:02.899263: W tensorflow/core/grappler/optimizers/loop_optimizer.cc:933] Skipping loop optimization for Merge node with control input: assert_equal_1/Assert/AssertGuard/branch_executed/_9\n",
      "2024-07-10 12:41:03.017715: W tensorflow/core/grappler/optimizers/loop_optimizer.cc:933] Skipping loop optimization for Merge node with control input: assert_equal_1/Assert/AssertGuard/branch_executed/_9\n",
      "2024-07-10 12:41:05.893301: W tensorflow/core/grappler/optimizers/loop_optimizer.cc:933] Skipping loop optimization for Merge node with control input: assert_equal_1/Assert/AssertGuard/branch_executed/_9\n",
      "2024-07-10 12:41:30.646942: W tensorflow/core/grappler/optimizers/loop_optimizer.cc:933] Skipping loop optimization for Merge node with control input: assert_equal_1/Assert/AssertGuard/branch_executed/_9\n",
      "2024-07-10 12:41:30.765854: W tensorflow/core/grappler/optimizers/loop_optimizer.cc:933] Skipping loop optimization for Merge node with control input: assert_equal_1/Assert/AssertGuard/branch_executed/_9\n",
      "2024-07-10 12:41:33.597800: W tensorflow/core/grappler/optimizers/loop_optimizer.cc:933] Skipping loop optimization for Merge node with control input: assert_equal_1/Assert/AssertGuard/branch_executed/_9\n",
      "2024-07-10 12:41:51.329017: W tensorflow/core/grappler/optimizers/loop_optimizer.cc:933] Skipping loop optimization for Merge node with control input: assert_equal_1/Assert/AssertGuard/branch_executed/_9\n",
      "2024-07-10 12:41:51.496208: W tensorflow/core/grappler/optimizers/loop_optimizer.cc:933] Skipping loop optimization for Merge node with control input: assert_equal_1/Assert/AssertGuard/branch_executed/_9\n",
      "2024-07-10 12:41:54.468888: W tensorflow/core/grappler/optimizers/loop_optimizer.cc:933] Skipping loop optimization for Merge node with control input: assert_equal_1/Assert/AssertGuard/branch_executed/_9\n",
      "2024-07-10 12:42:14.679370: W tensorflow/core/grappler/optimizers/loop_optimizer.cc:933] Skipping loop optimization for Merge node with control input: assert_equal_1/Assert/AssertGuard/branch_executed/_9\n",
      "2024-07-10 12:42:14.799850: W tensorflow/core/grappler/optimizers/loop_optimizer.cc:933] Skipping loop optimization for Merge node with control input: assert_equal_1/Assert/AssertGuard/branch_executed/_9\n",
      "2024-07-10 12:42:17.647581: W tensorflow/core/grappler/optimizers/loop_optimizer.cc:933] Skipping loop optimization for Merge node with control input: assert_equal_1/Assert/AssertGuard/branch_executed/_9\n",
      "2024-07-10 12:42:42.445660: W tensorflow/core/grappler/optimizers/loop_optimizer.cc:933] Skipping loop optimization for Merge node with control input: assert_equal_1/Assert/AssertGuard/branch_executed/_9\n",
      "2024-07-10 12:42:42.567568: W tensorflow/core/grappler/optimizers/loop_optimizer.cc:933] Skipping loop optimization for Merge node with control input: assert_equal_1/Assert/AssertGuard/branch_executed/_9\n",
      "2024-07-10 12:42:45.491172: W tensorflow/core/grappler/optimizers/loop_optimizer.cc:933] Skipping loop optimization for Merge node with control input: assert_equal_1/Assert/AssertGuard/branch_executed/_9\n",
      "2024-07-10 12:43:03.646768: W tensorflow/core/grappler/optimizers/loop_optimizer.cc:933] Skipping loop optimization for Merge node with control input: assert_equal_1/Assert/AssertGuard/branch_executed/_9\n",
      "2024-07-10 12:43:03.764989: W tensorflow/core/grappler/optimizers/loop_optimizer.cc:933] Skipping loop optimization for Merge node with control input: assert_equal_1/Assert/AssertGuard/branch_executed/_9\n",
      "2024-07-10 12:43:06.603237: W tensorflow/core/grappler/optimizers/loop_optimizer.cc:933] Skipping loop optimization for Merge node with control input: assert_equal_1/Assert/AssertGuard/branch_executed/_9\n",
      "2024-07-10 12:43:25.106733: W tensorflow/core/grappler/optimizers/loop_optimizer.cc:933] Skipping loop optimization for Merge node with control input: assert_equal_1/Assert/AssertGuard/branch_executed/_9\n",
      "2024-07-10 12:43:25.228507: W tensorflow/core/grappler/optimizers/loop_optimizer.cc:933] Skipping loop optimization for Merge node with control input: assert_equal_1/Assert/AssertGuard/branch_executed/_9\n",
      "2024-07-10 12:43:28.128946: W tensorflow/core/grappler/optimizers/loop_optimizer.cc:933] Skipping loop optimization for Merge node with control input: assert_equal_1/Assert/AssertGuard/branch_executed/_9\n",
      "2024-07-10 12:43:51.926999: W tensorflow/core/grappler/optimizers/loop_optimizer.cc:933] Skipping loop optimization for Merge node with control input: assert_equal_1/Assert/AssertGuard/branch_executed/_9\n",
      "2024-07-10 12:43:52.045793: W tensorflow/core/grappler/optimizers/loop_optimizer.cc:933] Skipping loop optimization for Merge node with control input: assert_equal_1/Assert/AssertGuard/branch_executed/_9\n",
      "2024-07-10 12:43:54.885797: W tensorflow/core/grappler/optimizers/loop_optimizer.cc:933] Skipping loop optimization for Merge node with control input: assert_equal_1/Assert/AssertGuard/branch_executed/_9\n",
      "2024-07-10 12:44:12.042954: W tensorflow/core/grappler/optimizers/loop_optimizer.cc:933] Skipping loop optimization for Merge node with control input: assert_equal_1/Assert/AssertGuard/branch_executed/_9\n",
      "2024-07-10 12:44:12.162174: W tensorflow/core/grappler/optimizers/loop_optimizer.cc:933] Skipping loop optimization for Merge node with control input: assert_equal_1/Assert/AssertGuard/branch_executed/_9\n",
      "2024-07-10 12:44:15.009104: W tensorflow/core/grappler/optimizers/loop_optimizer.cc:933] Skipping loop optimization for Merge node with control input: assert_equal_1/Assert/AssertGuard/branch_executed/_9\n",
      "2024-07-10 12:44:32.056048: W tensorflow/core/grappler/optimizers/loop_optimizer.cc:933] Skipping loop optimization for Merge node with control input: assert_equal_1/Assert/AssertGuard/branch_executed/_9\n",
      "2024-07-10 12:44:32.175725: W tensorflow/core/grappler/optimizers/loop_optimizer.cc:933] Skipping loop optimization for Merge node with control input: assert_equal_1/Assert/AssertGuard/branch_executed/_9\n",
      "2024-07-10 12:44:35.018567: W tensorflow/core/grappler/optimizers/loop_optimizer.cc:933] Skipping loop optimization for Merge node with control input: assert_equal_1/Assert/AssertGuard/branch_executed/_9\n",
      "2024-07-10 12:44:52.057813: W tensorflow/core/grappler/optimizers/loop_optimizer.cc:933] Skipping loop optimization for Merge node with control input: assert_equal_1/Assert/AssertGuard/branch_executed/_9\n",
      "2024-07-10 12:44:52.180971: W tensorflow/core/grappler/optimizers/loop_optimizer.cc:933] Skipping loop optimization for Merge node with control input: assert_equal_1/Assert/AssertGuard/branch_executed/_9\n",
      "2024-07-10 12:44:55.014314: W tensorflow/core/grappler/optimizers/loop_optimizer.cc:933] Skipping loop optimization for Merge node with control input: assert_equal_1/Assert/AssertGuard/branch_executed/_9\n",
      "2024-07-10 12:45:12.082280: W tensorflow/core/grappler/optimizers/loop_optimizer.cc:933] Skipping loop optimization for Merge node with control input: assert_equal_1/Assert/AssertGuard/branch_executed/_9\n",
      "2024-07-10 12:45:12.202294: W tensorflow/core/grappler/optimizers/loop_optimizer.cc:933] Skipping loop optimization for Merge node with control input: assert_equal_1/Assert/AssertGuard/branch_executed/_9\n",
      "2024-07-10 12:45:15.028980: W tensorflow/core/grappler/optimizers/loop_optimizer.cc:933] Skipping loop optimization for Merge node with control input: assert_equal_1/Assert/AssertGuard/branch_executed/_9\n",
      "2024-07-10 12:45:32.116963: W tensorflow/core/grappler/optimizers/loop_optimizer.cc:933] Skipping loop optimization for Merge node with control input: assert_equal_1/Assert/AssertGuard/branch_executed/_9\n",
      "2024-07-10 12:45:32.236692: W tensorflow/core/grappler/optimizers/loop_optimizer.cc:933] Skipping loop optimization for Merge node with control input: assert_equal_1/Assert/AssertGuard/branch_executed/_9\n",
      "2024-07-10 12:45:35.083333: W tensorflow/core/grappler/optimizers/loop_optimizer.cc:933] Skipping loop optimization for Merge node with control input: assert_equal_1/Assert/AssertGuard/branch_executed/_9\n",
      "2024-07-10 12:45:59.758834: W tensorflow/core/grappler/optimizers/loop_optimizer.cc:933] Skipping loop optimization for Merge node with control input: assert_equal_1/Assert/AssertGuard/branch_executed/_9\n",
      "2024-07-10 12:45:59.880654: W tensorflow/core/grappler/optimizers/loop_optimizer.cc:933] Skipping loop optimization for Merge node with control input: assert_equal_1/Assert/AssertGuard/branch_executed/_9\n",
      "2024-07-10 12:46:02.767745: W tensorflow/core/grappler/optimizers/loop_optimizer.cc:933] Skipping loop optimization for Merge node with control input: assert_equal_1/Assert/AssertGuard/branch_executed/_9\n",
      "2024-07-10 12:46:29.386364: W tensorflow/core/grappler/optimizers/loop_optimizer.cc:933] Skipping loop optimization for Merge node with control input: assert_equal_1/Assert/AssertGuard/branch_executed/_9\n",
      "2024-07-10 12:46:29.505487: W tensorflow/core/grappler/optimizers/loop_optimizer.cc:933] Skipping loop optimization for Merge node with control input: assert_equal_1/Assert/AssertGuard/branch_executed/_9\n",
      "2024-07-10 12:46:32.372421: W tensorflow/core/grappler/optimizers/loop_optimizer.cc:933] Skipping loop optimization for Merge node with control input: assert_equal_1/Assert/AssertGuard/branch_executed/_9\n",
      "2024-07-10 12:46:51.228945: W tensorflow/core/grappler/optimizers/loop_optimizer.cc:933] Skipping loop optimization for Merge node with control input: assert_equal_1/Assert/AssertGuard/branch_executed/_9\n",
      "2024-07-10 12:46:51.348218: W tensorflow/core/grappler/optimizers/loop_optimizer.cc:933] Skipping loop optimization for Merge node with control input: assert_equal_1/Assert/AssertGuard/branch_executed/_9\n",
      "2024-07-10 12:46:54.176367: W tensorflow/core/grappler/optimizers/loop_optimizer.cc:933] Skipping loop optimization for Merge node with control input: assert_equal_1/Assert/AssertGuard/branch_executed/_9\n",
      "2024-07-10 12:47:14.864767: W tensorflow/core/grappler/optimizers/loop_optimizer.cc:933] Skipping loop optimization for Merge node with control input: assert_equal_1/Assert/AssertGuard/branch_executed/_9\n",
      "2024-07-10 12:47:15.003504: W tensorflow/core/grappler/optimizers/loop_optimizer.cc:933] Skipping loop optimization for Merge node with control input: assert_equal_1/Assert/AssertGuard/branch_executed/_9\n",
      "2024-07-10 12:47:17.898554: W tensorflow/core/grappler/optimizers/loop_optimizer.cc:933] Skipping loop optimization for Merge node with control input: assert_equal_1/Assert/AssertGuard/branch_executed/_9\n",
      "2024-07-10 12:47:45.573985: W tensorflow/core/grappler/optimizers/loop_optimizer.cc:933] Skipping loop optimization for Merge node with control input: assert_equal_1/Assert/AssertGuard/branch_executed/_9\n",
      "2024-07-10 12:47:45.709481: W tensorflow/core/grappler/optimizers/loop_optimizer.cc:933] Skipping loop optimization for Merge node with control input: assert_equal_1/Assert/AssertGuard/branch_executed/_9\n",
      "2024-07-10 12:47:48.804514: W tensorflow/core/grappler/optimizers/loop_optimizer.cc:933] Skipping loop optimization for Merge node with control input: assert_equal_1/Assert/AssertGuard/branch_executed/_9\n",
      "2024-07-10 12:48:06.993013: W tensorflow/core/grappler/optimizers/loop_optimizer.cc:933] Skipping loop optimization for Merge node with control input: assert_equal_1/Assert/AssertGuard/branch_executed/_9\n",
      "2024-07-10 12:48:07.113726: W tensorflow/core/grappler/optimizers/loop_optimizer.cc:933] Skipping loop optimization for Merge node with control input: assert_equal_1/Assert/AssertGuard/branch_executed/_9\n",
      "2024-07-10 12:48:09.991908: W tensorflow/core/grappler/optimizers/loop_optimizer.cc:933] Skipping loop optimization for Merge node with control input: assert_equal_1/Assert/AssertGuard/branch_executed/_9\n",
      "2024-07-10 12:48:35.905216: W tensorflow/core/grappler/optimizers/loop_optimizer.cc:933] Skipping loop optimization for Merge node with control input: assert_equal_1/Assert/AssertGuard/branch_executed/_9\n",
      "2024-07-10 12:48:36.027461: W tensorflow/core/grappler/optimizers/loop_optimizer.cc:933] Skipping loop optimization for Merge node with control input: assert_equal_1/Assert/AssertGuard/branch_executed/_9\n",
      "2024-07-10 12:48:38.867668: W tensorflow/core/grappler/optimizers/loop_optimizer.cc:933] Skipping loop optimization for Merge node with control input: assert_equal_1/Assert/AssertGuard/branch_executed/_9\n",
      "2024-07-10 12:49:04.064819: W tensorflow/core/grappler/optimizers/loop_optimizer.cc:933] Skipping loop optimization for Merge node with control input: assert_equal_1/Assert/AssertGuard/branch_executed/_9\n",
      "2024-07-10 12:49:04.185568: W tensorflow/core/grappler/optimizers/loop_optimizer.cc:933] Skipping loop optimization for Merge node with control input: assert_equal_1/Assert/AssertGuard/branch_executed/_9\n",
      "2024-07-10 12:49:07.044642: W tensorflow/core/grappler/optimizers/loop_optimizer.cc:933] Skipping loop optimization for Merge node with control input: assert_equal_1/Assert/AssertGuard/branch_executed/_9\n",
      "2024-07-10 12:49:34.313561: W tensorflow/core/grappler/optimizers/loop_optimizer.cc:933] Skipping loop optimization for Merge node with control input: assert_equal_1/Assert/AssertGuard/branch_executed/_9\n",
      "2024-07-10 12:49:34.432858: W tensorflow/core/grappler/optimizers/loop_optimizer.cc:933] Skipping loop optimization for Merge node with control input: assert_equal_1/Assert/AssertGuard/branch_executed/_9\n",
      "2024-07-10 12:49:37.281793: W tensorflow/core/grappler/optimizers/loop_optimizer.cc:933] Skipping loop optimization for Merge node with control input: assert_equal_1/Assert/AssertGuard/branch_executed/_9\n",
      "2024-07-10 12:50:03.348606: W tensorflow/core/grappler/optimizers/loop_optimizer.cc:933] Skipping loop optimization for Merge node with control input: assert_equal_1/Assert/AssertGuard/branch_executed/_9\n",
      "2024-07-10 12:50:03.467253: W tensorflow/core/grappler/optimizers/loop_optimizer.cc:933] Skipping loop optimization for Merge node with control input: assert_equal_1/Assert/AssertGuard/branch_executed/_9\n",
      "2024-07-10 12:50:06.331244: W tensorflow/core/grappler/optimizers/loop_optimizer.cc:933] Skipping loop optimization for Merge node with control input: assert_equal_1/Assert/AssertGuard/branch_executed/_9\n",
      "2024-07-10 12:50:24.112325: W tensorflow/core/grappler/optimizers/loop_optimizer.cc:933] Skipping loop optimization for Merge node with control input: assert_equal_1/Assert/AssertGuard/branch_executed/_9\n",
      "2024-07-10 12:50:24.231283: W tensorflow/core/grappler/optimizers/loop_optimizer.cc:933] Skipping loop optimization for Merge node with control input: assert_equal_1/Assert/AssertGuard/branch_executed/_9\n",
      "2024-07-10 12:50:27.069300: W tensorflow/core/grappler/optimizers/loop_optimizer.cc:933] Skipping loop optimization for Merge node with control input: assert_equal_1/Assert/AssertGuard/branch_executed/_9\n",
      "2024-07-10 12:50:45.104041: W tensorflow/core/grappler/optimizers/loop_optimizer.cc:933] Skipping loop optimization for Merge node with control input: assert_equal_1/Assert/AssertGuard/branch_executed/_9\n",
      "2024-07-10 12:50:45.223199: W tensorflow/core/grappler/optimizers/loop_optimizer.cc:933] Skipping loop optimization for Merge node with control input: assert_equal_1/Assert/AssertGuard/branch_executed/_9\n",
      "2024-07-10 12:50:48.057317: W tensorflow/core/grappler/optimizers/loop_optimizer.cc:933] Skipping loop optimization for Merge node with control input: assert_equal_1/Assert/AssertGuard/branch_executed/_9\n",
      "2024-07-10 12:51:12.826635: W tensorflow/core/grappler/optimizers/loop_optimizer.cc:933] Skipping loop optimization for Merge node with control input: assert_equal_1/Assert/AssertGuard/branch_executed/_9\n",
      "2024-07-10 12:51:12.946692: W tensorflow/core/grappler/optimizers/loop_optimizer.cc:933] Skipping loop optimization for Merge node with control input: assert_equal_1/Assert/AssertGuard/branch_executed/_9\n",
      "2024-07-10 12:51:15.785922: W tensorflow/core/grappler/optimizers/loop_optimizer.cc:933] Skipping loop optimization for Merge node with control input: assert_equal_1/Assert/AssertGuard/branch_executed/_9\n",
      "2024-07-10 12:51:40.910469: W tensorflow/core/grappler/optimizers/loop_optimizer.cc:933] Skipping loop optimization for Merge node with control input: assert_equal_1/Assert/AssertGuard/branch_executed/_9\n",
      "2024-07-10 12:51:41.029173: W tensorflow/core/grappler/optimizers/loop_optimizer.cc:933] Skipping loop optimization for Merge node with control input: assert_equal_1/Assert/AssertGuard/branch_executed/_9\n",
      "2024-07-10 12:51:43.875291: W tensorflow/core/grappler/optimizers/loop_optimizer.cc:933] Skipping loop optimization for Merge node with control input: assert_equal_1/Assert/AssertGuard/branch_executed/_9\n",
      "2024-07-10 12:52:08.745465: W tensorflow/core/grappler/optimizers/loop_optimizer.cc:933] Skipping loop optimization for Merge node with control input: assert_equal_1/Assert/AssertGuard/branch_executed/_9\n",
      "2024-07-10 12:52:08.866401: W tensorflow/core/grappler/optimizers/loop_optimizer.cc:933] Skipping loop optimization for Merge node with control input: assert_equal_1/Assert/AssertGuard/branch_executed/_9\n",
      "2024-07-10 12:52:11.728055: W tensorflow/core/grappler/optimizers/loop_optimizer.cc:933] Skipping loop optimization for Merge node with control input: assert_equal_1/Assert/AssertGuard/branch_executed/_9\n",
      "2024-07-10 12:52:28.682125: W tensorflow/core/grappler/optimizers/loop_optimizer.cc:933] Skipping loop optimization for Merge node with control input: assert_equal_1/Assert/AssertGuard/branch_executed/_9\n",
      "2024-07-10 12:52:28.802979: W tensorflow/core/grappler/optimizers/loop_optimizer.cc:933] Skipping loop optimization for Merge node with control input: assert_equal_1/Assert/AssertGuard/branch_executed/_9\n",
      "2024-07-10 12:52:31.630705: W tensorflow/core/grappler/optimizers/loop_optimizer.cc:933] Skipping loop optimization for Merge node with control input: assert_equal_1/Assert/AssertGuard/branch_executed/_9\n",
      "2024-07-10 12:52:55.417314: W tensorflow/core/grappler/optimizers/loop_optimizer.cc:933] Skipping loop optimization for Merge node with control input: assert_equal_1/Assert/AssertGuard/branch_executed/_9\n",
      "2024-07-10 12:52:55.536691: W tensorflow/core/grappler/optimizers/loop_optimizer.cc:933] Skipping loop optimization for Merge node with control input: assert_equal_1/Assert/AssertGuard/branch_executed/_9\n",
      "2024-07-10 12:52:58.372304: W tensorflow/core/grappler/optimizers/loop_optimizer.cc:933] Skipping loop optimization for Merge node with control input: assert_equal_1/Assert/AssertGuard/branch_executed/_9\n",
      "2024-07-10 12:53:15.535275: W tensorflow/core/grappler/optimizers/loop_optimizer.cc:933] Skipping loop optimization for Merge node with control input: assert_equal_1/Assert/AssertGuard/branch_executed/_9\n",
      "2024-07-10 12:53:15.654772: W tensorflow/core/grappler/optimizers/loop_optimizer.cc:933] Skipping loop optimization for Merge node with control input: assert_equal_1/Assert/AssertGuard/branch_executed/_9\n",
      "2024-07-10 12:53:18.507500: W tensorflow/core/grappler/optimizers/loop_optimizer.cc:933] Skipping loop optimization for Merge node with control input: assert_equal_1/Assert/AssertGuard/branch_executed/_9\n",
      "2024-07-10 12:53:35.811489: W tensorflow/core/grappler/optimizers/loop_optimizer.cc:933] Skipping loop optimization for Merge node with control input: assert_equal_1/Assert/AssertGuard/branch_executed/_9\n",
      "2024-07-10 12:53:35.931927: W tensorflow/core/grappler/optimizers/loop_optimizer.cc:933] Skipping loop optimization for Merge node with control input: assert_equal_1/Assert/AssertGuard/branch_executed/_9\n",
      "2024-07-10 12:53:38.785731: W tensorflow/core/grappler/optimizers/loop_optimizer.cc:933] Skipping loop optimization for Merge node with control input: assert_equal_1/Assert/AssertGuard/branch_executed/_9\n",
      "2024-07-10 12:54:03.256558: W tensorflow/core/grappler/optimizers/loop_optimizer.cc:933] Skipping loop optimization for Merge node with control input: assert_equal_1/Assert/AssertGuard/branch_executed/_9\n",
      "2024-07-10 12:54:03.377476: W tensorflow/core/grappler/optimizers/loop_optimizer.cc:933] Skipping loop optimization for Merge node with control input: assert_equal_1/Assert/AssertGuard/branch_executed/_9\n",
      "2024-07-10 12:54:06.212905: W tensorflow/core/grappler/optimizers/loop_optimizer.cc:933] Skipping loop optimization for Merge node with control input: assert_equal_1/Assert/AssertGuard/branch_executed/_9\n"
     ]
    }
   ],
   "execution_count": 14
  },
  {
   "metadata": {
    "ExecuteTime": {
     "end_time": "2024-07-10T10:54:07.326615Z",
     "start_time": "2024-07-10T10:54:07.319733Z"
    }
   },
   "cell_type": "code",
   "source": [
    "mean_dauc_rise = np.sum(daucs_rise) / k_first_samples\n",
    "std_dauc_rise = np.std(daucs_rise, ddof=1)\n",
    "mean_dauc_lime = np.sum(daucs_lime) / k_first_samples\n",
    "std_dauc_lime = np.std(daucs_lime, ddof=1)\n",
    "mean_daus_shap = np.sum(daucs_shap) / k_first_samples\n",
    "std_dauc_shap = np.std(daucs_shap, ddof=1)"
   ],
   "id": "60ef4d0da03150b3",
   "outputs": [],
   "execution_count": 15
  },
  {
   "metadata": {
    "ExecuteTime": {
     "end_time": "2024-07-10T10:54:07.334029Z",
     "start_time": "2024-07-10T10:54:07.327736Z"
    }
   },
   "cell_type": "code",
   "source": [
    "print(f\"Normalized Mean DAUC of RISE = {mean_dauc_rise}\")\n",
    "print(f\"Normalized Mean DAUC of LIME = {mean_dauc_lime}\")\n",
    "print(f\"Normalized Mean DAUC of SHAP = {mean_daus_shap}\")\n",
    "\n",
    "print(f\"Normalized Standard-Deviation of RISE = {std_dauc_rise}\")\n",
    "print(f\"Normalized Standard-Deviation of LIME = {std_dauc_rise}\")\n",
    "print(f\"Normalized Standard-Deviation of SHAP = {std_dauc_shap}\")"
   ],
   "id": "e2fa99f5ff54d43b",
   "outputs": [
    {
     "name": "stdout",
     "output_type": "stream",
     "text": [
      "Normalized Mean DAUC of RISE = 0.7535948126751151\n",
      "Normalized Mean DAUC of LIME = 0.9849611859122916\n",
      "Normalized Mean DAUC of SHAP = 0.9928836413939792\n",
      "Normalized Standard-Deviation of RISE = 0.15602534932004625\n",
      "Normalized Standard-Deviation of LIME = 0.15602534932004625\n",
      "Normalized Standard-Deviation of SHAP = 0.0017173060866817569\n"
     ]
    }
   ],
   "execution_count": 16
  },
  {
   "metadata": {},
   "cell_type": "markdown",
   "source": [
    "<h3>Values during last run</h3>\n",
    "\n",
    "Normalized Mean DAUC of RISE = 113.06429260572881\n",
    "\n",
    "Normalized Mean DAUC of LIME = 147.20297550216318\n",
    "\n",
    "Normalized Mean DAUC of SHAP = 148.96554165363312\n",
    "\n",
    "Normalized Standard-Deviation of RISE = 22.823622156649087\n",
    "\n",
    "Normalized Standard-Deviation of LIME = 22.823622156649087\n",
    "\n",
    "Normalized Standard-Deviation of SHAP = 0.15499861026076597"
   ],
   "id": "ad5bf0f9217c68bc"
  },
  {
   "metadata": {},
   "cell_type": "markdown",
   "source": [
    "According to the mean dauc, the RISE method performs better more often. We will focus on the saliency maps generated by rise, to derive features of a good explanation, for the zero classification.\n",
    "Generally, the highlighted regions of RISE contain both side of the zero, with visually the same importance. However, there seem to be some zeros, where the sides dont seem to be equally important. \n",
    "We will create a list of indices, to rerun RISE with those zeros, but with a higher number of masks than 10^4. If both sides then are equally important, the random mask generation is at fault. But if it stays \n",
    "the same, i.e the sides are still note equally important, it is more likely, that we have to different groups of zeros at hand."
   ],
   "id": "6c2bde02e87aa384"
  },
  {
   "metadata": {},
   "cell_type": "markdown",
   "source": [
    "<h4>Hypothesis-Section: Asymmetrical Classes of Zero are likely to exist. Approximate Runtime of this cell ~ 1 hour, which is why we run this method only, if the user explicitly wished to do so.\n",
    "Results probabaly will not vary much anyway, due to the high number of masks.</h4>"
   ],
   "id": "c045c86dca803597"
  },
  {
   "metadata": {
    "ExecuteTime": {
     "end_time": "2024-07-10T10:54:07.344137Z",
     "start_time": "2024-07-10T10:54:07.335788Z"
    }
   },
   "cell_type": "code",
   "source": [
    "def rerun_rise_with_50_000_masks_to_increase_likelihood_of_asymmetrical_masks(to_be_called:bool=False):\n",
    "    \"\"\"\n",
    "    As it could be the case, that the zeros with asymmetrical lateral importance, are due to not having both sides equally covered, we rerun RISE on those inputs, \n",
    "    but with a higher number of masks (50.000), to increase the odds, of having at least 2 classes in our zeros, those with equal lateral importance and those \n",
    "    with unequal lateral importance\n",
    "    :param to_be_called: set this parameter to true, if you want to run this function, in the following cell\n",
    "    :return: nothing, but the generated images can be found in the \"rise_asymmetrical_tests\" directoy\n",
    "    \"\"\"\n",
    "    if not to_be_called:\n",
    "        return \n",
    "    \n",
    "    # These numbers were derived from the saliency_maps image folder, where the sides do not seem to be equally important\n",
    "    indices = [\n",
    "        7, 8, 10, 11, 14, 26, 29, 31, 39, 40, 44, 47, 48, 49, 51, 53, 54, 59, 66, 68, 69, 71, 72, 73, 74, 75, 77, 78, 81, 82, 83, 85, 86, 88, 90, 93, 94, 95, 96, 97, 99\n",
    "    ]\n",
    "    \n",
    "    for index in indices:\n",
    "        zero = training_data_with_0_target_class[index - 1]\n",
    "        zero = zero.numpy().reshape(1, 28, 28).astype(np.float32)\n",
    "        saliency_map_rise = dianna.explain_image(model_path, zero, method=\"RISE\", labels=[0], n_masks=5*10**4, axis_labels=axis_labels, p_keep=0.5)\n",
    "        plt.subplot(1, 1, 1)\n",
    "        plt.title(\"RISE\")\n",
    "        plt.imshow(saliency_map_rise.reshape(28, 28))\n",
    "        plt.imshow(zero.reshape(28, 28), alpha=.3, cmap=\"grey\")\n",
    "        plt.axis('off')\n",
    "        plt.savefig(f\"images/rise_asymmetrical_tests/{index}_rise_asymmetrical_zero_test.png\")\n",
    "        plt.close()"
   ],
   "id": "dba265a5f5037b76",
   "outputs": [],
   "execution_count": 17
  },
  {
   "metadata": {
    "ExecuteTime": {
     "end_time": "2024-07-10T11:41:55.658378Z",
     "start_time": "2024-07-10T10:54:07.347258Z"
    }
   },
   "cell_type": "code",
   "source": "rerun_rise_with_50_000_masks_to_increase_likelihood_of_asymmetrical_masks(to_be_called=False)",
   "id": "e05c06f9f897dad3",
   "outputs": [
    {
     "name": "stderr",
     "output_type": "stream",
     "text": [
      "Explaining: 100%|██████████| 50000/50000 [01:07<00:00, 746.21it/s]\n",
      "Explaining: 100%|██████████| 50000/50000 [01:06<00:00, 753.43it/s]\n",
      "Explaining: 100%|██████████| 50000/50000 [01:07<00:00, 744.24it/s]\n",
      "Explaining: 100%|██████████| 50000/50000 [01:10<00:00, 713.78it/s]\n",
      "Explaining: 100%|██████████| 50000/50000 [01:06<00:00, 753.95it/s]\n",
      "Explaining: 100%|██████████| 50000/50000 [01:08<00:00, 734.49it/s]\n",
      "Explaining: 100%|██████████| 50000/50000 [01:06<00:00, 752.35it/s]\n",
      "Explaining: 100%|██████████| 50000/50000 [01:06<00:00, 753.93it/s]\n",
      "Explaining: 100%|██████████| 50000/50000 [01:06<00:00, 756.91it/s]\n",
      "Explaining: 100%|██████████| 50000/50000 [01:07<00:00, 743.88it/s]\n",
      "Explaining: 100%|██████████| 50000/50000 [01:09<00:00, 720.78it/s]\n",
      "Explaining: 100%|██████████| 50000/50000 [01:10<00:00, 705.24it/s]\n",
      "Explaining: 100%|██████████| 50000/50000 [01:05<00:00, 759.08it/s]\n",
      "Explaining: 100%|██████████| 50000/50000 [01:07<00:00, 744.86it/s]\n",
      "Explaining: 100%|██████████| 50000/50000 [01:06<00:00, 752.94it/s]\n",
      "Explaining: 100%|██████████| 50000/50000 [01:05<00:00, 763.82it/s]\n",
      "Explaining: 100%|██████████| 50000/50000 [01:05<00:00, 759.35it/s]\n",
      "Explaining: 100%|██████████| 50000/50000 [01:07<00:00, 740.01it/s]\n",
      "Explaining: 100%|██████████| 50000/50000 [01:10<00:00, 710.65it/s]\n",
      "Explaining: 100%|██████████| 50000/50000 [01:12<00:00, 689.92it/s]\n",
      "Explaining: 100%|██████████| 50000/50000 [01:14<00:00, 667.81it/s]\n",
      "Explaining: 100%|██████████| 50000/50000 [01:11<00:00, 702.42it/s]\n",
      "Explaining: 100%|██████████| 50000/50000 [01:09<00:00, 721.23it/s]\n",
      "Explaining: 100%|██████████| 50000/50000 [01:05<00:00, 760.25it/s]\n",
      "Explaining: 100%|██████████| 50000/50000 [01:05<00:00, 768.68it/s]\n",
      "Explaining: 100%|██████████| 50000/50000 [01:05<00:00, 758.74it/s]\n",
      "Explaining: 100%|██████████| 50000/50000 [01:05<00:00, 759.19it/s]\n",
      "Explaining: 100%|██████████| 50000/50000 [01:05<00:00, 762.11it/s]\n",
      "Explaining: 100%|██████████| 50000/50000 [01:06<00:00, 755.76it/s]\n",
      "Explaining: 100%|██████████| 50000/50000 [01:05<00:00, 760.65it/s]\n",
      "Explaining: 100%|██████████| 50000/50000 [01:05<00:00, 762.38it/s]\n",
      "Explaining: 100%|██████████| 50000/50000 [01:05<00:00, 765.81it/s]\n",
      "Explaining: 100%|██████████| 50000/50000 [01:05<00:00, 761.87it/s]\n",
      "Explaining: 100%|██████████| 50000/50000 [01:05<00:00, 760.63it/s]\n",
      "Explaining: 100%|██████████| 50000/50000 [01:05<00:00, 761.24it/s]\n",
      "Explaining: 100%|██████████| 50000/50000 [01:05<00:00, 760.88it/s]\n",
      "Explaining: 100%|██████████| 50000/50000 [01:12<00:00, 688.01it/s]\n",
      "Explaining: 100%|██████████| 50000/50000 [01:05<00:00, 762.43it/s]\n",
      "Explaining: 100%|██████████| 50000/50000 [01:08<00:00, 728.71it/s]\n",
      "Explaining: 100%|██████████| 50000/50000 [01:05<00:00, 761.48it/s]\n",
      "Explaining: 100%|██████████| 50000/50000 [01:06<00:00, 753.14it/s]\n"
     ]
    }
   ],
   "execution_count": 18
  }
 ],
 "metadata": {
  "kernelspec": {
   "display_name": "Python 3",
   "language": "python",
   "name": "python3"
  },
  "language_info": {
   "codemirror_mode": {
    "name": "ipython",
    "version": 3
   },
   "file_extension": ".py",
   "mimetype": "text/x-python",
   "name": "python",
   "nbconvert_exporter": "python",
   "pygments_lexer": "ipython3",
   "version": "3.11.9"
  }
 },
 "nbformat": 4,
 "nbformat_minor": 5
}
